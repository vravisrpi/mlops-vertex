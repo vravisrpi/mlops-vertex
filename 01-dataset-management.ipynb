{
 "cells": [
  {
   "cell_type": "markdown",
   "id": "48be0f6b",
   "metadata": {},
   "source": [
    "# 01 - Data Analysis and Preparation\n",
    "\n",
    "This notebook covers the following tasks:\n",
    "\n",
    "1. Perform exploratory data analysis and visualization.\n",
    "2. Prepare the data for the ML task in BigQuery.\n",
    "3. Generate and fix a ` TFDV schema` for the source data.\n",
    "4. Create a `Vertex Dataset resource` dataset.\n"
   ]
  },
  {
   "cell_type": "markdown",
   "id": "61a13239",
   "metadata": {},
   "source": [
    "## Dataset\n",
    "\n",
    "The [Chicago Taxi Trips](https://pantheon.corp.google.com/marketplace/details/city-of-chicago-public-data/chicago-taxi-trips) dataset is one of [public datasets hosted with BigQuery](https://cloud.google.com/bigquery/public-data/), which includes taxi trips from 2013 to the present, reported to the City of Chicago in its role as a regulatory agency. The `taxi_trips` table size is 70.72 GB and includes more than 195 million records. The dataset includes information about the trips, like pickup and dropoff datetime and location, passengers count, miles travelled, and trip toll. \n",
    "\n",
    "The ML task is to predict whether a given trip will result in a tip > 20%."
   ]
  },
  {
   "cell_type": "markdown",
   "id": "eb760051",
   "metadata": {},
   "source": [
    "## Setup"
   ]
  },
  {
   "cell_type": "markdown",
   "id": "6a779601",
   "metadata": {},
   "source": [
    "### Import libraries"
   ]
  },
  {
   "cell_type": "code",
   "execution_count": 1,
   "id": "a899be23",
   "metadata": {},
   "outputs": [],
   "source": [
    "import os\n",
    "import pandas as pd\n",
    "import tensorflow as tf\n",
    "import tensorflow_data_validation as tfdv\n",
    "from google.cloud import bigquery\n",
    "import matplotlib.pyplot as plt\n",
    "\n",
    "from google.cloud import aiplatform as vertex_ai\n",
    "from google.cloud import aiplatform_v1beta1 as vertex_ai_beta"
   ]
  },
  {
   "cell_type": "markdown",
   "id": "36ef8892",
   "metadata": {},
   "source": [
    "### Setup Google Cloud project"
   ]
  },
  {
   "cell_type": "code",
   "execution_count": 2,
   "id": "8ad2133b",
   "metadata": {},
   "outputs": [
    {
     "name": "stdout",
     "output_type": "stream",
     "text": [
      "Project ID: 175728527123\n",
      "Region: us-west1-b\n"
     ]
    }
   ],
   "source": [
    "PROJECT = '175728527123' # Change to your project id.\n",
    "REGION = 'us-west1-b' # Change to your region.\n",
    "\n",
    "if PROJECT == \"\" or PROJECT is None or PROJECT == \"[your-project-id]\":\n",
    "    # Get your GCP project id from gcloud\n",
    "    shell_output = !gcloud config list --format 'value(core.project)' 2>/dev/null\n",
    "    PROJECT = shell_output[0]\n",
    "    \n",
    "print(\"Project ID:\", PROJECT)\n",
    "print(\"Region:\", REGION)"
   ]
  },
  {
   "cell_type": "markdown",
   "id": "6a4374d0",
   "metadata": {},
   "source": [
    "### Set configurations"
   ]
  },
  {
   "cell_type": "code",
   "execution_count": 3,
   "id": "ec29c1b2",
   "metadata": {},
   "outputs": [],
   "source": [
    "BQ_DATASET_NAME = 'playground_us' # Change to your BQ dataset name.\n",
    "BQ_TABLE_NAME = 'chicago_taxitrips_prep'\n",
    "BQ_LOCATION = 'US'\n",
    "\n",
    "DATASET_DISPLAY_NAME = 'chicago-taxi-tips'\n",
    "\n",
    "RAW_SCHEMA_DIR = 'src/raw_schema'"
   ]
  },
  {
   "cell_type": "markdown",
   "id": "43cc57a5",
   "metadata": {},
   "source": [
    "## 1. Explore the data in BigQuery"
   ]
  },
  {
   "cell_type": "code",
   "execution_count": 4,
   "id": "96ba2c98",
   "metadata": {},
   "outputs": [
    {
     "name": "stderr",
     "output_type": "stream",
     "text": [
      "Query complete after 0.00s: 100%|██████████| 1/1 [00:00<00:00, 728.43query/s] \n",
      "Downloading: 100%|██████████| 7/7 [00:01<00:00,  4.01rows/s]\n"
     ]
    }
   ],
   "source": [
    "%%bigquery data\n",
    "\n",
    "SELECT \n",
    "    CAST(EXTRACT(DAYOFWEEK FROM trip_start_timestamp) AS string) AS trip_dayofweek, \n",
    "    FORMAT_DATE('%A',cast(trip_start_timestamp as date)) AS trip_dayname,\n",
    "    COUNT(*) as trip_count,\n",
    "FROM `bigquery-public-data.chicago_taxi_trips.taxi_trips`\n",
    "WHERE\n",
    "    EXTRACT(YEAR FROM trip_start_timestamp) = 2015 \n",
    "GROUP BY\n",
    "    trip_dayofweek,\n",
    "    trip_dayname\n",
    "ORDER BY\n",
    "    trip_dayofweek\n",
    ";"
   ]
  },
  {
   "cell_type": "code",
   "execution_count": 5,
   "id": "fb9b43e3",
   "metadata": {},
   "outputs": [
    {
     "data": {
      "text/html": [
       "<div>\n",
       "<style scoped>\n",
       "    .dataframe tbody tr th:only-of-type {\n",
       "        vertical-align: middle;\n",
       "    }\n",
       "\n",
       "    .dataframe tbody tr th {\n",
       "        vertical-align: top;\n",
       "    }\n",
       "\n",
       "    .dataframe thead th {\n",
       "        text-align: right;\n",
       "    }\n",
       "</style>\n",
       "<table border=\"1\" class=\"dataframe\">\n",
       "  <thead>\n",
       "    <tr style=\"text-align: right;\">\n",
       "      <th></th>\n",
       "      <th>trip_dayofweek</th>\n",
       "      <th>trip_dayname</th>\n",
       "      <th>trip_count</th>\n",
       "    </tr>\n",
       "  </thead>\n",
       "  <tbody>\n",
       "    <tr>\n",
       "      <th>0</th>\n",
       "      <td>1</td>\n",
       "      <td>Sunday</td>\n",
       "      <td>4141154</td>\n",
       "    </tr>\n",
       "    <tr>\n",
       "      <th>1</th>\n",
       "      <td>2</td>\n",
       "      <td>Monday</td>\n",
       "      <td>4105900</td>\n",
       "    </tr>\n",
       "    <tr>\n",
       "      <th>2</th>\n",
       "      <td>3</td>\n",
       "      <td>Tuesday</td>\n",
       "      <td>4378805</td>\n",
       "    </tr>\n",
       "    <tr>\n",
       "      <th>3</th>\n",
       "      <td>4</td>\n",
       "      <td>Wednesday</td>\n",
       "      <td>4542810</td>\n",
       "    </tr>\n",
       "    <tr>\n",
       "      <th>4</th>\n",
       "      <td>5</td>\n",
       "      <td>Thursday</td>\n",
       "      <td>4918190</td>\n",
       "    </tr>\n",
       "    <tr>\n",
       "      <th>5</th>\n",
       "      <td>6</td>\n",
       "      <td>Friday</td>\n",
       "      <td>5289830</td>\n",
       "    </tr>\n",
       "    <tr>\n",
       "      <th>6</th>\n",
       "      <td>7</td>\n",
       "      <td>Saturday</td>\n",
       "      <td>5009186</td>\n",
       "    </tr>\n",
       "  </tbody>\n",
       "</table>\n",
       "</div>"
      ],
      "text/plain": [
       "  trip_dayofweek trip_dayname  trip_count\n",
       "0              1       Sunday     4141154\n",
       "1              2       Monday     4105900\n",
       "2              3      Tuesday     4378805\n",
       "3              4    Wednesday     4542810\n",
       "4              5     Thursday     4918190\n",
       "5              6       Friday     5289830\n",
       "6              7     Saturday     5009186"
      ]
     },
     "execution_count": 5,
     "metadata": {},
     "output_type": "execute_result"
    }
   ],
   "source": [
    "data"
   ]
  },
  {
   "cell_type": "code",
   "execution_count": 6,
   "id": "e4c16319",
   "metadata": {},
   "outputs": [
    {
     "data": {
      "text/plain": [
       "<AxesSubplot:xlabel='trip_dayname'>"
      ]
     },
     "execution_count": 6,
     "metadata": {},
     "output_type": "execute_result"
    },
    {
     "data": {
      "image/png": "[encoded data removed]",
      "text/plain": [
       "<Figure size 432x288 with 1 Axes>"
      ]
     },
     "metadata": {
      "needs_background": "light"
     },
     "output_type": "display_data"
    }
   ],
   "source": [
    "data.plot(kind='bar', x='trip_dayname', y='trip_count')"
   ]
  },
  {
   "cell_type": "markdown",
   "id": "cfd926dd",
   "metadata": {},
   "source": [
    "## 2. Create data for the ML task\n",
    "\n",
    "We add a `ML_use` column for pre-splitting the data, where 80% of the datsa items are set to `UNASSIGNED` while the other 20% is set to `TEST`.\n",
    "\n",
    "This column is used during training (custom and AutoML) to split the dataset for training and test.\n",
    "\n",
    "In the training phase, the `UNASSIGNED` are split into `train` and `eval`. The `TEST` split is will be used for the final model validation."
   ]
  },
  {
   "cell_type": "markdown",
   "id": "6c7efe3d",
   "metadata": {},
   "source": [
    "### Create destination BigQuery dataset"
   ]
  },
  {
   "cell_type": "code",
   "execution_count": 7,
   "id": "8b49f5b5",
   "metadata": {},
   "outputs": [
    {
     "name": "stdout",
     "output_type": "stream",
     "text": [
      "BigQuery error in mk operation: Dataset '175728527123:playground_us' already\n",
      "exists.\n"
     ]
    }
   ],
   "source": [
    "!bq --location=US mk -d \\\n",
    "$PROJECT:$BQ_DATASET_NAME"
   ]
  },
  {
   "cell_type": "code",
   "execution_count": 8,
   "id": "74ec4889",
   "metadata": {},
   "outputs": [],
   "source": [
    "sample_size = 1000000\n",
    "year = 2020"
   ]
  },
  {
   "cell_type": "code",
   "execution_count": 9,
   "id": "e3e0284c",
   "metadata": {},
   "outputs": [],
   "source": [
    "\n",
    "sql_script = '''\n",
    "CREATE OR REPLACE TABLE `@PROJECT.@DATASET.@TABLE` \n",
    "AS (\n",
    "    WITH\n",
    "      taxitrips AS (\n",
    "      SELECT\n",
    "        trip_start_timestamp,\n",
    "        trip_seconds,\n",
    "        trip_miles,\n",
    "        payment_type,\n",
    "        pickup_longitude,\n",
    "        pickup_latitude,\n",
    "        dropoff_longitude,\n",
    "        dropoff_latitude,\n",
    "        tips,\n",
    "        fare\n",
    "      FROM\n",
    "        `bigquery-public-data.chicago_taxi_trips.taxi_trips`\n",
    "      WHERE 1=1 \n",
    "      AND pickup_longitude IS NOT NULL\n",
    "      AND pickup_latitude IS NOT NULL\n",
    "      AND dropoff_longitude IS NOT NULL\n",
    "      AND dropoff_latitude IS NOT NULL\n",
    "      AND trip_miles > 0\n",
    "      AND trip_seconds > 0\n",
    "      AND fare > 0\n",
    "      AND EXTRACT(YEAR FROM trip_start_timestamp) = @YEAR\n",
    "    )\n",
    "\n",
    "    SELECT\n",
    "      trip_start_timestamp,\n",
    "      EXTRACT(MONTH from trip_start_timestamp) as trip_month,\n",
    "      EXTRACT(DAY from trip_start_timestamp) as trip_day,\n",
    "      EXTRACT(DAYOFWEEK from trip_start_timestamp) as trip_day_of_week,\n",
    "      EXTRACT(HOUR from trip_start_timestamp) as trip_hour,\n",
    "      trip_seconds,\n",
    "      trip_miles,\n",
    "      payment_type,\n",
    "      ST_AsText(\n",
    "          ST_SnapToGrid(ST_GeogPoint(pickup_longitude, pickup_latitude), 0.1)\n",
    "      ) AS pickup_grid,\n",
    "      ST_AsText(\n",
    "          ST_SnapToGrid(ST_GeogPoint(dropoff_longitude, dropoff_latitude), 0.1)\n",
    "      ) AS dropoff_grid,\n",
    "      ST_Distance(\n",
    "          ST_GeogPoint(pickup_longitude, pickup_latitude), \n",
    "          ST_GeogPoint(dropoff_longitude, dropoff_latitude)\n",
    "      ) AS euclidean,\n",
    "      CONCAT(\n",
    "          ST_AsText(ST_SnapToGrid(ST_GeogPoint(pickup_longitude,\n",
    "              pickup_latitude), 0.1)), \n",
    "          ST_AsText(ST_SnapToGrid(ST_GeogPoint(dropoff_longitude,\n",
    "              dropoff_latitude), 0.1))\n",
    "      ) AS loc_cross,\n",
    "      IF((tips/fare >= 0.2), 1, 0) AS tip_bin,\n",
    "      IF(RAND() <= 0.8, 'UNASSIGNED', 'TEST') AS ML_use\n",
    "    FROM\n",
    "      taxitrips\n",
    "    LIMIT @LIMIT\n",
    ")\n",
    "'''"
   ]
  },
  {
   "cell_type": "code",
   "execution_count": 10,
   "id": "4b8e6edc",
   "metadata": {},
   "outputs": [],
   "source": [
    "sql_script = sql_script.replace(\n",
    "    '@PROJECT', PROJECT).replace(\n",
    "    '@DATASET', BQ_DATASET_NAME).replace(\n",
    "    '@TABLE', BQ_TABLE_NAME).replace(\n",
    "    '@YEAR', str(year)).replace(\n",
    "    '@LIMIT', str(sample_size))"
   ]
  },
  {
   "cell_type": "code",
   "execution_count": 11,
   "id": "f49c576c",
   "metadata": {},
   "outputs": [
    {
     "name": "stdout",
     "output_type": "stream",
     "text": [
      "\n",
      "CREATE OR REPLACE TABLE `175728527123.playground_us.chicago_taxitrips_prep` \n",
      "AS (\n",
      "    WITH\n",
      "      taxitrips AS (\n",
      "      SELECT\n",
      "        trip_start_timestamp,\n",
      "        trip_seconds,\n",
      "        trip_miles,\n",
      "        payment_type,\n",
      "        pickup_longitude,\n",
      "        pickup_latitude,\n",
      "        dropoff_longitude,\n",
      "        dropoff_latitude,\n",
      "        tips,\n",
      "        fare\n",
      "      FROM\n",
      "        `bigquery-public-data.chicago_taxi_trips.taxi_trips`\n",
      "      WHERE 1=1 \n",
      "      AND pickup_longitude IS NOT NULL\n",
      "      AND pickup_latitude IS NOT NULL\n",
      "      AND dropoff_longitude IS NOT NULL\n",
      "      AND dropoff_latitude IS NOT NULL\n",
      "      AND trip_miles > 0\n",
      "      AND trip_seconds > 0\n",
      "      AND fare > 0\n",
      "      AND EXTRACT(YEAR FROM trip_start_timestamp) = 2020\n",
      "    )\n",
      "\n",
      "    SELECT\n",
      "      trip_start_timestamp,\n",
      "      EXTRACT(MONTH from trip_start_timestamp) as trip_month,\n",
      "      EXTRACT(DAY from trip_start_timestamp) as trip_day,\n",
      "      EXTRACT(DAYOFWEEK from trip_start_timestamp) as trip_day_of_week,\n",
      "      EXTRACT(HOUR from trip_start_timestamp) as trip_hour,\n",
      "      trip_seconds,\n",
      "      trip_miles,\n",
      "      payment_type,\n",
      "      ST_AsText(\n",
      "          ST_SnapToGrid(ST_GeogPoint(pickup_longitude, pickup_latitude), 0.1)\n",
      "      ) AS pickup_grid,\n",
      "      ST_AsText(\n",
      "          ST_SnapToGrid(ST_GeogPoint(dropoff_longitude, dropoff_latitude), 0.1)\n",
      "      ) AS dropoff_grid,\n",
      "      ST_Distance(\n",
      "          ST_GeogPoint(pickup_longitude, pickup_latitude), \n",
      "          ST_GeogPoint(dropoff_longitude, dropoff_latitude)\n",
      "      ) AS euclidean,\n",
      "      CONCAT(\n",
      "          ST_AsText(ST_SnapToGrid(ST_GeogPoint(pickup_longitude,\n",
      "              pickup_latitude), 0.1)), \n",
      "          ST_AsText(ST_SnapToGrid(ST_GeogPoint(dropoff_longitude,\n",
      "              dropoff_latitude), 0.1))\n",
      "      ) AS loc_cross,\n",
      "      IF((tips/fare >= 0.2), 1, 0) AS tip_bin,\n",
      "      IF(RAND() <= 0.8, 'UNASSIGNED', 'TEST') AS ML_use\n",
      "    FROM\n",
      "      taxitrips\n",
      "    LIMIT 1000000\n",
      ")\n",
      "\n"
     ]
    }
   ],
   "source": [
    "print(sql_script)"
   ]
  },
  {
   "cell_type": "code",
   "execution_count": 12,
   "id": "5b07b58c",
   "metadata": {},
   "outputs": [],
   "source": [
    "bq_client = bigquery.Client(project=PROJECT, location=BQ_LOCATION)\n",
    "job = bq_client.query(sql_script)\n",
    "_ = job.result()"
   ]
  },
  {
   "cell_type": "code",
   "execution_count": 13,
   "id": "82994eb9",
   "metadata": {},
   "outputs": [
    {
     "name": "stderr",
     "output_type": "stream",
     "text": [
      "Query complete after 0.00s: 100%|██████████| 2/2 [00:00<00:00, 1159.77query/s]                        \n",
      "Downloading: 100%|██████████| 2/2 [00:01<00:00,  1.24rows/s]\n"
     ]
    },
    {
     "data": {
      "text/html": [
       "<div>\n",
       "<style scoped>\n",
       "    .dataframe tbody tr th:only-of-type {\n",
       "        vertical-align: middle;\n",
       "    }\n",
       "\n",
       "    .dataframe tbody tr th {\n",
       "        vertical-align: top;\n",
       "    }\n",
       "\n",
       "    .dataframe thead th {\n",
       "        text-align: right;\n",
       "    }\n",
       "</style>\n",
       "<table border=\"1\" class=\"dataframe\">\n",
       "  <thead>\n",
       "    <tr style=\"text-align: right;\">\n",
       "      <th></th>\n",
       "      <th>ML_use</th>\n",
       "      <th>f0_</th>\n",
       "    </tr>\n",
       "  </thead>\n",
       "  <tbody>\n",
       "    <tr>\n",
       "      <th>0</th>\n",
       "      <td>TEST</td>\n",
       "      <td>200276</td>\n",
       "    </tr>\n",
       "    <tr>\n",
       "      <th>1</th>\n",
       "      <td>UNASSIGNED</td>\n",
       "      <td>799724</td>\n",
       "    </tr>\n",
       "  </tbody>\n",
       "</table>\n",
       "</div>"
      ],
      "text/plain": [
       "       ML_use     f0_\n",
       "0        TEST  200276\n",
       "1  UNASSIGNED  799724"
      ]
     },
     "execution_count": 13,
     "metadata": {},
     "output_type": "execute_result"
    }
   ],
   "source": [
    "%%bigquery --project {PROJECT}\n",
    "\n",
    "SELECT ML_use, COUNT(*)\n",
    "FROM playground_us.chicago_taxitrips_prep # Change to your BQ dataset and table names.\n",
    "GROUP BY ML_use"
   ]
  },
  {
   "cell_type": "markdown",
   "id": "ddbd6971",
   "metadata": {},
   "source": [
    "### Load a sample data to a Pandas DataFrame"
   ]
  },
  {
   "cell_type": "code",
   "execution_count": 14,
   "id": "98c84821",
   "metadata": {},
   "outputs": [
    {
     "name": "stderr",
     "output_type": "stream",
     "text": [
      "Query complete after 0.00s: 100%|██████████| 2/2 [00:00<00:00, 1021.51query/s]                        \n",
      "Downloading: 100%|██████████| 1000000/1000000 [00:01<00:00, 520792.18rows/s]\n"
     ]
    }
   ],
   "source": [
    "%%bigquery sample_data --project {PROJECT}\n",
    "\n",
    "SELECT * EXCEPT (trip_start_timestamp, ML_use)\n",
    "FROM playground_us.chicago_taxitrips_prep # Change to your BQ dataset and table names."
   ]
  },
  {
   "cell_type": "code",
   "execution_count": 15,
   "id": "9ec31e1f",
   "metadata": {},
   "outputs": [
    {
     "data": {
      "text/html": [
       "<div>\n",
       "<style scoped>\n",
       "    .dataframe tbody tr th:only-of-type {\n",
       "        vertical-align: middle;\n",
       "    }\n",
       "\n",
       "    .dataframe tbody tr th {\n",
       "        vertical-align: top;\n",
       "    }\n",
       "\n",
       "    .dataframe thead th {\n",
       "        text-align: right;\n",
       "    }\n",
       "</style>\n",
       "<table border=\"1\" class=\"dataframe\">\n",
       "  <thead>\n",
       "    <tr style=\"text-align: right;\">\n",
       "      <th></th>\n",
       "      <th>0</th>\n",
       "      <th>1</th>\n",
       "      <th>2</th>\n",
       "      <th>3</th>\n",
       "      <th>4</th>\n",
       "    </tr>\n",
       "  </thead>\n",
       "  <tbody>\n",
       "    <tr>\n",
       "      <th>trip_month</th>\n",
       "      <td>2</td>\n",
       "      <td>2</td>\n",
       "      <td>2</td>\n",
       "      <td>2</td>\n",
       "      <td>2</td>\n",
       "    </tr>\n",
       "    <tr>\n",
       "      <th>trip_day</th>\n",
       "      <td>10</td>\n",
       "      <td>10</td>\n",
       "      <td>7</td>\n",
       "      <td>14</td>\n",
       "      <td>26</td>\n",
       "    </tr>\n",
       "    <tr>\n",
       "      <th>trip_day_of_week</th>\n",
       "      <td>2</td>\n",
       "      <td>2</td>\n",
       "      <td>6</td>\n",
       "      <td>6</td>\n",
       "      <td>4</td>\n",
       "    </tr>\n",
       "    <tr>\n",
       "      <th>trip_hour</th>\n",
       "      <td>17</td>\n",
       "      <td>17</td>\n",
       "      <td>11</td>\n",
       "      <td>10</td>\n",
       "      <td>8</td>\n",
       "    </tr>\n",
       "    <tr>\n",
       "      <th>trip_seconds</th>\n",
       "      <td>621</td>\n",
       "      <td>1093</td>\n",
       "      <td>229</td>\n",
       "      <td>120</td>\n",
       "      <td>660</td>\n",
       "    </tr>\n",
       "    <tr>\n",
       "      <th>trip_miles</th>\n",
       "      <td>1.1</td>\n",
       "      <td>0.75</td>\n",
       "      <td>0.49</td>\n",
       "      <td>0.4</td>\n",
       "      <td>1.71</td>\n",
       "    </tr>\n",
       "    <tr>\n",
       "      <th>payment_type</th>\n",
       "      <td>Credit Card</td>\n",
       "      <td>Cash</td>\n",
       "      <td>Cash</td>\n",
       "      <td>Credit Card</td>\n",
       "      <td>Cash</td>\n",
       "    </tr>\n",
       "    <tr>\n",
       "      <th>pickup_grid</th>\n",
       "      <td>POINT(-87.6 42)</td>\n",
       "      <td>POINT(-87.6 42)</td>\n",
       "      <td>POINT(-87.6 42)</td>\n",
       "      <td>POINT(-87.6 42)</td>\n",
       "      <td>POINT(-87.6 42)</td>\n",
       "    </tr>\n",
       "    <tr>\n",
       "      <th>dropoff_grid</th>\n",
       "      <td>POINT(-87.6 42)</td>\n",
       "      <td>POINT(-87.6 42)</td>\n",
       "      <td>POINT(-87.6 42)</td>\n",
       "      <td>POINT(-87.6 42)</td>\n",
       "      <td>POINT(-87.6 42)</td>\n",
       "    </tr>\n",
       "    <tr>\n",
       "      <th>euclidean</th>\n",
       "      <td>0.0</td>\n",
       "      <td>0.0</td>\n",
       "      <td>0.0</td>\n",
       "      <td>0.0</td>\n",
       "      <td>0.0</td>\n",
       "    </tr>\n",
       "    <tr>\n",
       "      <th>loc_cross</th>\n",
       "      <td>POINT(-87.6 42)POINT(-87.6 42)</td>\n",
       "      <td>POINT(-87.6 42)POINT(-87.6 42)</td>\n",
       "      <td>POINT(-87.6 42)POINT(-87.6 42)</td>\n",
       "      <td>POINT(-87.6 42)POINT(-87.6 42)</td>\n",
       "      <td>POINT(-87.6 42)POINT(-87.6 42)</td>\n",
       "    </tr>\n",
       "    <tr>\n",
       "      <th>tip_bin</th>\n",
       "      <td>1</td>\n",
       "      <td>0</td>\n",
       "      <td>0</td>\n",
       "      <td>0</td>\n",
       "      <td>0</td>\n",
       "    </tr>\n",
       "  </tbody>\n",
       "</table>\n",
       "</div>"
      ],
      "text/plain": [
       "                                               0  \\\n",
       "trip_month                                     2   \n",
       "trip_day                                      10   \n",
       "trip_day_of_week                               2   \n",
       "trip_hour                                     17   \n",
       "trip_seconds                                 621   \n",
       "trip_miles                                   1.1   \n",
       "payment_type                         Credit Card   \n",
       "pickup_grid                      POINT(-87.6 42)   \n",
       "dropoff_grid                     POINT(-87.6 42)   \n",
       "euclidean                                    0.0   \n",
       "loc_cross         POINT(-87.6 42)POINT(-87.6 42)   \n",
       "tip_bin                                        1   \n",
       "\n",
       "                                               1  \\\n",
       "trip_month                                     2   \n",
       "trip_day                                      10   \n",
       "trip_day_of_week                               2   \n",
       "trip_hour                                     17   \n",
       "trip_seconds                                1093   \n",
       "trip_miles                                  0.75   \n",
       "payment_type                                Cash   \n",
       "pickup_grid                      POINT(-87.6 42)   \n",
       "dropoff_grid                     POINT(-87.6 42)   \n",
       "euclidean                                    0.0   \n",
       "loc_cross         POINT(-87.6 42)POINT(-87.6 42)   \n",
       "tip_bin                                        0   \n",
       "\n",
       "                                               2  \\\n",
       "trip_month                                     2   \n",
       "trip_day                                       7   \n",
       "trip_day_of_week                               6   \n",
       "trip_hour                                     11   \n",
       "trip_seconds                                 229   \n",
       "trip_miles                                  0.49   \n",
       "payment_type                                Cash   \n",
       "pickup_grid                      POINT(-87.6 42)   \n",
       "dropoff_grid                     POINT(-87.6 42)   \n",
       "euclidean                                    0.0   \n",
       "loc_cross         POINT(-87.6 42)POINT(-87.6 42)   \n",
       "tip_bin                                        0   \n",
       "\n",
       "                                               3  \\\n",
       "trip_month                                     2   \n",
       "trip_day                                      14   \n",
       "trip_day_of_week                               6   \n",
       "trip_hour                                     10   \n",
       "trip_seconds                                 120   \n",
       "trip_miles                                   0.4   \n",
       "payment_type                         Credit Card   \n",
       "pickup_grid                      POINT(-87.6 42)   \n",
       "dropoff_grid                     POINT(-87.6 42)   \n",
       "euclidean                                    0.0   \n",
       "loc_cross         POINT(-87.6 42)POINT(-87.6 42)   \n",
       "tip_bin                                        0   \n",
       "\n",
       "                                               4  \n",
       "trip_month                                     2  \n",
       "trip_day                                      26  \n",
       "trip_day_of_week                               4  \n",
       "trip_hour                                      8  \n",
       "trip_seconds                                 660  \n",
       "trip_miles                                  1.71  \n",
       "payment_type                                Cash  \n",
       "pickup_grid                      POINT(-87.6 42)  \n",
       "dropoff_grid                     POINT(-87.6 42)  \n",
       "euclidean                                    0.0  \n",
       "loc_cross         POINT(-87.6 42)POINT(-87.6 42)  \n",
       "tip_bin                                        0  "
      ]
     },
     "execution_count": 15,
     "metadata": {},
     "output_type": "execute_result"
    }
   ],
   "source": [
    "sample_data.head().T"
   ]
  },
  {
   "cell_type": "code",
   "execution_count": 16,
   "id": "7f1bfaea",
   "metadata": {},
   "outputs": [
    {
     "data": {
      "text/html": [
       "<div>\n",
       "<style scoped>\n",
       "    .dataframe tbody tr th:only-of-type {\n",
       "        vertical-align: middle;\n",
       "    }\n",
       "\n",
       "    .dataframe tbody tr th {\n",
       "        vertical-align: top;\n",
       "    }\n",
       "\n",
       "    .dataframe thead th {\n",
       "        text-align: right;\n",
       "    }\n",
       "</style>\n",
       "<table border=\"1\" class=\"dataframe\">\n",
       "  <thead>\n",
       "    <tr style=\"text-align: right;\">\n",
       "      <th></th>\n",
       "      <th>trip_month</th>\n",
       "      <th>trip_day</th>\n",
       "      <th>trip_day_of_week</th>\n",
       "      <th>trip_hour</th>\n",
       "      <th>trip_seconds</th>\n",
       "      <th>trip_miles</th>\n",
       "      <th>payment_type</th>\n",
       "      <th>pickup_grid</th>\n",
       "      <th>dropoff_grid</th>\n",
       "      <th>euclidean</th>\n",
       "      <th>loc_cross</th>\n",
       "      <th>tip_bin</th>\n",
       "    </tr>\n",
       "  </thead>\n",
       "  <tbody>\n",
       "    <tr>\n",
       "      <th>0</th>\n",
       "      <td>2</td>\n",
       "      <td>10</td>\n",
       "      <td>2</td>\n",
       "      <td>17</td>\n",
       "      <td>621</td>\n",
       "      <td>1.10</td>\n",
       "      <td>Credit Card</td>\n",
       "      <td>POINT(-87.6 42)</td>\n",
       "      <td>POINT(-87.6 42)</td>\n",
       "      <td>0.000000</td>\n",
       "      <td>POINT(-87.6 42)POINT(-87.6 42)</td>\n",
       "      <td>1</td>\n",
       "    </tr>\n",
       "    <tr>\n",
       "      <th>1</th>\n",
       "      <td>2</td>\n",
       "      <td>10</td>\n",
       "      <td>2</td>\n",
       "      <td>17</td>\n",
       "      <td>1093</td>\n",
       "      <td>0.75</td>\n",
       "      <td>Cash</td>\n",
       "      <td>POINT(-87.6 42)</td>\n",
       "      <td>POINT(-87.6 42)</td>\n",
       "      <td>0.000000</td>\n",
       "      <td>POINT(-87.6 42)POINT(-87.6 42)</td>\n",
       "      <td>0</td>\n",
       "    </tr>\n",
       "    <tr>\n",
       "      <th>2</th>\n",
       "      <td>2</td>\n",
       "      <td>7</td>\n",
       "      <td>6</td>\n",
       "      <td>11</td>\n",
       "      <td>229</td>\n",
       "      <td>0.49</td>\n",
       "      <td>Cash</td>\n",
       "      <td>POINT(-87.6 42)</td>\n",
       "      <td>POINT(-87.6 42)</td>\n",
       "      <td>0.000000</td>\n",
       "      <td>POINT(-87.6 42)POINT(-87.6 42)</td>\n",
       "      <td>0</td>\n",
       "    </tr>\n",
       "    <tr>\n",
       "      <th>3</th>\n",
       "      <td>2</td>\n",
       "      <td>14</td>\n",
       "      <td>6</td>\n",
       "      <td>10</td>\n",
       "      <td>120</td>\n",
       "      <td>0.40</td>\n",
       "      <td>Credit Card</td>\n",
       "      <td>POINT(-87.6 42)</td>\n",
       "      <td>POINT(-87.6 42)</td>\n",
       "      <td>0.000000</td>\n",
       "      <td>POINT(-87.6 42)POINT(-87.6 42)</td>\n",
       "      <td>0</td>\n",
       "    </tr>\n",
       "    <tr>\n",
       "      <th>4</th>\n",
       "      <td>2</td>\n",
       "      <td>26</td>\n",
       "      <td>4</td>\n",
       "      <td>8</td>\n",
       "      <td>660</td>\n",
       "      <td>1.71</td>\n",
       "      <td>Cash</td>\n",
       "      <td>POINT(-87.6 42)</td>\n",
       "      <td>POINT(-87.6 42)</td>\n",
       "      <td>0.000000</td>\n",
       "      <td>POINT(-87.6 42)POINT(-87.6 42)</td>\n",
       "      <td>0</td>\n",
       "    </tr>\n",
       "    <tr>\n",
       "      <th>...</th>\n",
       "      <td>...</td>\n",
       "      <td>...</td>\n",
       "      <td>...</td>\n",
       "      <td>...</td>\n",
       "      <td>...</td>\n",
       "      <td>...</td>\n",
       "      <td>...</td>\n",
       "      <td>...</td>\n",
       "      <td>...</td>\n",
       "      <td>...</td>\n",
       "      <td>...</td>\n",
       "      <td>...</td>\n",
       "    </tr>\n",
       "    <tr>\n",
       "      <th>999995</th>\n",
       "      <td>2</td>\n",
       "      <td>15</td>\n",
       "      <td>7</td>\n",
       "      <td>11</td>\n",
       "      <td>1298</td>\n",
       "      <td>4.98</td>\n",
       "      <td>Prcard</td>\n",
       "      <td>POINT(-87.8 41.9)</td>\n",
       "      <td>POINT(-87.8 41.9)</td>\n",
       "      <td>0.000000</td>\n",
       "      <td>POINT(-87.8 41.9)POINT(-87.8 41.9)</td>\n",
       "      <td>0</td>\n",
       "    </tr>\n",
       "    <tr>\n",
       "      <th>999996</th>\n",
       "      <td>5</td>\n",
       "      <td>22</td>\n",
       "      <td>6</td>\n",
       "      <td>9</td>\n",
       "      <td>120</td>\n",
       "      <td>0.50</td>\n",
       "      <td>Cash</td>\n",
       "      <td>POINT(-87.8 41.9)</td>\n",
       "      <td>POINT(-87.8 41.9)</td>\n",
       "      <td>0.000000</td>\n",
       "      <td>POINT(-87.8 41.9)POINT(-87.8 41.9)</td>\n",
       "      <td>0</td>\n",
       "    </tr>\n",
       "    <tr>\n",
       "      <th>999997</th>\n",
       "      <td>9</td>\n",
       "      <td>16</td>\n",
       "      <td>4</td>\n",
       "      <td>17</td>\n",
       "      <td>579</td>\n",
       "      <td>0.81</td>\n",
       "      <td>Prcard</td>\n",
       "      <td>POINT(-87.8 41.9)</td>\n",
       "      <td>POINT(-87.8 41.9)</td>\n",
       "      <td>2700.670714</td>\n",
       "      <td>POINT(-87.8 41.9)POINT(-87.8 41.9)</td>\n",
       "      <td>0</td>\n",
       "    </tr>\n",
       "    <tr>\n",
       "      <th>999998</th>\n",
       "      <td>5</td>\n",
       "      <td>14</td>\n",
       "      <td>5</td>\n",
       "      <td>9</td>\n",
       "      <td>842</td>\n",
       "      <td>3.68</td>\n",
       "      <td>Prcard</td>\n",
       "      <td>POINT(-87.8 41.9)</td>\n",
       "      <td>POINT(-87.8 41.9)</td>\n",
       "      <td>2700.670714</td>\n",
       "      <td>POINT(-87.8 41.9)POINT(-87.8 41.9)</td>\n",
       "      <td>0</td>\n",
       "    </tr>\n",
       "    <tr>\n",
       "      <th>999999</th>\n",
       "      <td>5</td>\n",
       "      <td>14</td>\n",
       "      <td>5</td>\n",
       "      <td>9</td>\n",
       "      <td>1877</td>\n",
       "      <td>2.63</td>\n",
       "      <td>Credit Card</td>\n",
       "      <td>POINT(-87.8 41.9)</td>\n",
       "      <td>POINT(-87.8 41.9)</td>\n",
       "      <td>0.000000</td>\n",
       "      <td>POINT(-87.8 41.9)POINT(-87.8 41.9)</td>\n",
       "      <td>1</td>\n",
       "    </tr>\n",
       "  </tbody>\n",
       "</table>\n",
       "<p>1000000 rows × 12 columns</p>\n",
       "</div>"
      ],
      "text/plain": [
       "        trip_month  trip_day  trip_day_of_week  trip_hour  trip_seconds  \\\n",
       "0                2        10                 2         17           621   \n",
       "1                2        10                 2         17          1093   \n",
       "2                2         7                 6         11           229   \n",
       "3                2        14                 6         10           120   \n",
       "4                2        26                 4          8           660   \n",
       "...            ...       ...               ...        ...           ...   \n",
       "999995           2        15                 7         11          1298   \n",
       "999996           5        22                 6          9           120   \n",
       "999997           9        16                 4         17           579   \n",
       "999998           5        14                 5          9           842   \n",
       "999999           5        14                 5          9          1877   \n",
       "\n",
       "        trip_miles payment_type        pickup_grid       dropoff_grid  \\\n",
       "0             1.10  Credit Card    POINT(-87.6 42)    POINT(-87.6 42)   \n",
       "1             0.75         Cash    POINT(-87.6 42)    POINT(-87.6 42)   \n",
       "2             0.49         Cash    POINT(-87.6 42)    POINT(-87.6 42)   \n",
       "3             0.40  Credit Card    POINT(-87.6 42)    POINT(-87.6 42)   \n",
       "4             1.71         Cash    POINT(-87.6 42)    POINT(-87.6 42)   \n",
       "...            ...          ...                ...                ...   \n",
       "999995        4.98       Prcard  POINT(-87.8 41.9)  POINT(-87.8 41.9)   \n",
       "999996        0.50         Cash  POINT(-87.8 41.9)  POINT(-87.8 41.9)   \n",
       "999997        0.81       Prcard  POINT(-87.8 41.9)  POINT(-87.8 41.9)   \n",
       "999998        3.68       Prcard  POINT(-87.8 41.9)  POINT(-87.8 41.9)   \n",
       "999999        2.63  Credit Card  POINT(-87.8 41.9)  POINT(-87.8 41.9)   \n",
       "\n",
       "          euclidean                           loc_cross  tip_bin  \n",
       "0          0.000000      POINT(-87.6 42)POINT(-87.6 42)        1  \n",
       "1          0.000000      POINT(-87.6 42)POINT(-87.6 42)        0  \n",
       "2          0.000000      POINT(-87.6 42)POINT(-87.6 42)        0  \n",
       "3          0.000000      POINT(-87.6 42)POINT(-87.6 42)        0  \n",
       "4          0.000000      POINT(-87.6 42)POINT(-87.6 42)        0  \n",
       "...             ...                                 ...      ...  \n",
       "999995     0.000000  POINT(-87.8 41.9)POINT(-87.8 41.9)        0  \n",
       "999996     0.000000  POINT(-87.8 41.9)POINT(-87.8 41.9)        0  \n",
       "999997  2700.670714  POINT(-87.8 41.9)POINT(-87.8 41.9)        0  \n",
       "999998  2700.670714  POINT(-87.8 41.9)POINT(-87.8 41.9)        0  \n",
       "999999     0.000000  POINT(-87.8 41.9)POINT(-87.8 41.9)        1  \n",
       "\n",
       "[1000000 rows x 12 columns]"
      ]
     },
     "execution_count": 16,
     "metadata": {},
     "output_type": "execute_result"
    }
   ],
   "source": [
    "sample_data"
   ]
  },
  {
   "cell_type": "code",
   "execution_count": 17,
   "id": "886eee15",
   "metadata": {},
   "outputs": [
    {
     "data": {
      "text/plain": [
       "0    636196\n",
       "1    363804\n",
       "Name: tip_bin, dtype: int64"
      ]
     },
     "execution_count": 17,
     "metadata": {},
     "output_type": "execute_result"
    }
   ],
   "source": [
    "sample_data.tip_bin.value_counts()"
   ]
  },
  {
   "cell_type": "code",
   "execution_count": 18,
   "id": "c9248c6b",
   "metadata": {},
   "outputs": [
    {
     "data": {
      "text/plain": [
       "<AxesSubplot:>"
      ]
     },
     "execution_count": 18,
     "metadata": {},
     "output_type": "execute_result"
    },
    {
     "data": {
      "image/png": "[encoded data removed]",
      "text/plain": [
       "<Figure size 432x288 with 1 Axes>"
      ]
     },
     "metadata": {
      "needs_background": "light"
     },
     "output_type": "display_data"
    }
   ],
   "source": [
    "sample_data.euclidean.hist()"
   ]
  },
  {
   "cell_type": "markdown",
   "id": "adabd46a",
   "metadata": {},
   "source": [
    "## 3. Generate raw data schema\n",
    "\n",
    "The [TensorFlow Data Validation (TFDV)](https://www.tensorflow.org/tfx/data_validation/get_started) data schema will be used in:\n",
    "1. Identify the raw data types and shapes in the data transformation.\n",
    "2. Create the serving input signature for the custom model.\n",
    "3. Validate the new raw training data in the TFX pipeline."
   ]
  },
  {
   "cell_type": "code",
   "execution_count": 19,
   "id": "f836dcbe",
   "metadata": {},
   "outputs": [],
   "source": [
    "stats = tfdv.generate_statistics_from_dataframe(\n",
    "    dataframe=sample_data,\n",
    "    stats_options=tfdv.StatsOptions(\n",
    "        label_feature='tip_bin',\n",
    "        weight_feature=None,\n",
    "        sample_rate=1,\n",
    "        num_top_values=50\n",
    "    )\n",
    ")"
   ]
  },
  {
   "cell_type": "code",
   "execution_count": 20,
   "id": "b0533e73",
   "metadata": {},
   "outputs": [
    {
     "data": {
      "text/html": [
       "<iframe id='facets-iframe' width=\"100%\" height=\"500px\"></iframe>\n",
       "        <script>\n",
       "        facets_iframe = document.getElementById('facets-iframe');\n",
       "        facets_html = '<script src=\"https://cdnjs.cloudflare.com/ajax/libs/webcomponentsjs/1.3.3/webcomponents-lite.js\"><\\/script><link rel=\"import\" href=\"https://raw.githubusercontent.com/PAIR-code/facets/master/facets-dist/facets-jupyter.html\"><facets-overview proto-input=\"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\"></facets-overview>';\n",
       "        facets_iframe.srcdoc = facets_html;\n",
       "         facets_iframe.id = \"\";\n",
       "         setTimeout(() => {\n",
       "           facets_iframe.setAttribute('height', facets_iframe.contentWindow.document.body.offsetHeight + 'px')\n",
       "         }, 1500)\n",
       "         </script>"
      ],
      "text/plain": [
       "<IPython.core.display.HTML object>"
      ]
     },
     "metadata": {},
     "output_type": "display_data"
    }
   ],
   "source": [
    "tfdv.visualize_statistics(stats)"
   ]
  },
  {
   "cell_type": "code",
   "execution_count": 21,
   "id": "317b7aa3",
   "metadata": {},
   "outputs": [
    {
     "data": {
      "text/html": [
       "<div>\n",
       "<style scoped>\n",
       "    .dataframe tbody tr th:only-of-type {\n",
       "        vertical-align: middle;\n",
       "    }\n",
       "\n",
       "    .dataframe tbody tr th {\n",
       "        vertical-align: top;\n",
       "    }\n",
       "\n",
       "    .dataframe thead th {\n",
       "        text-align: right;\n",
       "    }\n",
       "</style>\n",
       "<table border=\"1\" class=\"dataframe\">\n",
       "  <thead>\n",
       "    <tr style=\"text-align: right;\">\n",
       "      <th></th>\n",
       "      <th>Type</th>\n",
       "      <th>Presence</th>\n",
       "      <th>Valency</th>\n",
       "      <th>Domain</th>\n",
       "    </tr>\n",
       "    <tr>\n",
       "      <th>Feature name</th>\n",
       "      <th></th>\n",
       "      <th></th>\n",
       "      <th></th>\n",
       "      <th></th>\n",
       "    </tr>\n",
       "  </thead>\n",
       "  <tbody>\n",
       "    <tr>\n",
       "      <th>'trip_month'</th>\n",
       "      <td>INT</td>\n",
       "      <td>required</td>\n",
       "      <td></td>\n",
       "      <td>-</td>\n",
       "    </tr>\n",
       "    <tr>\n",
       "      <th>'trip_day'</th>\n",
       "      <td>INT</td>\n",
       "      <td>required</td>\n",
       "      <td></td>\n",
       "      <td>-</td>\n",
       "    </tr>\n",
       "    <tr>\n",
       "      <th>'trip_day_of_week'</th>\n",
       "      <td>INT</td>\n",
       "      <td>required</td>\n",
       "      <td></td>\n",
       "      <td>-</td>\n",
       "    </tr>\n",
       "    <tr>\n",
       "      <th>'trip_hour'</th>\n",
       "      <td>INT</td>\n",
       "      <td>required</td>\n",
       "      <td></td>\n",
       "      <td>-</td>\n",
       "    </tr>\n",
       "    <tr>\n",
       "      <th>'trip_seconds'</th>\n",
       "      <td>INT</td>\n",
       "      <td>required</td>\n",
       "      <td></td>\n",
       "      <td>-</td>\n",
       "    </tr>\n",
       "    <tr>\n",
       "      <th>'trip_miles'</th>\n",
       "      <td>FLOAT</td>\n",
       "      <td>required</td>\n",
       "      <td></td>\n",
       "      <td>-</td>\n",
       "    </tr>\n",
       "    <tr>\n",
       "      <th>'payment_type'</th>\n",
       "      <td>STRING</td>\n",
       "      <td>required</td>\n",
       "      <td></td>\n",
       "      <td>'payment_type'</td>\n",
       "    </tr>\n",
       "    <tr>\n",
       "      <th>'pickup_grid'</th>\n",
       "      <td>STRING</td>\n",
       "      <td>required</td>\n",
       "      <td></td>\n",
       "      <td>'pickup_grid'</td>\n",
       "    </tr>\n",
       "    <tr>\n",
       "      <th>'dropoff_grid'</th>\n",
       "      <td>STRING</td>\n",
       "      <td>required</td>\n",
       "      <td></td>\n",
       "      <td>'dropoff_grid'</td>\n",
       "    </tr>\n",
       "    <tr>\n",
       "      <th>'euclidean'</th>\n",
       "      <td>FLOAT</td>\n",
       "      <td>required</td>\n",
       "      <td></td>\n",
       "      <td>-</td>\n",
       "    </tr>\n",
       "    <tr>\n",
       "      <th>'loc_cross'</th>\n",
       "      <td>BYTES</td>\n",
       "      <td>required</td>\n",
       "      <td></td>\n",
       "      <td>-</td>\n",
       "    </tr>\n",
       "    <tr>\n",
       "      <th>'tip_bin'</th>\n",
       "      <td>INT</td>\n",
       "      <td>required</td>\n",
       "      <td></td>\n",
       "      <td>-</td>\n",
       "    </tr>\n",
       "  </tbody>\n",
       "</table>\n",
       "</div>"
      ],
      "text/plain": [
       "                      Type  Presence Valency          Domain\n",
       "Feature name                                                \n",
       "'trip_month'           INT  required                       -\n",
       "'trip_day'             INT  required                       -\n",
       "'trip_day_of_week'     INT  required                       -\n",
       "'trip_hour'            INT  required                       -\n",
       "'trip_seconds'         INT  required                       -\n",
       "'trip_miles'         FLOAT  required                       -\n",
       "'payment_type'      STRING  required          'payment_type'\n",
       "'pickup_grid'       STRING  required           'pickup_grid'\n",
       "'dropoff_grid'      STRING  required          'dropoff_grid'\n",
       "'euclidean'          FLOAT  required                       -\n",
       "'loc_cross'          BYTES  required                       -\n",
       "'tip_bin'              INT  required                       -"
      ]
     },
     "metadata": {},
     "output_type": "display_data"
    },
    {
     "name": "stderr",
     "output_type": "stream",
     "text": [
      "/opt/conda/lib/python3.7/site-packages/tensorflow_data_validation/utils/display_util.py:151: FutureWarning: Passing a negative integer is deprecated in version 1.0 and will not be supported in future version. Instead, use None to not limit the column width.\n",
      "  pd.set_option('max_colwidth', -1)\n"
     ]
    },
    {
     "data": {
      "text/html": [
       "<div>\n",
       "<style scoped>\n",
       "    .dataframe tbody tr th:only-of-type {\n",
       "        vertical-align: middle;\n",
       "    }\n",
       "\n",
       "    .dataframe tbody tr th {\n",
       "        vertical-align: top;\n",
       "    }\n",
       "\n",
       "    .dataframe thead th {\n",
       "        text-align: right;\n",
       "    }\n",
       "</style>\n",
       "<table border=\"1\" class=\"dataframe\">\n",
       "  <thead>\n",
       "    <tr style=\"text-align: right;\">\n",
       "      <th></th>\n",
       "      <th>Values</th>\n",
       "    </tr>\n",
       "    <tr>\n",
       "      <th>Domain</th>\n",
       "      <th></th>\n",
       "    </tr>\n",
       "  </thead>\n",
       "  <tbody>\n",
       "    <tr>\n",
       "      <th>'payment_type'</th>\n",
       "      <td>'Cash', 'Credit Card', 'Dispute', 'Mobile', 'No Charge', 'Prcard', 'Prepaid', 'Unknown'</td>\n",
       "    </tr>\n",
       "    <tr>\n",
       "      <th>'pickup_grid'</th>\n",
       "      <td>'POINT(-87.5 41.7)', 'POINT(-87.6 41.7)', 'POINT(-87.6 41.8)', 'POINT(-87.6 41.9)', 'POINT(-87.6 42)', 'POINT(-87.7 41.7)', 'POINT(-87.7 41.8)', 'POINT(-87.7 41.9)', 'POINT(-87.7 42)', 'POINT(-87.8 41.8)', 'POINT(-87.8 41.9)', 'POINT(-87.8 42)', 'POINT(-87.9 42)'</td>\n",
       "    </tr>\n",
       "    <tr>\n",
       "      <th>'dropoff_grid'</th>\n",
       "      <td>'POINT(-87.5 41.7)', 'POINT(-87.6 41.7)', 'POINT(-87.6 41.8)', 'POINT(-87.6 41.9)', 'POINT(-87.6 42)', 'POINT(-87.7 41.7)', 'POINT(-87.7 41.8)', 'POINT(-87.7 41.9)', 'POINT(-87.7 42)', 'POINT(-87.8 41.8)', 'POINT(-87.8 41.9)', 'POINT(-87.8 42)', 'POINT(-87.9 42)'</td>\n",
       "    </tr>\n",
       "  </tbody>\n",
       "</table>\n",
       "</div>"
      ],
      "text/plain": [
       "                                                                                                                                                                                                                                                                                 Values\n",
       "Domain                                                                                                                                                                                                                                                                                 \n",
       "'payment_type'  'Cash', 'Credit Card', 'Dispute', 'Mobile', 'No Charge', 'Prcard', 'Prepaid', 'Unknown'                                                                                                                                                                                \n",
       "'pickup_grid'   'POINT(-87.5 41.7)', 'POINT(-87.6 41.7)', 'POINT(-87.6 41.8)', 'POINT(-87.6 41.9)', 'POINT(-87.6 42)', 'POINT(-87.7 41.7)', 'POINT(-87.7 41.8)', 'POINT(-87.7 41.9)', 'POINT(-87.7 42)', 'POINT(-87.8 41.8)', 'POINT(-87.8 41.9)', 'POINT(-87.8 42)', 'POINT(-87.9 42)'\n",
       "'dropoff_grid'  'POINT(-87.5 41.7)', 'POINT(-87.6 41.7)', 'POINT(-87.6 41.8)', 'POINT(-87.6 41.9)', 'POINT(-87.6 42)', 'POINT(-87.7 41.7)', 'POINT(-87.7 41.8)', 'POINT(-87.7 41.9)', 'POINT(-87.7 42)', 'POINT(-87.8 41.8)', 'POINT(-87.8 41.9)', 'POINT(-87.8 42)', 'POINT(-87.9 42)'"
      ]
     },
     "metadata": {},
     "output_type": "display_data"
    }
   ],
   "source": [
    "schema = tfdv.infer_schema(statistics=stats)\n",
    "tfdv.display_schema(schema=schema)"
   ]
  },
  {
   "cell_type": "code",
   "execution_count": 22,
   "id": "7cc41d70",
   "metadata": {},
   "outputs": [],
   "source": [
    "raw_schema_location = os.path.join(RAW_SCHEMA_DIR, 'schema.pbtxt')\n",
    "tfdv.write_schema_text(schema, raw_schema_location)"
   ]
  },
  {
   "cell_type": "code",
   "execution_count": 38,
   "id": "10e4fe7e",
   "metadata": {},
   "outputs": [],
   "source": [
    "PROJECT='aiops-industrialization'\n",
    "REGION='us-central1'"
   ]
  },
  {
   "cell_type": "markdown",
   "id": "0608d7bb",
   "metadata": {},
   "source": [
    "## 4. Create Vertex Dataset resource"
   ]
  },
  {
   "cell_type": "code",
   "execution_count": 39,
   "id": "85370466",
   "metadata": {},
   "outputs": [],
   "source": [
    "\n",
    "vertex_ai.init(\n",
    "    project=PROJECT,\n",
    "    location=REGION\n",
    ")"
   ]
  },
  {
   "cell_type": "markdown",
   "id": "32f70773",
   "metadata": {},
   "source": [
    "### Create the dataset resource"
   ]
  },
  {
   "cell_type": "code",
   "execution_count": 40,
   "id": "a0b485c5",
   "metadata": {},
   "outputs": [
    {
     "name": "stdout",
     "output_type": "stream",
     "text": [
      "INFO:google.cloud.aiplatform.datasets.dataset:Creating TabularDataset\n",
      "INFO:google.cloud.aiplatform.datasets.dataset:Create TabularDataset backing LRO: projects/175728527123/locations/us-central1/datasets/2966156916297826304/operations/7353638495048433664\n",
      "INFO:google.cloud.aiplatform.datasets.dataset:TabularDataset created. Resource name: projects/175728527123/locations/us-central1/datasets/2966156916297826304\n",
      "INFO:google.cloud.aiplatform.datasets.dataset:To use this TabularDataset in another session:\n",
      "INFO:google.cloud.aiplatform.datasets.dataset:ds = aiplatform.TabularDataset('projects/175728527123/locations/us-central1/datasets/2966156916297826304')\n"
     ]
    },
    {
     "data": {
      "text/plain": [
       "name: \"projects/175728527123/locations/us-central1/datasets/2966156916297826304\"\n",
       "display_name: \"chicago-taxi-tips\"\n",
       "metadata_schema_uri: \"gs://google-cloud-aiplatform/schema/dataset/metadata/tabular_1.0.0.yaml\"\n",
       "create_time {\n",
       "  seconds: 1630062779\n",
       "  nanos: 636890000\n",
       "}\n",
       "update_time {\n",
       "  seconds: 1630062780\n",
       "  nanos: 409928000\n",
       "}\n",
       "etag: \"AMEw9yPPG6bknG54oreom3nhLj7AU3RaBnHbr4i20hyh3G9JXmiFKg6XNAIb9NNDgdMf\"\n",
       "labels {\n",
       "  key: \"aiplatform.googleapis.com/dataset_metadata_schema\"\n",
       "  value: \"TABLE\"\n",
       "}\n",
       "metadata {\n",
       "  struct_value {\n",
       "    fields {\n",
       "      key: \"inputConfig\"\n",
       "      value {\n",
       "        struct_value {\n",
       "          fields {\n",
       "            key: \"bigquerySource\"\n",
       "            value {\n",
       "              struct_value {\n",
       "                fields {\n",
       "                  key: \"uri\"\n",
       "                  value {\n",
       "                    string_value: \"bq://aiops-industrialization.playground_us.chicago_taxitrips_prep\"\n",
       "                  }\n",
       "                }\n",
       "              }\n",
       "            }\n",
       "          }\n",
       "        }\n",
       "      }\n",
       "    }\n",
       "  }\n",
       "}"
      ]
     },
     "execution_count": 40,
     "metadata": {},
     "output_type": "execute_result"
    }
   ],
   "source": [
    "bq_uri = f\"bq://{PROJECT}.{BQ_DATASET_NAME}.{BQ_TABLE_NAME}\"\n",
    "\n",
    "dataset = vertex_ai.TabularDataset.create(\n",
    "    display_name=DATASET_DISPLAY_NAME, bq_source=bq_uri)\n",
    "dataset.gca_resource"
   ]
  },
  {
   "cell_type": "markdown",
   "id": "68660d03",
   "metadata": {},
   "source": [
    "### Get the dataset resource\n",
    "\n",
    "The dataset resource is retrieved by display name. Because multiple datasets can have the same display name, we retrieve the most recent updated one."
   ]
  },
  {
   "cell_type": "code",
   "execution_count": 41,
   "id": "ba7e8cd3",
   "metadata": {},
   "outputs": [
    {
     "name": "stdout",
     "output_type": "stream",
     "text": [
      "Dataset resource name: projects/175728527123/locations/us-central1/datasets/2966156916297826304\n",
      "Dataset BigQuery source: bq://aiops-industrialization.playground_us.chicago_taxitrips_prep\n"
     ]
    }
   ],
   "source": [
    "dataset = vertex_ai.TabularDataset.list(\n",
    "    filter=f\"display_name={DATASET_DISPLAY_NAME}\", \n",
    "    order_by=\"update_time\")[-1]\n",
    "\n",
    "print(\"Dataset resource name:\", dataset.resource_name)\n",
    "print(\"Dataset BigQuery source:\", dataset.gca_resource.metadata['inputConfig']['bigquerySource']['uri'])"
   ]
  },
  {
   "cell_type": "code",
   "execution_count": null,
   "id": "ae314211",
   "metadata": {},
   "outputs": [],
   "source": []
  }
 ],
 "metadata": {
  "environment": {
   "name": "tf2-gpu.2-3.m78",
   "type": "gcloud",
   "uri": "gcr.io/deeplearning-platform-release/tf2-gpu.2-3:m78"
  },
  "kernelspec": {
   "display_name": "Python 3",
   "language": "python",
   "name": "python3"
  },
  "language_info": {
   "codemirror_mode": {
    "name": "ipython",
    "version": 3
   },
   "file_extension": ".py",
   "mimetype": "text/x-python",
   "name": "python",
   "nbconvert_exporter": "python",
   "pygments_lexer": "ipython3",
   "version": "3.7.10"
  }
 },
 "nbformat": 4,
 "nbformat_minor": 5
}
