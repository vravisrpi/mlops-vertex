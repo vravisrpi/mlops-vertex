{
 "cells": [
  {
   "cell_type": "markdown",
   "id": "37b768b6",
   "metadata": {},
   "source": [
    "# 02 - ML Experimentation with Custom Model\n",
    "\n",
    "The purpose of this notebook is to use [custom training](https://cloud.google.com/ai-platform-unified/docs/training/custom-training) to train a keras classifier to predict whether a given trip will result in a tip > 20%. The notebook covers the following tasks:\n",
    "1. Preprocess the data locally using Apache Beam.\n",
    "2. Train and test custom model locally using a Keras implementation.\n",
    "3. Submit a Dataflow job to preprocess the data at scale.\n",
    "4. Submit a custom training job to Vertex AI using a [pre-built container](https://cloud.google.com/ai-platform-unified/docs/training/pre-built-containers).\n",
    "5. Upload the trained model to Vertex AI.\n",
    "6. Track experiment parameters from [Vertex AI Metadata](https://cloud.google.com/vertex-ai/docs/ml-metadata/introduction).\n",
    "\n",
    "We use [Vertex TensorBoard](https://cloud.google.com/vertex-ai/docs/experiments/tensorboard-overview) \n",
    "and [Vertex ML Metadata](https://cloud.google.com/vertex-ai/docs/ml-metadata/introduction) to  track, visualize, and compare ML experiments."
   ]
  },
  {
   "cell_type": "markdown",
   "id": "d55bec87",
   "metadata": {},
   "source": [
    "## Setup"
   ]
  },
  {
   "cell_type": "markdown",
   "id": "96e1609d",
   "metadata": {},
   "source": [
    "### Import libraries"
   ]
  },
  {
   "cell_type": "code",
   "execution_count": 124,
   "id": "9a794ac4",
   "metadata": {},
   "outputs": [
    {
     "name": "stdout",
     "output_type": "stream",
     "text": [
      "TensorFlow: 2.3.4\n",
      "TensorFlow Transform: 0.26.0\n"
     ]
    }
   ],
   "source": [
    "import os\n",
    "import time\n",
    "import logging\n",
    "from datetime import datetime\n",
    "import numpy as np\n",
    "\n",
    "import tensorflow as tf\n",
    "import tensorflow_transform as tft\n",
    "import tensorflow.keras as keras\n",
    "\n",
    "from google.cloud import aiplatform as vertex_ai\n",
    "from google.cloud import aiplatform_v1beta1 as vertex_ai_beta\n",
    "\n",
    "from src.common import features, datasource_utils\n",
    "from src.model_training import data, model, defaults, trainer, exporter\n",
    "from src.preprocessing import etl\n",
    "\n",
    "logging.getLogger().setLevel(logging.INFO)\n",
    "tf.get_logger().setLevel('INFO')\n",
    "\n",
    "print(f\"TensorFlow: {tf.__version__}\")\n",
    "print(f\"TensorFlow Transform: {tft.__version__}\")"
   ]
  },
  {
   "cell_type": "markdown",
   "id": "5b519dbd",
   "metadata": {},
   "source": [
    "### Setup Google Cloud project"
   ]
  },
  {
   "cell_type": "code",
   "execution_count": 131,
   "id": "a0ffbb84",
   "metadata": {},
   "outputs": [
    {
     "name": "stdout",
     "output_type": "stream",
     "text": [
      "Project ID: aiops-industrialization\n",
      "Region: us-central1\n",
      "Bucket name: aiops-industrialization-bucket-ravi\n",
      "Service Account: 175728527123-compute@developer.gserviceaccount.com\n",
      "Vertex API Parent URI: projects/aiops-industrialization/locations/us-central1\n"
     ]
    }
   ],
   "source": [
    "PROJECT = 'aiops-industrialization' # Change to your project id.\n",
    "REGION = 'us-central1' # Change to your region.\n",
    "BUCKET = 'aiops-industrialization-bucket-ravi'  # Change to your bucket name.\n",
    "SERVICE_ACCOUNT = \"175728527123-compute@developer.gserviceaccount.com\"\n",
    "\n",
    "if PROJECT == \"\" or PROJECT is None or PROJECT == \"[your-project-id]\":\n",
    "    # Get your GCP project id from gcloud\n",
    "    shell_output = !gcloud config list --format 'value(core.project)' 2>/dev/null\n",
    "    PROJECT = shell_output[0]\n",
    "    \n",
    "if SERVICE_ACCOUNT == \"\" or SERVICE_ACCOUNT is None or SERVICE_ACCOUNT == \"[your-service-account]\":\n",
    "    # Get your GCP project id from gcloud\n",
    "    shell_output = !gcloud config list --format 'value(core.account)' 2>/dev/null\n",
    "    SERVICE_ACCOUNT = shell_output[0]\n",
    "    \n",
    "if BUCKET == \"\" or BUCKET is None or BUCKET == \"[your-bucket-name]\":\n",
    "    # Get your bucket name to GCP projet id\n",
    "    BUCKET = PROJECT\n",
    "    # Try to create the bucket if it doesn'exists\n",
    "    ! gsutil mb -l $REGION gs://$BUCKET\n",
    "    print(\"\")\n",
    "    \n",
    "PARENT = f\"projects/{PROJECT}/locations/{REGION}\"\n",
    "    \n",
    "print(\"Project ID:\", PROJECT)\n",
    "print(\"Region:\", REGION)\n",
    "print(\"Bucket name:\", BUCKET)\n",
    "print(\"Service Account:\", SERVICE_ACCOUNT)\n",
    "print(\"Vertex API Parent URI:\", PARENT)"
   ]
  },
  {
   "cell_type": "markdown",
   "id": "543c448e",
   "metadata": {},
   "source": [
    "### Set configurations"
   ]
  },
  {
   "cell_type": "code",
   "execution_count": 132,
   "id": "7a529feb",
   "metadata": {},
   "outputs": [],
   "source": [
    "VERSION = 'v01'\n",
    "DATASET_DISPLAY_NAME = 'chicago-taxi-tips'\n",
    "MODEL_DISPLAY_NAME = f'{DATASET_DISPLAY_NAME}-classifier-{VERSION}'\n",
    "\n",
    "WORKSPACE = f'gs://{BUCKET}/{DATASET_DISPLAY_NAME}'\n",
    "EXPERIMENT_ARTIFACTS_DIR = os.path.join(WORKSPACE, 'experiments')\n",
    "RAW_SCHEMA_LOCATION = 'src/raw_schema/schema.pbtxt'\n",
    "\n",
    "TENSORBOARD_DISPLAY_NAME = f'tb-{PROJECT}'\n",
    "EXPERIMENT_NAME = f'{MODEL_DISPLAY_NAME}-experiment'"
   ]
  },
  {
   "cell_type": "markdown",
   "id": "84b1e602",
   "metadata": {},
   "source": [
    "## Create Vertex TensorBoard instance "
   ]
  },
  {
   "cell_type": "code",
   "execution_count": 133,
   "id": "e55b95f3",
   "metadata": {},
   "outputs": [
    {
     "name": "stdout",
     "output_type": "stream",
     "text": [
      "Using endpoint [https://us-central1-aiplatform.googleapis.com/]\n",
      "Waiting for operation [3966581380812374016]...done.                            \n",
      "Created Vertex AI Tensorboard: projects/175728527123/locations/us-central1/tensorboards/3380408917178712064.\n"
     ]
    }
   ],
   "source": [
    "!gcloud beta ai tensorboards create --display-name={TENSORBOARD_DISPLAY_NAME} \\\n",
    "  --project={PROJECT} --region={REGION}"
   ]
  },
  {
   "cell_type": "code",
   "execution_count": 134,
   "id": "c40e1c6a",
   "metadata": {},
   "outputs": [
    {
     "name": "stdout",
     "output_type": "stream",
     "text": [
      "TensorBoard resource name: projects/175728527123/locations/us-central1/tensorboards/615198745973227520\n"
     ]
    }
   ],
   "source": [
    "tensorboard_client_beta = vertex_ai_beta.TensorboardServiceClient(\n",
    "    client_options={\"api_endpoint\": f\"{REGION}-aiplatform.googleapis.com\"}\n",
    ")\n",
    "\n",
    "tensorboard = [\n",
    "    resource for resource in tensorboard_client_beta.list_tensorboards(parent=PARENT) \n",
    "    if resource.display_name == TENSORBOARD_DISPLAY_NAME][0]\n",
    "\n",
    "tensorboard_resource_name = tensorboard.name\n",
    "print(\"TensorBoard resource name:\", tensorboard_resource_name)"
   ]
  },
  {
   "cell_type": "markdown",
   "id": "73eb28ef",
   "metadata": {},
   "source": [
    "## Initialize workspace"
   ]
  },
  {
   "cell_type": "code",
   "execution_count": 135,
   "id": "fddf23b3",
   "metadata": {},
   "outputs": [
    {
     "name": "stdout",
     "output_type": "stream",
     "text": [
      "Workspace is ready.\n"
     ]
    }
   ],
   "source": [
    "REMOVE_EXPERIMENT_ARTIFACTS = False\n",
    "\n",
    "if tf.io.gfile.exists(EXPERIMENT_ARTIFACTS_DIR) and REMOVE_EXPERIMENT_ARTIFACTS:\n",
    "    print(\"Removing previous experiment artifacts...\")\n",
    "    tf.io.gfile.rmtree(EXPERIMENT_ARTIFACTS_DIR)\n",
    "\n",
    "if not tf.io.gfile.exists(EXPERIMENT_ARTIFACTS_DIR):\n",
    "    print(\"Creating new experiment artifacts directory...\")\n",
    "    tf.io.gfile.mkdir(EXPERIMENT_ARTIFACTS_DIR)\n",
    "\n",
    "print(\"Workspace is ready.\")"
   ]
  },
  {
   "cell_type": "markdown",
   "id": "4d575569",
   "metadata": {},
   "source": [
    "## Initialize Vertex AI experiment"
   ]
  },
  {
   "cell_type": "code",
   "execution_count": 136,
   "id": "3dd5b39a",
   "metadata": {},
   "outputs": [
    {
     "name": "stdout",
     "output_type": "stream",
     "text": [
      "INFO:root:Resource chicago-taxi-tips-classifier-v01-experiment-run-local-20210830101722 not found.\n",
      "INFO:root:Creating Resource chicago-taxi-tips-classifier-v01-experiment-run-local-20210830101722\n",
      "INFO:root:Resource chicago-taxi-tips-classifier-v01-experiment-run-local-20210830101722-metrics not found.\n",
      "INFO:root:Creating Resource chicago-taxi-tips-classifier-v01-experiment-run-local-20210830101722-metrics\n",
      "Experiment run directory: gs://aiops-industrialization-bucket-ravi/chicago-taxi-tips/experiments/chicago-taxi-tips-classifier-v01-experiment/run-local-20210830101722\n"
     ]
    }
   ],
   "source": [
    "vertex_ai.init(\n",
    "    project=PROJECT,\n",
    "    location=REGION,\n",
    "    staging_bucket=BUCKET,\n",
    "    experiment=EXPERIMENT_NAME\n",
    ")\n",
    "\n",
    "run_id = f\"run-local-{datetime.now().strftime('%Y%m%d%H%M%S')}\"\n",
    "vertex_ai.start_run(run_id)\n",
    "\n",
    "EXPERIMENT_RUN_DIR = os.path.join(EXPERIMENT_ARTIFACTS_DIR, EXPERIMENT_NAME, run_id)\n",
    "print(\"Experiment run directory:\", EXPERIMENT_RUN_DIR)"
   ]
  },
  {
   "cell_type": "markdown",
   "id": "37e1c330",
   "metadata": {},
   "source": [
    "## 1. Preprocess the data using Apache Beam\n",
    "\n",
    "The Apache Beam pipeline of data preprocessing is implemented in the [preprocessing](src/preprocessing) directory."
   ]
  },
  {
   "cell_type": "code",
   "execution_count": 137,
   "id": "a9525e71",
   "metadata": {},
   "outputs": [],
   "source": [
    "EXPORTED_DATA_PREFIX = os.path.join(EXPERIMENT_RUN_DIR, 'exported_data')\n",
    "TRANSFORMED_DATA_PREFIX = os.path.join(EXPERIMENT_RUN_DIR, 'transformed_data')\n",
    "TRANSFORM_ARTIFACTS_DIR = os.path.join(EXPERIMENT_RUN_DIR, 'transform_artifacts')"
   ]
  },
  {
   "cell_type": "markdown",
   "id": "9b0da9d1",
   "metadata": {},
   "source": [
    "### Get Source Query from Managed Dataset"
   ]
  },
  {
   "cell_type": "code",
   "execution_count": 138,
   "id": "7ca1229c",
   "metadata": {},
   "outputs": [
    {
     "name": "stdout",
     "output_type": "stream",
     "text": [
      "\n",
      "    SELECT \n",
      "        IF(trip_month IS NULL, -1, trip_month) trip_month,\n",
      "        IF(trip_day IS NULL, -1, trip_day) trip_day,\n",
      "        IF(trip_day_of_week IS NULL, -1, trip_day_of_week) trip_day_of_week,\n",
      "        IF(trip_hour IS NULL, -1, trip_hour) trip_hour,\n",
      "        IF(trip_seconds IS NULL, -1, trip_seconds) trip_seconds,\n",
      "        IF(trip_miles IS NULL, -1, trip_miles) trip_miles,\n",
      "        IF(payment_type IS NULL, 'NA', payment_type) payment_type,\n",
      "        IF(pickup_grid IS NULL, 'NA', pickup_grid) pickup_grid,\n",
      "        IF(dropoff_grid IS NULL, 'NA', dropoff_grid) dropoff_grid,\n",
      "        IF(euclidean IS NULL, -1, euclidean) euclidean,\n",
      "        IF(loc_cross IS NULL, 'NA', loc_cross) loc_cross,\n",
      "        tip_bin\n",
      "    FROM playground_us.chicago_taxitrips_prep \n",
      "    WHERE ML_use = 'UNASSIGNED'\n",
      "    LIMIT 5120\n"
     ]
    }
   ],
   "source": [
    "ML_USE = 'UNASSIGNED'\n",
    "LIMIT = 5120\n",
    "\n",
    "raw_data_query = datasource_utils.get_training_source_query(\n",
    "    project=PROJECT, \n",
    "    region=REGION, \n",
    "    dataset_display_name=DATASET_DISPLAY_NAME, \n",
    "    ml_use=ML_USE, \n",
    "    limit=LIMIT\n",
    ")\n",
    "\n",
    "print(raw_data_query)"
   ]
  },
  {
   "cell_type": "markdown",
   "id": "ba5e7428",
   "metadata": {},
   "source": [
    "### Test Data Preprocessing Locally"
   ]
  },
  {
   "cell_type": "code",
   "execution_count": 139,
   "id": "d3e54ec7",
   "metadata": {},
   "outputs": [],
   "source": [
    "args = {\n",
    "    'runner': 'DirectRunner',\n",
    "    'raw_data_query': raw_data_query,\n",
    "    'write_raw_data': True,\n",
    "    'exported_data_prefix': EXPORTED_DATA_PREFIX,\n",
    "    'transformed_data_prefix': TRANSFORMED_DATA_PREFIX,\n",
    "    'transform_artifact_dir': TRANSFORM_ARTIFACTS_DIR,\n",
    "    'temporary_dir': os.path.join(WORKSPACE, 'tmp'),\n",
    "    'gcs_location': f'gs://{BUCKET}/bq_tmp',\n",
    "    'project': PROJECT\n",
    "}"
   ]
  },
  {
   "cell_type": "code",
   "execution_count": 140,
   "id": "9b20c6bb",
   "metadata": {},
   "outputs": [],
   "source": [
    "vertex_ai.log_params(args)"
   ]
  },
  {
   "cell_type": "code",
   "execution_count": 141,
   "id": "07741f72",
   "metadata": {},
   "outputs": [
    {
     "name": "stdout",
     "output_type": "stream",
     "text": [
      "Data preprocessing started...\n",
      "WARNING:tensorflow:Tensorflow version (2.3.4) found. Note that Tensorflow Transform support for TF 2.0 is currently in beta, and features such as tf.function may not work as intended. \n",
      "WARNING:tensorflow:Tensorflow version (2.3.4) found. Note that Tensorflow Transform support for TF 2.0 is currently in beta, and features such as tf.function may not work as intended. \n",
      "WARNING:tensorflow:Tensorflow version (2.3.4) found. Note that Tensorflow Transform support for TF 2.0 is currently in beta, and features such as tf.function may not work as intended. \n",
      "WARNING:tensorflow:Tensorflow version (2.3.4) found. Note that Tensorflow Transform support for TF 2.0 is currently in beta, and features such as tf.function may not work as intended. \n",
      "WARNING:tensorflow:You are passing instance dicts and DatasetMetadata to TFT which will not provide optimal performance. Consider following the TFT guide to upgrade to the TFXIO format (Apache Arrow RecordBatch).\n",
      "WARNING:tensorflow:You are passing instance dicts and DatasetMetadata to TFT which will not provide optimal performance. Consider following the TFT guide to upgrade to the TFXIO format (Apache Arrow RecordBatch).\n",
      "INFO:tensorflow:Assets added to graph.\n",
      "INFO:tensorflow:Assets added to graph.\n",
      "INFO:tensorflow:No assets to write.\n",
      "INFO:tensorflow:No assets to write.\n",
      "WARNING:tensorflow:Issue encountered when serializing tft_mapper_use.\n",
      "Type is unsupported, or the types of the items don't match field type in CollectionDef. Note this is a warning and probably safe to ignore.\n",
      "'Counter' object has no attribute 'name'\n",
      "WARNING:tensorflow:Issue encountered when serializing tft_mapper_use.\n",
      "Type is unsupported, or the types of the items don't match field type in CollectionDef. Note this is a warning and probably safe to ignore.\n",
      "'Counter' object has no attribute 'name'\n",
      "INFO:tensorflow:SavedModel written to: gs://aiops-industrialization-bucket-ravi/chicago-taxi-tips/tmp/tftransform_tmp/92a64db3f4a448ce95bc8b7224cf56e8/saved_model.pb\n",
      "INFO:tensorflow:SavedModel written to: gs://aiops-industrialization-bucket-ravi/chicago-taxi-tips/tmp/tftransform_tmp/92a64db3f4a448ce95bc8b7224cf56e8/saved_model.pb\n",
      "INFO:tensorflow:Assets added to graph.\n",
      "INFO:tensorflow:Assets added to graph.\n",
      "INFO:tensorflow:No assets to write.\n",
      "INFO:tensorflow:No assets to write.\n",
      "WARNING:tensorflow:Issue encountered when serializing tft_mapper_use.\n",
      "Type is unsupported, or the types of the items don't match field type in CollectionDef. Note this is a warning and probably safe to ignore.\n",
      "'Counter' object has no attribute 'name'\n",
      "WARNING:tensorflow:Issue encountered when serializing tft_mapper_use.\n",
      "Type is unsupported, or the types of the items don't match field type in CollectionDef. Note this is a warning and probably safe to ignore.\n",
      "'Counter' object has no attribute 'name'\n",
      "INFO:tensorflow:SavedModel written to: gs://aiops-industrialization-bucket-ravi/chicago-taxi-tips/tmp/tftransform_tmp/64b7538f65f1450bb985bad52a9be967/saved_model.pb\n",
      "INFO:tensorflow:SavedModel written to: gs://aiops-industrialization-bucket-ravi/chicago-taxi-tips/tmp/tftransform_tmp/64b7538f65f1450bb985bad52a9be967/saved_model.pb\n",
      "WARNING:tensorflow:Tensorflow version (2.3.4) found. Note that Tensorflow Transform support for TF 2.0 is currently in beta, and features such as tf.function may not work as intended. \n",
      "WARNING:tensorflow:Tensorflow version (2.3.4) found. Note that Tensorflow Transform support for TF 2.0 is currently in beta, and features such as tf.function may not work as intended. \n",
      "WARNING:tensorflow:You are passing instance dicts and DatasetMetadata to TFT which will not provide optimal performance. Consider following the TFT guide to upgrade to the TFXIO format (Apache Arrow RecordBatch).\n",
      "WARNING:tensorflow:You are passing instance dicts and DatasetMetadata to TFT which will not provide optimal performance. Consider following the TFT guide to upgrade to the TFXIO format (Apache Arrow RecordBatch).\n",
      "WARNING:tensorflow:Tensorflow version (2.3.4) found. Note that Tensorflow Transform support for TF 2.0 is currently in beta, and features such as tf.function may not work as intended. \n",
      "WARNING:tensorflow:Tensorflow version (2.3.4) found. Note that Tensorflow Transform support for TF 2.0 is currently in beta, and features such as tf.function may not work as intended. \n",
      "WARNING:tensorflow:You are passing instance dicts and DatasetMetadata to TFT which will not provide optimal performance. Consider following the TFT guide to upgrade to the TFXIO format (Apache Arrow RecordBatch).\n",
      "WARNING:tensorflow:You are passing instance dicts and DatasetMetadata to TFT which will not provide optimal performance. Consider following the TFT guide to upgrade to the TFXIO format (Apache Arrow RecordBatch).\n",
      "WARNING:apache_beam.options.pipeline_options:Discarding invalid overrides: {'raw_data_query': \"\\n    SELECT \\n        IF(trip_month IS NULL, -1, trip_month) trip_month,\\n        IF(trip_day IS NULL, -1, trip_day) trip_day,\\n        IF(trip_day_of_week IS NULL, -1, trip_day_of_week) trip_day_of_week,\\n        IF(trip_hour IS NULL, -1, trip_hour) trip_hour,\\n        IF(trip_seconds IS NULL, -1, trip_seconds) trip_seconds,\\n        IF(trip_miles IS NULL, -1, trip_miles) trip_miles,\\n        IF(payment_type IS NULL, 'NA', payment_type) payment_type,\\n        IF(pickup_grid IS NULL, 'NA', pickup_grid) pickup_grid,\\n        IF(dropoff_grid IS NULL, 'NA', dropoff_grid) dropoff_grid,\\n        IF(euclidean IS NULL, -1, euclidean) euclidean,\\n        IF(loc_cross IS NULL, 'NA', loc_cross) loc_cross,\\n        tip_bin\\n    FROM playground_us.chicago_taxitrips_prep \\n    WHERE ML_use = 'UNASSIGNED'\\n    LIMIT 5120\", 'write_raw_data': True, 'exported_data_prefix': 'gs://aiops-industrialization-bucket-ravi/chicago-taxi-tips/experiments/chicago-taxi-tips-classifier-v01-experiment/run-local-20210830101722/exported_data', 'transformed_data_prefix': 'gs://aiops-industrialization-bucket-ravi/chicago-taxi-tips/experiments/chicago-taxi-tips-classifier-v01-experiment/run-local-20210830101722/transformed_data', 'transform_artifact_dir': 'gs://aiops-industrialization-bucket-ravi/chicago-taxi-tips/experiments/chicago-taxi-tips-classifier-v01-experiment/run-local-20210830101722/transform_artifacts', 'temporary_dir': 'gs://aiops-industrialization-bucket-ravi/chicago-taxi-tips/tmp', 'gcs_location': 'gs://aiops-industrialization-bucket-ravi/bq_tmp'}\n",
      "INFO:apache_beam.runners.portability.fn_api_runner.translations:==================== <function annotate_downstream_side_inputs at 0x7f8a74ff9b00> ====================\n",
      "INFO:apache_beam.runners.portability.fn_api_runner.translations:==================== <function fix_side_input_pcoll_coders at 0x7f8a74ff9c20> ====================\n",
      "INFO:apache_beam.runners.portability.fn_api_runner.translations:==================== <function lift_combiners at 0x7f8a74ff9ef0> ====================\n",
      "INFO:apache_beam.runners.portability.fn_api_runner.translations:==================== <function expand_sdf at 0x7f8a74ffb0e0> ====================\n",
      "INFO:apache_beam.runners.portability.fn_api_runner.translations:==================== <function expand_gbk at 0x7f8a74ffb170> ====================\n",
      "INFO:apache_beam.runners.portability.fn_api_runner.translations:==================== <function sink_flattens at 0x7f8a74ffb290> ====================\n",
      "INFO:apache_beam.runners.portability.fn_api_runner.translations:==================== <function greedily_fuse at 0x7f8a74ffb320> ====================\n",
      "INFO:apache_beam.runners.portability.fn_api_runner.translations:==================== <function read_to_impulse at 0x7f8a74ffb3b0> ====================\n",
      "INFO:apache_beam.runners.portability.fn_api_runner.translations:==================== <function impulse_to_input at 0x7f8a74ffb440> ====================\n",
      "INFO:apache_beam.runners.portability.fn_api_runner.translations:==================== <function sort_stages at 0x7f8a74ffb680> ====================\n",
      "INFO:apache_beam.runners.portability.fn_api_runner.translations:==================== <function setup_timer_mapping at 0x7f8a74ffb5f0> ====================\n",
      "INFO:apache_beam.runners.portability.fn_api_runner.translations:==================== <function populate_data_channel_coders at 0x7f8a74ffb710> ====================\n",
      "INFO:apache_beam.runners.worker.statecache:Creating state cache with size 100\n",
      "INFO:apache_beam.runners.portability.fn_api_runner.worker_handlers:Created Worker handler <apache_beam.runners.portability.fn_api_runner.worker_handlers.EmbeddedWorkerHandler object at 0x7f8a14295b50> for environment ref_Environment_default_environment_1 (beam:env:embedded_python:v1, b'')\n",
      "INFO:apache_beam.runners.portability.fn_api_runner.fn_runner:Running (((ref_AppliedPTransform_Analyze & Transform/AnalyzeDataset/CreateSavedModelForAnalyzerInputs[Phase0][tf_compat_v1]/BindTensors/CreateSavedModel/Impulse_53)+(ref_AppliedPTransform_Analyze & Transform/AnalyzeDataset/CreateSavedModelForAnalyzerInputs[Phase0][tf_compat_v1]/BindTensors/CreateSavedModel/FlatMap(<lambda at core.py:2957>)_54))+(ref_AppliedPTransform_Analyze & Transform/AnalyzeDataset/CreateSavedModelForAnalyzerInputs[Phase0][tf_compat_v1]/BindTensors/CreateSavedModel/Map(decode)_56))+(ref_PCollection_PCollection_29/Write)\n",
      "INFO:apache_beam.runners.portability.fn_api_runner.fn_runner:Running (((((ref_AppliedPTransform_Write Raw Eval Data/Write/WriteImpl/DoOnce/Impulse_823)+(ref_AppliedPTransform_Write Raw Eval Data/Write/WriteImpl/DoOnce/FlatMap(<lambda at core.py:2957>)_824))+(ref_AppliedPTransform_Write Raw Eval Data/Write/WriteImpl/DoOnce/Map(decode)_826))+(ref_AppliedPTransform_Write Raw Eval Data/Write/WriteImpl/InitializeWrite_827))+(ref_PCollection_PCollection_473/Write))+(ref_PCollection_PCollection_474/Write)\n",
      "INFO:apache_beam.runners.portability.fn_api_runner.fn_runner:Running ((((ref_AppliedPTransform_Read Raw Data/Read/Impulse_10)+(ref_AppliedPTransform_Read Raw Data/Read/Map(<lambda at iobase.py:899>)_11))+(Read Raw Data/Read/SDFBoundedSourceReader/ParDo(SDFBoundedSourceDoFn)/PairWithRestriction))+(Read Raw Data/Read/SDFBoundedSourceReader/ParDo(SDFBoundedSourceDoFn)/SplitAndSizeRestriction))+(ref_PCollection_PCollection_6_split/Write)\n",
      "INFO:oauth2client.transport:Refreshing due to a 401 (attempt 1/2)\n",
      "INFO:apache_beam.io.gcp.bigquery_tools:Stated BigQuery job: <JobReference\n",
      " location: 'US'\n",
      " projectId: 'aiops-industrialization'>\n",
      " bq show -j --format=prettyjson --project_id=aiops-industrialization None\n",
      "INFO:apache_beam.io.gcp.bigquery_tools:Using location 'US' from table <TableReference\n",
      " datasetId: 'playground_us'\n",
      " projectId: 'aiops-industrialization'\n",
      " tableId: 'chicago_taxitrips_prep'> referenced by query \n",
      "    SELECT \n",
      "        IF(trip_month IS NULL, -1, trip_month) trip_month,\n",
      "        IF(trip_day IS NULL, -1, trip_day) trip_day,\n",
      "        IF(trip_day_of_week IS NULL, -1, trip_day_of_week) trip_day_of_week,\n",
      "        IF(trip_hour IS NULL, -1, trip_hour) trip_hour,\n",
      "        IF(trip_seconds IS NULL, -1, trip_seconds) trip_seconds,\n",
      "        IF(trip_miles IS NULL, -1, trip_miles) trip_miles,\n",
      "        IF(payment_type IS NULL, 'NA', payment_type) payment_type,\n",
      "        IF(pickup_grid IS NULL, 'NA', pickup_grid) pickup_grid,\n",
      "        IF(dropoff_grid IS NULL, 'NA', dropoff_grid) dropoff_grid,\n",
      "        IF(euclidean IS NULL, -1, euclidean) euclidean,\n",
      "        IF(loc_cross IS NULL, 'NA', loc_cross) loc_cross,\n",
      "        tip_bin\n",
      "    FROM playground_us.chicago_taxitrips_prep \n",
      "    WHERE ML_use = 'UNASSIGNED'\n",
      "    LIMIT 5120\n",
      "WARNING:apache_beam.io.gcp.bigquery_tools:Dataset aiops-industrialization:temp_dataset_d366d9f9459e4a4ea7ffabcd207bd3c2 does not exist so we will create it as temporary with location=US\n",
      "INFO:apache_beam.io.gcp.bigquery_tools:Stated BigQuery job: <JobReference\n",
      " jobId: 'beam_bq_job_QUERY_BQ_EXPORT_JOB_8a3b87ac-8_1630318776_590'\n",
      " location: 'US'\n",
      " projectId: 'aiops-industrialization'>\n",
      " bq show -j --format=prettyjson --project_id=aiops-industrialization beam_bq_job_QUERY_BQ_EXPORT_JOB_8a3b87ac-8_1630318776_590\n",
      "INFO:root:Job status: RUNNING\n",
      "INFO:root:Job status: DONE\n",
      "INFO:apache_beam.io.gcp.bigquery_tools:Stated BigQuery job: <JobReference\n",
      " jobId: 'beam_bq_job_EXPORT_BQ_EXPORT_JOB_8a3b87ac-8_1630318782_17'\n",
      " location: 'US'\n",
      " projectId: 'aiops-industrialization'>\n",
      " bq show -j --format=prettyjson --project_id=aiops-industrialization beam_bq_job_EXPORT_BQ_EXPORT_JOB_8a3b87ac-8_1630318782_17\n",
      "INFO:root:Job status: RUNNING\n",
      "INFO:root:Job status: DONE\n",
      "INFO:apache_beam.io.gcp.gcsio:Starting the size estimation of the input\n",
      "INFO:apache_beam.io.gcp.gcsio:Finished listing 1 files in 0.08144235610961914 seconds.\n",
      "INFO:apache_beam.runners.portability.fn_api_runner.fn_runner:Running (((((((((((((((((((((((((((((((((((((((((((((((((((((((((((((((((((((((((((ref_PCollection_PCollection_6_split/Read)+(Read Raw Data/Read/SDFBoundedSourceReader/ParDo(SDFBoundedSourceDoFn)/Process))+(ref_AppliedPTransform_Read Raw Data/_PassThroughThenCleanup/ParDo(PassThrough)/ParDo(PassThrough)_16))+(ref_PCollection_PCollection_9/Write))+(ref_AppliedPTransform_Parse Data_23))+(ref_AppliedPTransform_Split/ParDo(ApplyPartitionFnFn)/ParDo(ApplyPartitionFnFn)_26))+(ref_AppliedPTransform_Transform/InstanceDictToRecordBatch/EncodeInstanceDictsAsTfExample_771))+(ref_AppliedPTransform_Write Raw Eval Data/Write/WriteImpl/WindowInto(WindowIntoFn)_828))+(ref_AppliedPTransform_Analyze & Transform/AnalyzeDataset/InstanceDictToRecordBatch/EncodeInstanceDictsAsTfExample_30))+(ref_AppliedPTransform_Analyze & Transform/TransformDataset/InstanceDictToRecordBatch/EncodeInstanceDictsAsTfExample_731))+(ref_AppliedPTransform_Analyze & Transform/AnalyzeDataset/InstanceDictToRecordBatch/TfExampleToRecordBatch/RawRecordBeamSource/CollectRawRecordTelemetry/ProfileRawRecords_35))+(ref_AppliedPTransform_Analyze & Transform/AnalyzeDataset/InstanceDictToRecordBatch/TfExampleToRecordBatch/RawRecordToRecordBatch/RawRecordToRecordBatch/Batch/ParDo(_GlobalWindowsBatchingDoFn)_39))+(ref_AppliedPTransform_Analyze & Transform/AnalyzeDataset/InstanceDictToRecordBatch/TfExampleToRecordBatch/RawRecordToRecordBatch/RawRecordToRecordBatch/Decode_40))+(ref_AppliedPTransform_Analyze & Transform/AnalyzeDataset/InstanceDictToRecordBatch/TfExampleToRecordBatch/RawRecordToRecordBatch/CollectRecordBatchTelemetry/ProfileRecordBatches_42))+(ref_AppliedPTransform_Analyze & Transform/AnalyzeDataset/ExtractInputForSavedModel[FlattenedDataset]/Identity_65))+(ref_AppliedPTransform_Analyze & Transform/AnalyzeDataset/ApplySavedModel[Phase0]/ApplySavedModel_67))+(ref_AppliedPTransform_Analyze & Transform/AnalyzeDataset/PackedCombineAccumulate[ApplySavedModel[Phase0]]/InitialPackedCombineGlobally/KeyWithVoid_70))+(ref_AppliedPTransform_Analyze & Transform/AnalyzeDataset/TensorSource[compute_and_apply_vocabulary/vocabulary]/ExtractKeys_145))+(ref_AppliedPTransform_Analyze & Transform/AnalyzeDataset/TensorSource[compute_and_apply_vocabulary_1/vocabulary]/ExtractKeys_213))+(ref_AppliedPTransform_Analyze & Transform/AnalyzeDataset/TensorSource[compute_and_apply_vocabulary_2/vocabulary]/ExtractKeys_281))+(ref_AppliedPTransform_Analyze & Transform/AnalyzeDataset/TensorSource[compute_and_apply_vocabulary_3/vocabulary]/ExtractKeys_349))+(ref_AppliedPTransform_Analyze & Transform/AnalyzeDataset/TensorSource[compute_and_apply_vocabulary_4/vocabulary]/ExtractKeys_417))+(ref_AppliedPTransform_Analyze & Transform/AnalyzeDataset/TensorSource[compute_and_apply_vocabulary_5/vocabulary]/ExtractKeys_485))+(ref_AppliedPTransform_Analyze & Transform/AnalyzeDataset/TensorSource[compute_and_apply_vocabulary_6/vocabulary]/ExtractKeys_553))+(ref_AppliedPTransform_Analyze & Transform/AnalyzeDataset/TensorSource[compute_and_apply_vocabulary_7/vocabulary]/ExtractKeys_621))+(ref_AppliedPTransform_Analyze & Transform/AnalyzeDataset/PackedCombineAccumulate[ApplySavedModel[Phase0]]/InitialPackedCombineGlobally/CombinePerKey/ParDo(SplitHotCold)/ParDo(SplitHotCold)_73))+(Analyze & Transform/AnalyzeDataset/PackedCombineAccumulate[ApplySavedModel[Phase0]]/InitialPackedCombineGlobally/CombinePerKey/Flatten/Transcode/0))+(ref_AppliedPTransform_Analyze & Transform/AnalyzeDataset/PackedCombineAccumulate[ApplySavedModel[Phase0]]/InitialPackedCombineGlobally/CombinePerKey/WindowIntoDiscarding_74))+(Analyze & Transform/AnalyzeDataset/PackedCombineAccumulate[ApplySavedModel[Phase0]]/InitialPackedCombineGlobally/CombinePerKey/CombinePerKey(PreCombineFn)/Precombine))+(Analyze & Transform/AnalyzeDataset/PackedCombineAccumulate[ApplySavedModel[Phase0]]/InitialPackedCombineGlobally/CombinePerKey/CombinePerKey(PreCombineFn)/Group/Write))+(Analyze & Transform/AnalyzeDataset/PackedCombineAccumulate[ApplySavedModel[Phase0]]/InitialPackedCombineGlobally/CombinePerKey/Flatten/Write/0))+(ref_AppliedPTransform_Analyze & Transform/AnalyzeDataset/VocabularyAccumulate[compute_and_apply_vocabulary/vocabulary]/FlattenTokensAndMaybeWeightsLabels_147))+(ref_AppliedPTransform_Analyze & Transform/AnalyzeDataset/VocabularyAccumulate[compute_and_apply_vocabulary/vocabulary]/CountPerToken/CountPerToken:PairWithVoid_149))+(Analyze & Transform/AnalyzeDataset/VocabularyAccumulate[compute_and_apply_vocabulary/vocabulary]/CountPerToken/CombinePerKey(CountCombineFn)/Precombine))+(Analyze & Transform/AnalyzeDataset/VocabularyAccumulate[compute_and_apply_vocabulary/vocabulary]/CountPerToken/CombinePerKey(CountCombineFn)/Group/Write))+(ref_AppliedPTransform_Analyze & Transform/AnalyzeDataset/VocabularyAccumulate[compute_and_apply_vocabulary_1/vocabulary]/FlattenTokensAndMaybeWeightsLabels_215))+(ref_AppliedPTransform_Analyze & Transform/AnalyzeDataset/VocabularyAccumulate[compute_and_apply_vocabulary_1/vocabulary]/CountPerToken/CountPerToken:PairWithVoid_217))+(Analyze & Transform/AnalyzeDataset/VocabularyAccumulate[compute_and_apply_vocabulary_1/vocabulary]/CountPerToken/CombinePerKey(CountCombineFn)/Precombine))+(Analyze & Transform/AnalyzeDataset/VocabularyAccumulate[compute_and_apply_vocabulary_1/vocabulary]/CountPerToken/CombinePerKey(CountCombineFn)/Group/Write))+(ref_AppliedPTransform_Analyze & Transform/AnalyzeDataset/VocabularyAccumulate[compute_and_apply_vocabulary_2/vocabulary]/FlattenTokensAndMaybeWeightsLabels_283))+(ref_AppliedPTransform_Analyze & Transform/AnalyzeDataset/VocabularyAccumulate[compute_and_apply_vocabulary_2/vocabulary]/CountPerToken/CountPerToken:PairWithVoid_285))+(Analyze & Transform/AnalyzeDataset/VocabularyAccumulate[compute_and_apply_vocabulary_2/vocabulary]/CountPerToken/CombinePerKey(CountCombineFn)/Precombine))+(Analyze & Transform/AnalyzeDataset/VocabularyAccumulate[compute_and_apply_vocabulary_2/vocabulary]/CountPerToken/CombinePerKey(CountCombineFn)/Group/Write))+(ref_AppliedPTransform_Analyze & Transform/AnalyzeDataset/VocabularyAccumulate[compute_and_apply_vocabulary_3/vocabulary]/FlattenTokensAndMaybeWeightsLabels_351))+(ref_AppliedPTransform_Analyze & Transform/AnalyzeDataset/VocabularyAccumulate[compute_and_apply_vocabulary_3/vocabulary]/CountPerToken/CountPerToken:PairWithVoid_353))+(Analyze & Transform/AnalyzeDataset/VocabularyAccumulate[compute_and_apply_vocabulary_3/vocabulary]/CountPerToken/CombinePerKey(CountCombineFn)/Precombine))+(Analyze & Transform/AnalyzeDataset/VocabularyAccumulate[compute_and_apply_vocabulary_3/vocabulary]/CountPerToken/CombinePerKey(CountCombineFn)/Group/Write))+(ref_AppliedPTransform_Analyze & Transform/AnalyzeDataset/VocabularyAccumulate[compute_and_apply_vocabulary_4/vocabulary]/FlattenTokensAndMaybeWeightsLabels_419))+(ref_AppliedPTransform_Analyze & Transform/AnalyzeDataset/VocabularyAccumulate[compute_and_apply_vocabulary_4/vocabulary]/CountPerToken/CountPerToken:PairWithVoid_421))+(Analyze & Transform/AnalyzeDataset/VocabularyAccumulate[compute_and_apply_vocabulary_4/vocabulary]/CountPerToken/CombinePerKey(CountCombineFn)/Precombine))+(Analyze & Transform/AnalyzeDataset/VocabularyAccumulate[compute_and_apply_vocabulary_4/vocabulary]/CountPerToken/CombinePerKey(CountCombineFn)/Group/Write))+(ref_AppliedPTransform_Analyze & Transform/AnalyzeDataset/VocabularyAccumulate[compute_and_apply_vocabulary_5/vocabulary]/FlattenTokensAndMaybeWeightsLabels_487))+(ref_AppliedPTransform_Analyze & Transform/AnalyzeDataset/VocabularyAccumulate[compute_and_apply_vocabulary_5/vocabulary]/CountPerToken/CountPerToken:PairWithVoid_489))+(Analyze & Transform/AnalyzeDataset/VocabularyAccumulate[compute_and_apply_vocabulary_5/vocabulary]/CountPerToken/CombinePerKey(CountCombineFn)/Precombine))+(Analyze & Transform/AnalyzeDataset/VocabularyAccumulate[compute_and_apply_vocabulary_5/vocabulary]/CountPerToken/CombinePerKey(CountCombineFn)/Group/Write))+(ref_AppliedPTransform_Analyze & Transform/AnalyzeDataset/VocabularyAccumulate[compute_and_apply_vocabulary_6/vocabulary]/FlattenTokensAndMaybeWeightsLabels_555))+(ref_AppliedPTransform_Analyze & Transform/AnalyzeDataset/VocabularyAccumulate[compute_and_apply_vocabulary_6/vocabulary]/CountPerToken/CountPerToken:PairWithVoid_557))+(Analyze & Transform/AnalyzeDataset/VocabularyAccumulate[compute_and_apply_vocabulary_6/vocabulary]/CountPerToken/CombinePerKey(CountCombineFn)/Precombine))+(Analyze & Transform/AnalyzeDataset/VocabularyAccumulate[compute_and_apply_vocabulary_6/vocabulary]/CountPerToken/CombinePerKey(CountCombineFn)/Group/Write))+(ref_AppliedPTransform_Analyze & Transform/AnalyzeDataset/VocabularyAccumulate[compute_and_apply_vocabulary_7/vocabulary]/FlattenTokensAndMaybeWeightsLabels_623))+(ref_AppliedPTransform_Analyze & Transform/AnalyzeDataset/VocabularyAccumulate[compute_and_apply_vocabulary_7/vocabulary]/CountPerToken/CountPerToken:PairWithVoid_625))+(Analyze & Transform/AnalyzeDataset/VocabularyAccumulate[compute_and_apply_vocabulary_7/vocabulary]/CountPerToken/CombinePerKey(CountCombineFn)/Precombine))+(Analyze & Transform/AnalyzeDataset/VocabularyAccumulate[compute_and_apply_vocabulary_7/vocabulary]/CountPerToken/CombinePerKey(CountCombineFn)/Group/Write))+(ref_AppliedPTransform_Analyze & Transform/TransformDataset/InstanceDictToRecordBatch/TfExampleToRecordBatch/RawRecordBeamSource/CollectRawRecordTelemetry/ProfileRawRecords_736))+(ref_AppliedPTransform_Analyze & Transform/TransformDataset/InstanceDictToRecordBatch/TfExampleToRecordBatch/RawRecordToRecordBatch/RawRecordToRecordBatch/Batch/ParDo(_GlobalWindowsBatchingDoFn)_740))+(ref_AppliedPTransform_Analyze & Transform/TransformDataset/InstanceDictToRecordBatch/TfExampleToRecordBatch/RawRecordToRecordBatch/RawRecordToRecordBatch/Decode_741))+(ref_AppliedPTransform_Analyze & Transform/TransformDataset/InstanceDictToRecordBatch/TfExampleToRecordBatch/RawRecordToRecordBatch/CollectRecordBatchTelemetry/ProfileRecordBatches_743))+(ref_PCollection_PCollection_423/Write))+(ref_AppliedPTransform_Transform/InstanceDictToRecordBatch/TfExampleToRecordBatch/RawRecordBeamSource/CollectRawRecordTelemetry/ProfileRawRecords_776))+(ref_AppliedPTransform_Transform/InstanceDictToRecordBatch/TfExampleToRecordBatch/RawRecordToRecordBatch/RawRecordToRecordBatch/Batch/ParDo(_GlobalWindowsBatchingDoFn)_780))+(ref_AppliedPTransform_Transform/InstanceDictToRecordBatch/TfExampleToRecordBatch/RawRecordToRecordBatch/RawRecordToRecordBatch/Decode_781))+(ref_AppliedPTransform_Transform/InstanceDictToRecordBatch/TfExampleToRecordBatch/RawRecordToRecordBatch/CollectRecordBatchTelemetry/ProfileRecordBatches_783))+(ref_PCollection_PCollection_446/Write))+(ref_AppliedPTransform_Write Raw Eval Data/Write/WriteImpl/WriteBundles_829))+(ref_AppliedPTransform_Write Raw Eval Data/Write/WriteImpl/Pair_830))+(Write Raw Eval Data/Write/WriteImpl/GroupByKey/Write)\n",
      "INFO:tensorflow:Saver not created because there are no variables in the graph to restore\n",
      "INFO:tensorflow:Saver not created because there are no variables in the graph to restore\n",
      "INFO:apache_beam.runners.portability.fn_api_runner.fn_runner:Running ((((Analyze & Transform/AnalyzeDataset/VocabularyAccumulate[compute_and_apply_vocabulary_2/vocabulary]/CountPerToken/CombinePerKey(CountCombineFn)/Group/Read)+(Analyze & Transform/AnalyzeDataset/VocabularyAccumulate[compute_and_apply_vocabulary_2/vocabulary]/CountPerToken/CombinePerKey(CountCombineFn)/Merge))+(Analyze & Transform/AnalyzeDataset/VocabularyAccumulate[compute_and_apply_vocabulary_2/vocabulary]/CountPerToken/CombinePerKey(CountCombineFn)/ExtractOutputs))+(Analyze & Transform/AnalyzeDataset/VocabularyMerge[compute_and_apply_vocabulary_2/vocabulary]/CountPerToken/Precombine))+(Analyze & Transform/AnalyzeDataset/VocabularyMerge[compute_and_apply_vocabulary_2/vocabulary]/CountPerToken/Group/Write)\n",
      "INFO:apache_beam.runners.portability.fn_api_runner.fn_runner:Running (((((((((Analyze & Transform/AnalyzeDataset/VocabularyMerge[compute_and_apply_vocabulary_2/vocabulary]/CountPerToken/Group/Read)+(Analyze & Transform/AnalyzeDataset/VocabularyMerge[compute_and_apply_vocabulary_2/vocabulary]/CountPerToken/Merge))+(Analyze & Transform/AnalyzeDataset/VocabularyMerge[compute_and_apply_vocabulary_2/vocabulary]/CountPerToken/ExtractOutputs))+(ref_AppliedPTransform_Analyze & Transform/AnalyzeDataset/VocabularyMerge[compute_and_apply_vocabulary_2/vocabulary]/SwapTokensAndCounts_295))+(ref_AppliedPTransform_Analyze & Transform/AnalyzeDataset/VocabularyCount[compute_and_apply_vocabulary_2/vocabulary]/TotalVocabSize/CombineGlobally(CountCombineFn)/KeyWithVoid_299))+(ref_AppliedPTransform_Analyze & Transform/AnalyzeDataset/VocabularyPrune[compute_and_apply_vocabulary_2/vocabulary]/ApplyThresholdsAndTopK/FlattenToSingleMetric_316))+(Analyze & Transform/AnalyzeDataset/VocabularyCount[compute_and_apply_vocabulary_2/vocabulary]/TotalVocabSize/CombineGlobally(CountCombineFn)/CombinePerKey/Precombine))+(Analyze & Transform/AnalyzeDataset/VocabularyCount[compute_and_apply_vocabulary_2/vocabulary]/TotalVocabSize/CombineGlobally(CountCombineFn)/CombinePerKey/Group/Write))+(ref_AppliedPTransform_Analyze & Transform/AnalyzeDataset/VocabularyOrderAndWrite[compute_and_apply_vocabulary_2/vocabulary]/EncodeNumericalKeys_318))+(ref_PCollection_PCollection_178/Write)\n",
      "INFO:apache_beam.runners.portability.fn_api_runner.fn_runner:Running ((((Analyze & Transform/AnalyzeDataset/VocabularyCount[compute_and_apply_vocabulary_2/vocabulary]/TotalVocabSize/CombineGlobally(CountCombineFn)/CombinePerKey/Group/Read)+(Analyze & Transform/AnalyzeDataset/VocabularyCount[compute_and_apply_vocabulary_2/vocabulary]/TotalVocabSize/CombineGlobally(CountCombineFn)/CombinePerKey/Merge))+(Analyze & Transform/AnalyzeDataset/VocabularyCount[compute_and_apply_vocabulary_2/vocabulary]/TotalVocabSize/CombineGlobally(CountCombineFn)/CombinePerKey/ExtractOutputs))+(ref_AppliedPTransform_Analyze & Transform/AnalyzeDataset/VocabularyCount[compute_and_apply_vocabulary_2/vocabulary]/TotalVocabSize/CombineGlobally(CountCombineFn)/UnKey_304))+(ref_PCollection_PCollection_170/Write)\n",
      "INFO:apache_beam.runners.portability.fn_api_runner.fn_runner:Running ((((((ref_AppliedPTransform_Analyze & Transform/AnalyzeDataset/VocabularyCount[compute_and_apply_vocabulary_2/vocabulary]/TotalVocabSize/CombineGlobally(CountCombineFn)/DoOnce/Impulse_306)+(ref_AppliedPTransform_Analyze & Transform/AnalyzeDataset/VocabularyCount[compute_and_apply_vocabulary_2/vocabulary]/TotalVocabSize/CombineGlobally(CountCombineFn)/DoOnce/FlatMap(<lambda at core.py:2957>)_307))+(ref_AppliedPTransform_Analyze & Transform/AnalyzeDataset/VocabularyCount[compute_and_apply_vocabulary_2/vocabulary]/TotalVocabSize/CombineGlobally(CountCombineFn)/DoOnce/Map(decode)_309))+(ref_AppliedPTransform_Analyze & Transform/AnalyzeDataset/VocabularyCount[compute_and_apply_vocabulary_2/vocabulary]/TotalVocabSize/CombineGlobally(CountCombineFn)/InjectDefault_310))+(ref_AppliedPTransform_Analyze & Transform/AnalyzeDataset/VocabularyCount[compute_and_apply_vocabulary_2/vocabulary]/ToInt64_311))+(ref_AppliedPTransform_Analyze & Transform/AnalyzeDataset/CreateTensorBinding[compute_and_apply_vocabulary_2/vocabulary/trip_day_of_week_unpruned_vocab_size]/ToTensorBinding_313))+(ref_PCollection_PCollection_176/Write)\n",
      "INFO:apache_beam.runners.portability.fn_api_runner.fn_runner:Running ((((Analyze & Transform/AnalyzeDataset/VocabularyAccumulate[compute_and_apply_vocabulary_1/vocabulary]/CountPerToken/CombinePerKey(CountCombineFn)/Group/Read)+(Analyze & Transform/AnalyzeDataset/VocabularyAccumulate[compute_and_apply_vocabulary_1/vocabulary]/CountPerToken/CombinePerKey(CountCombineFn)/Merge))+(Analyze & Transform/AnalyzeDataset/VocabularyAccumulate[compute_and_apply_vocabulary_1/vocabulary]/CountPerToken/CombinePerKey(CountCombineFn)/ExtractOutputs))+(Analyze & Transform/AnalyzeDataset/VocabularyMerge[compute_and_apply_vocabulary_1/vocabulary]/CountPerToken/Precombine))+(Analyze & Transform/AnalyzeDataset/VocabularyMerge[compute_and_apply_vocabulary_1/vocabulary]/CountPerToken/Group/Write)\n",
      "INFO:apache_beam.runners.portability.fn_api_runner.fn_runner:Running (((((((((Analyze & Transform/AnalyzeDataset/VocabularyMerge[compute_and_apply_vocabulary_1/vocabulary]/CountPerToken/Group/Read)+(Analyze & Transform/AnalyzeDataset/VocabularyMerge[compute_and_apply_vocabulary_1/vocabulary]/CountPerToken/Merge))+(Analyze & Transform/AnalyzeDataset/VocabularyMerge[compute_and_apply_vocabulary_1/vocabulary]/CountPerToken/ExtractOutputs))+(ref_AppliedPTransform_Analyze & Transform/AnalyzeDataset/VocabularyMerge[compute_and_apply_vocabulary_1/vocabulary]/SwapTokensAndCounts_227))+(ref_AppliedPTransform_Analyze & Transform/AnalyzeDataset/VocabularyCount[compute_and_apply_vocabulary_1/vocabulary]/TotalVocabSize/CombineGlobally(CountCombineFn)/KeyWithVoid_231))+(ref_AppliedPTransform_Analyze & Transform/AnalyzeDataset/VocabularyPrune[compute_and_apply_vocabulary_1/vocabulary]/ApplyThresholdsAndTopK/FlattenToSingleMetric_248))+(Analyze & Transform/AnalyzeDataset/VocabularyCount[compute_and_apply_vocabulary_1/vocabulary]/TotalVocabSize/CombineGlobally(CountCombineFn)/CombinePerKey/Precombine))+(Analyze & Transform/AnalyzeDataset/VocabularyCount[compute_and_apply_vocabulary_1/vocabulary]/TotalVocabSize/CombineGlobally(CountCombineFn)/CombinePerKey/Group/Write))+(ref_AppliedPTransform_Analyze & Transform/AnalyzeDataset/VocabularyOrderAndWrite[compute_and_apply_vocabulary_1/vocabulary]/EncodeNumericalKeys_250))+(ref_PCollection_PCollection_139/Write)\n",
      "INFO:apache_beam.runners.portability.fn_api_runner.fn_runner:Running ((((((ref_AppliedPTransform_Analyze & Transform/AnalyzeDataset/VocabularyOrderAndWrite[compute_and_apply_vocabulary_1/vocabulary]/Prepare/Impulse_252)+(ref_AppliedPTransform_Analyze & Transform/AnalyzeDataset/VocabularyOrderAndWrite[compute_and_apply_vocabulary_1/vocabulary]/Prepare/FlatMap(<lambda at core.py:2957>)_253))+(ref_AppliedPTransform_Analyze & Transform/AnalyzeDataset/VocabularyOrderAndWrite[compute_and_apply_vocabulary_1/vocabulary]/Prepare/Map(decode)_255))+(ref_AppliedPTransform_Analyze & Transform/AnalyzeDataset/VocabularyOrderAndWrite[compute_and_apply_vocabulary_1/vocabulary]/OrderElements_256))+(ref_AppliedPTransform_Analyze & Transform/AnalyzeDataset/VocabularyOrderAndWrite[compute_and_apply_vocabulary_1/vocabulary]/WriteToText/Write/WriteImpl/Map(<lambda at iobase.py:1080>)_266))+(ref_AppliedPTransform_Analyze & Transform/AnalyzeDataset/VocabularyOrderAndWrite[compute_and_apply_vocabulary_1/vocabulary]/WriteToText/Write/WriteImpl/WindowInto(WindowIntoFn)_267))+(Analyze & Transform/AnalyzeDataset/VocabularyOrderAndWrite[compute_and_apply_vocabulary_1/vocabulary]/WriteToText/Write/WriteImpl/GroupByKey/Write)\n",
      "INFO:apache_beam.runners.portability.fn_api_runner.fn_runner:Running (((((ref_AppliedPTransform_Analyze & Transform/AnalyzeDataset/VocabularyOrderAndWrite[compute_and_apply_vocabulary_1/vocabulary]/WriteToText/Write/WriteImpl/DoOnce/Impulse_261)+(ref_AppliedPTransform_Analyze & Transform/AnalyzeDataset/VocabularyOrderAndWrite[compute_and_apply_vocabulary_1/vocabulary]/WriteToText/Write/WriteImpl/DoOnce/FlatMap(<lambda at core.py:2957>)_262))+(ref_AppliedPTransform_Analyze & Transform/AnalyzeDataset/VocabularyOrderAndWrite[compute_and_apply_vocabulary_1/vocabulary]/WriteToText/Write/WriteImpl/DoOnce/Map(decode)_264))+(ref_AppliedPTransform_Analyze & Transform/AnalyzeDataset/VocabularyOrderAndWrite[compute_and_apply_vocabulary_1/vocabulary]/WriteToText/Write/WriteImpl/InitializeWrite_265))+(ref_PCollection_PCollection_146/Write))+(ref_PCollection_PCollection_147/Write)\n",
      "INFO:apache_beam.runners.portability.fn_api_runner.fn_runner:Running ((Analyze & Transform/AnalyzeDataset/VocabularyOrderAndWrite[compute_and_apply_vocabulary_1/vocabulary]/WriteToText/Write/WriteImpl/GroupByKey/Read)+(ref_AppliedPTransform_Analyze & Transform/AnalyzeDataset/VocabularyOrderAndWrite[compute_and_apply_vocabulary_1/vocabulary]/WriteToText/Write/WriteImpl/WriteBundles_269))+(ref_PCollection_PCollection_151/Write)\n",
      "INFO:apache_beam.runners.portability.fn_api_runner.fn_runner:Running ((ref_PCollection_PCollection_146/Read)+(ref_AppliedPTransform_Analyze & Transform/AnalyzeDataset/VocabularyOrderAndWrite[compute_and_apply_vocabulary_1/vocabulary]/WriteToText/Write/WriteImpl/PreFinalize_270))+(ref_PCollection_PCollection_152/Write)\n",
      "WARNING:apache_beam.io.filebasedsink:Deleting 1 existing files in target path matching: \n",
      "INFO:apache_beam.runners.portability.fn_api_runner.fn_runner:Running ((ref_PCollection_PCollection_146/Read)+(ref_AppliedPTransform_Analyze & Transform/AnalyzeDataset/VocabularyOrderAndWrite[compute_and_apply_vocabulary_1/vocabulary]/WriteToText/Write/WriteImpl/FinalizeWrite_271))+(ref_PCollection_PCollection_153/Write)\n",
      "INFO:apache_beam.io.gcp.gcsio:Starting the size estimation of the input\n",
      "INFO:apache_beam.io.gcp.gcsio:Finished listing 1 files in 0.07785272598266602 seconds.\n",
      "INFO:apache_beam.io.filebasedsink:Starting finalize_write threads with num_shards: 1 (skipped: 0), batches: 1, num_threads: 1\n",
      "INFO:apache_beam.io.filebasedsink:Renamed 1 shards in 0.30 seconds.\n",
      "INFO:apache_beam.runners.portability.fn_api_runner.fn_runner:Running (((((ref_AppliedPTransform_Analyze & Transform/AnalyzeDataset/VocabularyOrderAndWrite[compute_and_apply_vocabulary_1/vocabulary]/CreatePath/Impulse_273)+(ref_AppliedPTransform_Analyze & Transform/AnalyzeDataset/VocabularyOrderAndWrite[compute_and_apply_vocabulary_1/vocabulary]/CreatePath/FlatMap(<lambda at core.py:2957>)_274))+(ref_AppliedPTransform_Analyze & Transform/AnalyzeDataset/VocabularyOrderAndWrite[compute_and_apply_vocabulary_1/vocabulary]/CreatePath/Map(decode)_276))+(ref_AppliedPTransform_Analyze & Transform/AnalyzeDataset/VocabularyOrderAndWrite[compute_and_apply_vocabulary_1/vocabulary]/WaitForVocabularyFile_277))+(ref_AppliedPTransform_Analyze & Transform/AnalyzeDataset/CreateTensorBinding[compute_and_apply_vocabulary_1/vocabulary/Placeholder]/ToTensorBinding_279))+(ref_PCollection_PCollection_158/Write)\n",
      "INFO:apache_beam.runners.portability.fn_api_runner.fn_runner:Running ((((Analyze & Transform/AnalyzeDataset/VocabularyAccumulate[compute_and_apply_vocabulary_4/vocabulary]/CountPerToken/CombinePerKey(CountCombineFn)/Group/Read)+(Analyze & Transform/AnalyzeDataset/VocabularyAccumulate[compute_and_apply_vocabulary_4/vocabulary]/CountPerToken/CombinePerKey(CountCombineFn)/Merge))+(Analyze & Transform/AnalyzeDataset/VocabularyAccumulate[compute_and_apply_vocabulary_4/vocabulary]/CountPerToken/CombinePerKey(CountCombineFn)/ExtractOutputs))+(Analyze & Transform/AnalyzeDataset/VocabularyMerge[compute_and_apply_vocabulary_4/vocabulary]/CountPerToken/Precombine))+(Analyze & Transform/AnalyzeDataset/VocabularyMerge[compute_and_apply_vocabulary_4/vocabulary]/CountPerToken/Group/Write)\n",
      "INFO:apache_beam.runners.portability.fn_api_runner.fn_runner:Running (((((((((Analyze & Transform/AnalyzeDataset/VocabularyMerge[compute_and_apply_vocabulary_4/vocabulary]/CountPerToken/Group/Read)+(Analyze & Transform/AnalyzeDataset/VocabularyMerge[compute_and_apply_vocabulary_4/vocabulary]/CountPerToken/Merge))+(Analyze & Transform/AnalyzeDataset/VocabularyMerge[compute_and_apply_vocabulary_4/vocabulary]/CountPerToken/ExtractOutputs))+(ref_AppliedPTransform_Analyze & Transform/AnalyzeDataset/VocabularyMerge[compute_and_apply_vocabulary_4/vocabulary]/SwapTokensAndCounts_431))+(ref_AppliedPTransform_Analyze & Transform/AnalyzeDataset/VocabularyCount[compute_and_apply_vocabulary_4/vocabulary]/TotalVocabSize/CombineGlobally(CountCombineFn)/KeyWithVoid_435))+(ref_AppliedPTransform_Analyze & Transform/AnalyzeDataset/VocabularyPrune[compute_and_apply_vocabulary_4/vocabulary]/KeepOnlyValidStrings_451))+(Analyze & Transform/AnalyzeDataset/VocabularyCount[compute_and_apply_vocabulary_4/vocabulary]/TotalVocabSize/CombineGlobally(CountCombineFn)/CombinePerKey/Precombine))+(Analyze & Transform/AnalyzeDataset/VocabularyCount[compute_and_apply_vocabulary_4/vocabulary]/TotalVocabSize/CombineGlobally(CountCombineFn)/CombinePerKey/Group/Write))+(ref_AppliedPTransform_Analyze & Transform/AnalyzeDataset/VocabularyPrune[compute_and_apply_vocabulary_4/vocabulary]/ApplyThresholdsAndTopK/FlattenToSingleMetric_453))+(ref_PCollection_PCollection_256/Write)\n",
      "INFO:apache_beam.runners.portability.fn_api_runner.fn_runner:Running ((((((ref_AppliedPTransform_Analyze & Transform/AnalyzeDataset/VocabularyOrderAndWrite[compute_and_apply_vocabulary_4/vocabulary]/Prepare/Impulse_456)+(ref_AppliedPTransform_Analyze & Transform/AnalyzeDataset/VocabularyOrderAndWrite[compute_and_apply_vocabulary_4/vocabulary]/Prepare/FlatMap(<lambda at core.py:2957>)_457))+(ref_AppliedPTransform_Analyze & Transform/AnalyzeDataset/VocabularyOrderAndWrite[compute_and_apply_vocabulary_4/vocabulary]/Prepare/Map(decode)_459))+(ref_AppliedPTransform_Analyze & Transform/AnalyzeDataset/VocabularyOrderAndWrite[compute_and_apply_vocabulary_4/vocabulary]/OrderElements_460))+(ref_AppliedPTransform_Analyze & Transform/AnalyzeDataset/VocabularyOrderAndWrite[compute_and_apply_vocabulary_4/vocabulary]/WriteToText/Write/WriteImpl/Map(<lambda at iobase.py:1080>)_470))+(ref_AppliedPTransform_Analyze & Transform/AnalyzeDataset/VocabularyOrderAndWrite[compute_and_apply_vocabulary_4/vocabulary]/WriteToText/Write/WriteImpl/WindowInto(WindowIntoFn)_471))+(Analyze & Transform/AnalyzeDataset/VocabularyOrderAndWrite[compute_and_apply_vocabulary_4/vocabulary]/WriteToText/Write/WriteImpl/GroupByKey/Write)\n",
      "INFO:apache_beam.runners.portability.fn_api_runner.fn_runner:Running (((((ref_AppliedPTransform_Analyze & Transform/AnalyzeDataset/VocabularyOrderAndWrite[compute_and_apply_vocabulary_4/vocabulary]/WriteToText/Write/WriteImpl/DoOnce/Impulse_465)+(ref_AppliedPTransform_Analyze & Transform/AnalyzeDataset/VocabularyOrderAndWrite[compute_and_apply_vocabulary_4/vocabulary]/WriteToText/Write/WriteImpl/DoOnce/FlatMap(<lambda at core.py:2957>)_466))+(ref_AppliedPTransform_Analyze & Transform/AnalyzeDataset/VocabularyOrderAndWrite[compute_and_apply_vocabulary_4/vocabulary]/WriteToText/Write/WriteImpl/DoOnce/Map(decode)_468))+(ref_AppliedPTransform_Analyze & Transform/AnalyzeDataset/VocabularyOrderAndWrite[compute_and_apply_vocabulary_4/vocabulary]/WriteToText/Write/WriteImpl/InitializeWrite_469))+(ref_PCollection_PCollection_263/Write))+(ref_PCollection_PCollection_264/Write)\n",
      "INFO:apache_beam.runners.portability.fn_api_runner.fn_runner:Running ((Analyze & Transform/AnalyzeDataset/VocabularyOrderAndWrite[compute_and_apply_vocabulary_4/vocabulary]/WriteToText/Write/WriteImpl/GroupByKey/Read)+(ref_AppliedPTransform_Analyze & Transform/AnalyzeDataset/VocabularyOrderAndWrite[compute_and_apply_vocabulary_4/vocabulary]/WriteToText/Write/WriteImpl/WriteBundles_473))+(ref_PCollection_PCollection_268/Write)\n",
      "INFO:apache_beam.runners.portability.fn_api_runner.fn_runner:Running ((ref_PCollection_PCollection_263/Read)+(ref_AppliedPTransform_Analyze & Transform/AnalyzeDataset/VocabularyOrderAndWrite[compute_and_apply_vocabulary_4/vocabulary]/WriteToText/Write/WriteImpl/PreFinalize_474))+(ref_PCollection_PCollection_269/Write)\n",
      "WARNING:apache_beam.io.filebasedsink:Deleting 1 existing files in target path matching: \n",
      "INFO:apache_beam.runners.portability.fn_api_runner.fn_runner:Running ((ref_PCollection_PCollection_263/Read)+(ref_AppliedPTransform_Analyze & Transform/AnalyzeDataset/VocabularyOrderAndWrite[compute_and_apply_vocabulary_4/vocabulary]/WriteToText/Write/WriteImpl/FinalizeWrite_475))+(ref_PCollection_PCollection_270/Write)\n",
      "INFO:apache_beam.io.gcp.gcsio:Starting the size estimation of the input\n",
      "INFO:apache_beam.io.gcp.gcsio:Finished listing 1 files in 0.09605741500854492 seconds.\n",
      "INFO:apache_beam.io.filebasedsink:Starting finalize_write threads with num_shards: 1 (skipped: 0), batches: 1, num_threads: 1\n",
      "INFO:apache_beam.io.filebasedsink:Renamed 1 shards in 0.30 seconds.\n",
      "INFO:apache_beam.runners.portability.fn_api_runner.fn_runner:Running (((((ref_AppliedPTransform_Write Transformed Eval Data/Write/WriteImpl/DoOnce/Impulse_797)+(ref_AppliedPTransform_Write Transformed Eval Data/Write/WriteImpl/DoOnce/FlatMap(<lambda at core.py:2957>)_798))+(ref_AppliedPTransform_Write Transformed Eval Data/Write/WriteImpl/DoOnce/Map(decode)_800))+(ref_AppliedPTransform_Write Transformed Eval Data/Write/WriteImpl/InitializeWrite_801))+(ref_PCollection_PCollection_456/Write))+(ref_PCollection_PCollection_457/Write)\n",
      "INFO:apache_beam.runners.portability.fn_api_runner.fn_runner:Running (((((ref_AppliedPTransform_Analyze & Transform/AnalyzeDataset/VocabularyOrderAndWrite[compute_and_apply_vocabulary_4/vocabulary]/CreatePath/Impulse_477)+(ref_AppliedPTransform_Analyze & Transform/AnalyzeDataset/VocabularyOrderAndWrite[compute_and_apply_vocabulary_4/vocabulary]/CreatePath/FlatMap(<lambda at core.py:2957>)_478))+(ref_AppliedPTransform_Analyze & Transform/AnalyzeDataset/VocabularyOrderAndWrite[compute_and_apply_vocabulary_4/vocabulary]/CreatePath/Map(decode)_480))+(ref_AppliedPTransform_Analyze & Transform/AnalyzeDataset/VocabularyOrderAndWrite[compute_and_apply_vocabulary_4/vocabulary]/WaitForVocabularyFile_481))+(ref_AppliedPTransform_Analyze & Transform/AnalyzeDataset/CreateTensorBinding[compute_and_apply_vocabulary_4/vocabulary/Placeholder]/ToTensorBinding_483))+(ref_PCollection_PCollection_275/Write)\n",
      "INFO:apache_beam.runners.portability.fn_api_runner.fn_runner:Running (((((ref_AppliedPTransform_Analyze & Transform/AnalyzeDataset/VocabularyOrderAndWrite[compute_and_apply_vocabulary_6/vocabulary]/WriteToText/Write/WriteImpl/DoOnce/Impulse_601)+(ref_AppliedPTransform_Analyze & Transform/AnalyzeDataset/VocabularyOrderAndWrite[compute_and_apply_vocabulary_6/vocabulary]/WriteToText/Write/WriteImpl/DoOnce/FlatMap(<lambda at core.py:2957>)_602))+(ref_AppliedPTransform_Analyze & Transform/AnalyzeDataset/VocabularyOrderAndWrite[compute_and_apply_vocabulary_6/vocabulary]/WriteToText/Write/WriteImpl/DoOnce/Map(decode)_604))+(ref_AppliedPTransform_Analyze & Transform/AnalyzeDataset/VocabularyOrderAndWrite[compute_and_apply_vocabulary_6/vocabulary]/WriteToText/Write/WriteImpl/InitializeWrite_605))+(ref_PCollection_PCollection_341/Write))+(ref_PCollection_PCollection_342/Write)\n",
      "INFO:apache_beam.runners.portability.fn_api_runner.fn_runner:Running ((((Analyze & Transform/AnalyzeDataset/VocabularyAccumulate[compute_and_apply_vocabulary_6/vocabulary]/CountPerToken/CombinePerKey(CountCombineFn)/Group/Read)+(Analyze & Transform/AnalyzeDataset/VocabularyAccumulate[compute_and_apply_vocabulary_6/vocabulary]/CountPerToken/CombinePerKey(CountCombineFn)/Merge))+(Analyze & Transform/AnalyzeDataset/VocabularyAccumulate[compute_and_apply_vocabulary_6/vocabulary]/CountPerToken/CombinePerKey(CountCombineFn)/ExtractOutputs))+(Analyze & Transform/AnalyzeDataset/VocabularyMerge[compute_and_apply_vocabulary_6/vocabulary]/CountPerToken/Precombine))+(Analyze & Transform/AnalyzeDataset/VocabularyMerge[compute_and_apply_vocabulary_6/vocabulary]/CountPerToken/Group/Write)\n",
      "INFO:apache_beam.runners.portability.fn_api_runner.fn_runner:Running (((((((((Analyze & Transform/AnalyzeDataset/VocabularyMerge[compute_and_apply_vocabulary_6/vocabulary]/CountPerToken/Group/Read)+(Analyze & Transform/AnalyzeDataset/VocabularyMerge[compute_and_apply_vocabulary_6/vocabulary]/CountPerToken/Merge))+(Analyze & Transform/AnalyzeDataset/VocabularyMerge[compute_and_apply_vocabulary_6/vocabulary]/CountPerToken/ExtractOutputs))+(ref_AppliedPTransform_Analyze & Transform/AnalyzeDataset/VocabularyMerge[compute_and_apply_vocabulary_6/vocabulary]/SwapTokensAndCounts_567))+(ref_AppliedPTransform_Analyze & Transform/AnalyzeDataset/VocabularyCount[compute_and_apply_vocabulary_6/vocabulary]/TotalVocabSize/CombineGlobally(CountCombineFn)/KeyWithVoid_571))+(ref_AppliedPTransform_Analyze & Transform/AnalyzeDataset/VocabularyPrune[compute_and_apply_vocabulary_6/vocabulary]/KeepOnlyValidStrings_587))+(Analyze & Transform/AnalyzeDataset/VocabularyCount[compute_and_apply_vocabulary_6/vocabulary]/TotalVocabSize/CombineGlobally(CountCombineFn)/CombinePerKey/Precombine))+(Analyze & Transform/AnalyzeDataset/VocabularyCount[compute_and_apply_vocabulary_6/vocabulary]/TotalVocabSize/CombineGlobally(CountCombineFn)/CombinePerKey/Group/Write))+(ref_AppliedPTransform_Analyze & Transform/AnalyzeDataset/VocabularyPrune[compute_and_apply_vocabulary_6/vocabulary]/ApplyThresholdsAndTopK/FlattenToSingleMetric_589))+(ref_PCollection_PCollection_334/Write)\n",
      "INFO:apache_beam.runners.portability.fn_api_runner.fn_runner:Running ((((((ref_AppliedPTransform_Analyze & Transform/AnalyzeDataset/VocabularyOrderAndWrite[compute_and_apply_vocabulary_6/vocabulary]/Prepare/Impulse_592)+(ref_AppliedPTransform_Analyze & Transform/AnalyzeDataset/VocabularyOrderAndWrite[compute_and_apply_vocabulary_6/vocabulary]/Prepare/FlatMap(<lambda at core.py:2957>)_593))+(ref_AppliedPTransform_Analyze & Transform/AnalyzeDataset/VocabularyOrderAndWrite[compute_and_apply_vocabulary_6/vocabulary]/Prepare/Map(decode)_595))+(ref_AppliedPTransform_Analyze & Transform/AnalyzeDataset/VocabularyOrderAndWrite[compute_and_apply_vocabulary_6/vocabulary]/OrderElements_596))+(ref_AppliedPTransform_Analyze & Transform/AnalyzeDataset/VocabularyOrderAndWrite[compute_and_apply_vocabulary_6/vocabulary]/WriteToText/Write/WriteImpl/Map(<lambda at iobase.py:1080>)_606))+(ref_AppliedPTransform_Analyze & Transform/AnalyzeDataset/VocabularyOrderAndWrite[compute_and_apply_vocabulary_6/vocabulary]/WriteToText/Write/WriteImpl/WindowInto(WindowIntoFn)_607))+(Analyze & Transform/AnalyzeDataset/VocabularyOrderAndWrite[compute_and_apply_vocabulary_6/vocabulary]/WriteToText/Write/WriteImpl/GroupByKey/Write)\n",
      "INFO:apache_beam.runners.portability.fn_api_runner.fn_runner:Running ((Analyze & Transform/AnalyzeDataset/VocabularyOrderAndWrite[compute_and_apply_vocabulary_6/vocabulary]/WriteToText/Write/WriteImpl/GroupByKey/Read)+(ref_AppliedPTransform_Analyze & Transform/AnalyzeDataset/VocabularyOrderAndWrite[compute_and_apply_vocabulary_6/vocabulary]/WriteToText/Write/WriteImpl/WriteBundles_609))+(ref_PCollection_PCollection_346/Write)\n",
      "INFO:apache_beam.runners.portability.fn_api_runner.fn_runner:Running ((ref_PCollection_PCollection_341/Read)+(ref_AppliedPTransform_Analyze & Transform/AnalyzeDataset/VocabularyOrderAndWrite[compute_and_apply_vocabulary_6/vocabulary]/WriteToText/Write/WriteImpl/PreFinalize_610))+(ref_PCollection_PCollection_347/Write)\n",
      "WARNING:apache_beam.io.filebasedsink:Deleting 1 existing files in target path matching: \n",
      "INFO:apache_beam.runners.portability.fn_api_runner.fn_runner:Running ((ref_PCollection_PCollection_341/Read)+(ref_AppliedPTransform_Analyze & Transform/AnalyzeDataset/VocabularyOrderAndWrite[compute_and_apply_vocabulary_6/vocabulary]/WriteToText/Write/WriteImpl/FinalizeWrite_611))+(ref_PCollection_PCollection_348/Write)\n",
      "INFO:apache_beam.io.gcp.gcsio:Starting the size estimation of the input\n",
      "INFO:apache_beam.io.gcp.gcsio:Finished listing 1 files in 0.07701444625854492 seconds.\n",
      "INFO:apache_beam.io.filebasedsink:Starting finalize_write threads with num_shards: 1 (skipped: 0), batches: 1, num_threads: 1\n",
      "INFO:apache_beam.io.filebasedsink:Renamed 1 shards in 0.30 seconds.\n",
      "INFO:apache_beam.runners.portability.fn_api_runner.fn_runner:Running (((((ref_AppliedPTransform_Analyze & Transform/AnalyzeDataset/VocabularyOrderAndWrite[compute_and_apply_vocabulary_6/vocabulary]/CreatePath/Impulse_613)+(ref_AppliedPTransform_Analyze & Transform/AnalyzeDataset/VocabularyOrderAndWrite[compute_and_apply_vocabulary_6/vocabulary]/CreatePath/FlatMap(<lambda at core.py:2957>)_614))+(ref_AppliedPTransform_Analyze & Transform/AnalyzeDataset/VocabularyOrderAndWrite[compute_and_apply_vocabulary_6/vocabulary]/CreatePath/Map(decode)_616))+(ref_AppliedPTransform_Analyze & Transform/AnalyzeDataset/VocabularyOrderAndWrite[compute_and_apply_vocabulary_6/vocabulary]/WaitForVocabularyFile_617))+(ref_AppliedPTransform_Analyze & Transform/AnalyzeDataset/CreateTensorBinding[compute_and_apply_vocabulary_6/vocabulary/Placeholder]/ToTensorBinding_619))+(ref_PCollection_PCollection_353/Write)\n",
      "INFO:apache_beam.runners.portability.fn_api_runner.fn_runner:Running ((((Analyze & Transform/AnalyzeDataset/VocabularyAccumulate[compute_and_apply_vocabulary_5/vocabulary]/CountPerToken/CombinePerKey(CountCombineFn)/Group/Read)+(Analyze & Transform/AnalyzeDataset/VocabularyAccumulate[compute_and_apply_vocabulary_5/vocabulary]/CountPerToken/CombinePerKey(CountCombineFn)/Merge))+(Analyze & Transform/AnalyzeDataset/VocabularyAccumulate[compute_and_apply_vocabulary_5/vocabulary]/CountPerToken/CombinePerKey(CountCombineFn)/ExtractOutputs))+(Analyze & Transform/AnalyzeDataset/VocabularyMerge[compute_and_apply_vocabulary_5/vocabulary]/CountPerToken/Precombine))+(Analyze & Transform/AnalyzeDataset/VocabularyMerge[compute_and_apply_vocabulary_5/vocabulary]/CountPerToken/Group/Write)\n",
      "INFO:apache_beam.runners.portability.fn_api_runner.fn_runner:Running (((((((((Analyze & Transform/AnalyzeDataset/VocabularyMerge[compute_and_apply_vocabulary_5/vocabulary]/CountPerToken/Group/Read)+(Analyze & Transform/AnalyzeDataset/VocabularyMerge[compute_and_apply_vocabulary_5/vocabulary]/CountPerToken/Merge))+(Analyze & Transform/AnalyzeDataset/VocabularyMerge[compute_and_apply_vocabulary_5/vocabulary]/CountPerToken/ExtractOutputs))+(ref_AppliedPTransform_Analyze & Transform/AnalyzeDataset/VocabularyMerge[compute_and_apply_vocabulary_5/vocabulary]/SwapTokensAndCounts_499))+(ref_AppliedPTransform_Analyze & Transform/AnalyzeDataset/VocabularyCount[compute_and_apply_vocabulary_5/vocabulary]/TotalVocabSize/CombineGlobally(CountCombineFn)/KeyWithVoid_503))+(ref_AppliedPTransform_Analyze & Transform/AnalyzeDataset/VocabularyPrune[compute_and_apply_vocabulary_5/vocabulary]/KeepOnlyValidStrings_519))+(Analyze & Transform/AnalyzeDataset/VocabularyCount[compute_and_apply_vocabulary_5/vocabulary]/TotalVocabSize/CombineGlobally(CountCombineFn)/CombinePerKey/Precombine))+(Analyze & Transform/AnalyzeDataset/VocabularyCount[compute_and_apply_vocabulary_5/vocabulary]/TotalVocabSize/CombineGlobally(CountCombineFn)/CombinePerKey/Group/Write))+(ref_AppliedPTransform_Analyze & Transform/AnalyzeDataset/VocabularyPrune[compute_and_apply_vocabulary_5/vocabulary]/ApplyThresholdsAndTopK/FlattenToSingleMetric_521))+(ref_PCollection_PCollection_295/Write)\n",
      "INFO:apache_beam.runners.portability.fn_api_runner.fn_runner:Running ((((Analyze & Transform/AnalyzeDataset/VocabularyCount[compute_and_apply_vocabulary_5/vocabulary]/TotalVocabSize/CombineGlobally(CountCombineFn)/CombinePerKey/Group/Read)+(Analyze & Transform/AnalyzeDataset/VocabularyCount[compute_and_apply_vocabulary_5/vocabulary]/TotalVocabSize/CombineGlobally(CountCombineFn)/CombinePerKey/Merge))+(Analyze & Transform/AnalyzeDataset/VocabularyCount[compute_and_apply_vocabulary_5/vocabulary]/TotalVocabSize/CombineGlobally(CountCombineFn)/CombinePerKey/ExtractOutputs))+(ref_AppliedPTransform_Analyze & Transform/AnalyzeDataset/VocabularyCount[compute_and_apply_vocabulary_5/vocabulary]/TotalVocabSize/CombineGlobally(CountCombineFn)/UnKey_508))+(ref_PCollection_PCollection_287/Write)\n",
      "INFO:apache_beam.runners.portability.fn_api_runner.fn_runner:Running ((((((ref_AppliedPTransform_Analyze & Transform/AnalyzeDataset/VocabularyCount[compute_and_apply_vocabulary_5/vocabulary]/TotalVocabSize/CombineGlobally(CountCombineFn)/DoOnce/Impulse_510)+(ref_AppliedPTransform_Analyze & Transform/AnalyzeDataset/VocabularyCount[compute_and_apply_vocabulary_5/vocabulary]/TotalVocabSize/CombineGlobally(CountCombineFn)/DoOnce/FlatMap(<lambda at core.py:2957>)_511))+(ref_AppliedPTransform_Analyze & Transform/AnalyzeDataset/VocabularyCount[compute_and_apply_vocabulary_5/vocabulary]/TotalVocabSize/CombineGlobally(CountCombineFn)/DoOnce/Map(decode)_513))+(ref_AppliedPTransform_Analyze & Transform/AnalyzeDataset/VocabularyCount[compute_and_apply_vocabulary_5/vocabulary]/TotalVocabSize/CombineGlobally(CountCombineFn)/InjectDefault_514))+(ref_AppliedPTransform_Analyze & Transform/AnalyzeDataset/VocabularyCount[compute_and_apply_vocabulary_5/vocabulary]/ToInt64_515))+(ref_AppliedPTransform_Analyze & Transform/AnalyzeDataset/CreateTensorBinding[compute_and_apply_vocabulary_5/vocabulary/pickup_grid_unpruned_vocab_size]/ToTensorBinding_517))+(ref_PCollection_PCollection_293/Write)\n",
      "INFO:apache_beam.runners.portability.fn_api_runner.fn_runner:Running (((((Analyze & Transform/AnalyzeDataset/PackedCombineAccumulate[ApplySavedModel[Phase0]]/InitialPackedCombineGlobally/CombinePerKey/CombinePerKey(PreCombineFn)/Group/Read)+(Analyze & Transform/AnalyzeDataset/PackedCombineAccumulate[ApplySavedModel[Phase0]]/InitialPackedCombineGlobally/CombinePerKey/CombinePerKey(PreCombineFn)/Merge))+(Analyze & Transform/AnalyzeDataset/PackedCombineAccumulate[ApplySavedModel[Phase0]]/InitialPackedCombineGlobally/CombinePerKey/CombinePerKey(PreCombineFn)/ExtractOutputs))+(ref_AppliedPTransform_Analyze & Transform/AnalyzeDataset/PackedCombineAccumulate[ApplySavedModel[Phase0]]/InitialPackedCombineGlobally/CombinePerKey/Map(StripNonce)_79))+(ref_AppliedPTransform_Analyze & Transform/AnalyzeDataset/PackedCombineAccumulate[ApplySavedModel[Phase0]]/InitialPackedCombineGlobally/CombinePerKey/WindowIntoOriginal_80))+(Analyze & Transform/AnalyzeDataset/PackedCombineAccumulate[ApplySavedModel[Phase0]]/InitialPackedCombineGlobally/CombinePerKey/Flatten/Write/1)\n",
      "INFO:apache_beam.runners.portability.fn_api_runner.fn_runner:Running ((Analyze & Transform/AnalyzeDataset/PackedCombineAccumulate[ApplySavedModel[Phase0]]/InitialPackedCombineGlobally/CombinePerKey/Flatten/Read)+(Analyze & Transform/AnalyzeDataset/PackedCombineAccumulate[ApplySavedModel[Phase0]]/InitialPackedCombineGlobally/CombinePerKey/CombinePerKey(PostCombineFn)/Precombine))+(Analyze & Transform/AnalyzeDataset/PackedCombineAccumulate[ApplySavedModel[Phase0]]/InitialPackedCombineGlobally/CombinePerKey/CombinePerKey(PostCombineFn)/Group/Write)\n",
      "INFO:apache_beam.runners.portability.fn_api_runner.fn_runner:Running ((((Analyze & Transform/AnalyzeDataset/PackedCombineAccumulate[ApplySavedModel[Phase0]]/InitialPackedCombineGlobally/CombinePerKey/CombinePerKey(PostCombineFn)/Group/Read)+(Analyze & Transform/AnalyzeDataset/PackedCombineAccumulate[ApplySavedModel[Phase0]]/InitialPackedCombineGlobally/CombinePerKey/CombinePerKey(PostCombineFn)/Merge))+(Analyze & Transform/AnalyzeDataset/PackedCombineAccumulate[ApplySavedModel[Phase0]]/InitialPackedCombineGlobally/CombinePerKey/CombinePerKey(PostCombineFn)/ExtractOutputs))+(ref_AppliedPTransform_Analyze & Transform/AnalyzeDataset/PackedCombineAccumulate[ApplySavedModel[Phase0]]/InitialPackedCombineGlobally/UnKey_86))+(ref_PCollection_PCollection_47/Write)\n",
      "INFO:apache_beam.runners.portability.fn_api_runner.fn_runner:Running ((((((((((((ref_AppliedPTransform_Analyze & Transform/AnalyzeDataset/PackedCombineAccumulate[ApplySavedModel[Phase0]]/InitialPackedCombineGlobally/DoOnce/Impulse_88)+(ref_AppliedPTransform_Analyze & Transform/AnalyzeDataset/PackedCombineAccumulate[ApplySavedModel[Phase0]]/InitialPackedCombineGlobally/DoOnce/FlatMap(<lambda at core.py:2957>)_89))+(ref_AppliedPTransform_Analyze & Transform/AnalyzeDataset/PackedCombineAccumulate[ApplySavedModel[Phase0]]/InitialPackedCombineGlobally/DoOnce/Map(decode)_91))+(ref_AppliedPTransform_Analyze & Transform/AnalyzeDataset/PackedCombineAccumulate[ApplySavedModel[Phase0]]/InitialPackedCombineGlobally/InjectDefault_92))+(ref_AppliedPTransform_Analyze & Transform/AnalyzeDataset/CacheableCombineAccumulate[scale_to_z_score/mean_and_var]/ExtractKeys_101))+(ref_AppliedPTransform_Analyze & Transform/AnalyzeDataset/CacheableCombineAccumulate[scale_to_z_score_1/mean_and_var]/ExtractKeys_105))+(ref_AppliedPTransform_Analyze & Transform/AnalyzeDataset/CacheableCombineAccumulate[scale_to_z_score_2/mean_and_var]/ExtractKeys_109))+(ref_AppliedPTransform_Analyze & Transform/AnalyzeDataset/AddKey[CacheableCombineMerge[scale_to_z_score/mean_and_var]]/AddKey_103))+(Analyze & Transform/AnalyzeDataset/FlattenInputForPackedCombineMerge[3]/Flatten/Write/0))+(ref_AppliedPTransform_Analyze & Transform/AnalyzeDataset/AddKey[CacheableCombineMerge[scale_to_z_score_1/mean_and_var]]/AddKey_107))+(Analyze & Transform/AnalyzeDataset/FlattenInputForPackedCombineMerge[3]/Flatten/Write/1))+(ref_AppliedPTransform_Analyze & Transform/AnalyzeDataset/AddKey[CacheableCombineMerge[scale_to_z_score_2/mean_and_var]]/AddKey_111))+(Analyze & Transform/AnalyzeDataset/FlattenInputForPackedCombineMerge[3]/Flatten/Write/2)\n",
      "INFO:apache_beam.runners.portability.fn_api_runner.fn_runner:Running (((Analyze & Transform/AnalyzeDataset/FlattenInputForPackedCombineMerge[3]/Flatten/Read)+(ref_AppliedPTransform_Analyze & Transform/AnalyzeDataset/PackedCombineMerge[3]/MergePackedCombinesGlobally/KeyWithVoid_116))+(Analyze & Transform/AnalyzeDataset/PackedCombineMerge[3]/MergePackedCombinesGlobally/CombinePerKey/Precombine))+(Analyze & Transform/AnalyzeDataset/PackedCombineMerge[3]/MergePackedCombinesGlobally/CombinePerKey/Group/Write)\n",
      "INFO:apache_beam.runners.portability.fn_api_runner.fn_runner:Running ((((Analyze & Transform/AnalyzeDataset/PackedCombineMerge[3]/MergePackedCombinesGlobally/CombinePerKey/Group/Read)+(Analyze & Transform/AnalyzeDataset/PackedCombineMerge[3]/MergePackedCombinesGlobally/CombinePerKey/Merge))+(Analyze & Transform/AnalyzeDataset/PackedCombineMerge[3]/MergePackedCombinesGlobally/CombinePerKey/ExtractOutputs))+(ref_AppliedPTransform_Analyze & Transform/AnalyzeDataset/PackedCombineMerge[3]/MergePackedCombinesGlobally/UnKey_121))+(ref_PCollection_PCollection_66/Write)\n",
      "INFO:apache_beam.runners.portability.fn_api_runner.fn_runner:Running (((((((((((((((((((((ref_AppliedPTransform_Analyze & Transform/AnalyzeDataset/PackedCombineMerge[3]/MergePackedCombinesGlobally/DoOnce/Impulse_123)+(ref_AppliedPTransform_Analyze & Transform/AnalyzeDataset/PackedCombineMerge[3]/MergePackedCombinesGlobally/DoOnce/FlatMap(<lambda at core.py:2957>)_124))+(ref_AppliedPTransform_Analyze & Transform/AnalyzeDataset/PackedCombineMerge[3]/MergePackedCombinesGlobally/DoOnce/Map(decode)_126))+(ref_AppliedPTransform_Analyze & Transform/AnalyzeDataset/PackedCombineMerge[3]/MergePackedCombinesGlobally/InjectDefault_127))+(ref_AppliedPTransform_Analyze & Transform/AnalyzeDataset/ExtractFromDict[CacheableCombineMerge[scale_to_z_score_2/mean_and_var]]/ExtractKeys_136))+(ref_AppliedPTransform_Analyze & Transform/AnalyzeDataset/ExtractFromDict[CacheableCombineMerge[scale_to_z_score/mean_and_var]]/ExtractKeys_689))+(ref_AppliedPTransform_Analyze & Transform/AnalyzeDataset/ExtractFromDict[CacheableCombineMerge[scale_to_z_score_1/mean_and_var]]/ExtractKeys_698))+(ref_AppliedPTransform_Analyze & Transform/AnalyzeDataset/ExtractPackedCombineMergeOutputs[CacheableCombineMerge[scale_to_z_score_2/mean_and_var]]/ExtractOutputs/FlatMap(extract_outputs)_139))+(ref_AppliedPTransform_Analyze & Transform/AnalyzeDataset/CreateTensorBinding[scale_to_z_score_2/mean_and_var/Placeholder_1]/ToTensorBinding_143))+(ref_AppliedPTransform_Analyze & Transform/AnalyzeDataset/CreateTensorBinding[scale_to_z_score_2/mean_and_var/Placeholder]/ToTensorBinding_141))+(ref_PCollection_PCollection_79/Write))+(ref_PCollection_PCollection_80/Write))+(ref_AppliedPTransform_Analyze & Transform/AnalyzeDataset/ExtractPackedCombineMergeOutputs[CacheableCombineMerge[scale_to_z_score/mean_and_var]]/ExtractOutputs/FlatMap(extract_outputs)_692))+(ref_AppliedPTransform_Analyze & Transform/AnalyzeDataset/CreateTensorBinding[scale_to_z_score/mean_and_var/Placeholder_1]/ToTensorBinding_696))+(ref_AppliedPTransform_Analyze & Transform/AnalyzeDataset/CreateTensorBinding[scale_to_z_score/mean_and_var/Placeholder]/ToTensorBinding_694))+(ref_PCollection_PCollection_397/Write))+(ref_PCollection_PCollection_398/Write))+(ref_AppliedPTransform_Analyze & Transform/AnalyzeDataset/ExtractPackedCombineMergeOutputs[CacheableCombineMerge[scale_to_z_score_1/mean_and_var]]/ExtractOutputs/FlatMap(extract_outputs)_701))+(ref_AppliedPTransform_Analyze & Transform/AnalyzeDataset/CreateTensorBinding[scale_to_z_score_1/mean_and_var/Placeholder]/ToTensorBinding_703))+(ref_AppliedPTransform_Analyze & Transform/AnalyzeDataset/CreateTensorBinding[scale_to_z_score_1/mean_and_var/Placeholder_1]/ToTensorBinding_705))+(ref_PCollection_PCollection_403/Write))+(ref_PCollection_PCollection_404/Write)\n",
      "INFO:apache_beam.runners.portability.fn_api_runner.fn_runner:Running ((((Analyze & Transform/AnalyzeDataset/VocabularyCount[compute_and_apply_vocabulary_1/vocabulary]/TotalVocabSize/CombineGlobally(CountCombineFn)/CombinePerKey/Group/Read)+(Analyze & Transform/AnalyzeDataset/VocabularyCount[compute_and_apply_vocabulary_1/vocabulary]/TotalVocabSize/CombineGlobally(CountCombineFn)/CombinePerKey/Merge))+(Analyze & Transform/AnalyzeDataset/VocabularyCount[compute_and_apply_vocabulary_1/vocabulary]/TotalVocabSize/CombineGlobally(CountCombineFn)/CombinePerKey/ExtractOutputs))+(ref_AppliedPTransform_Analyze & Transform/AnalyzeDataset/VocabularyCount[compute_and_apply_vocabulary_1/vocabulary]/TotalVocabSize/CombineGlobally(CountCombineFn)/UnKey_236))+(ref_PCollection_PCollection_131/Write)\n",
      "INFO:apache_beam.runners.portability.fn_api_runner.fn_runner:Running ((((((ref_AppliedPTransform_Analyze & Transform/AnalyzeDataset/VocabularyCount[compute_and_apply_vocabulary_1/vocabulary]/TotalVocabSize/CombineGlobally(CountCombineFn)/DoOnce/Impulse_238)+(ref_AppliedPTransform_Analyze & Transform/AnalyzeDataset/VocabularyCount[compute_and_apply_vocabulary_1/vocabulary]/TotalVocabSize/CombineGlobally(CountCombineFn)/DoOnce/FlatMap(<lambda at core.py:2957>)_239))+(ref_AppliedPTransform_Analyze & Transform/AnalyzeDataset/VocabularyCount[compute_and_apply_vocabulary_1/vocabulary]/TotalVocabSize/CombineGlobally(CountCombineFn)/DoOnce/Map(decode)_241))+(ref_AppliedPTransform_Analyze & Transform/AnalyzeDataset/VocabularyCount[compute_and_apply_vocabulary_1/vocabulary]/TotalVocabSize/CombineGlobally(CountCombineFn)/InjectDefault_242))+(ref_AppliedPTransform_Analyze & Transform/AnalyzeDataset/VocabularyCount[compute_and_apply_vocabulary_1/vocabulary]/ToInt64_243))+(ref_AppliedPTransform_Analyze & Transform/AnalyzeDataset/CreateTensorBinding[compute_and_apply_vocabulary_1/vocabulary/trip_day_unpruned_vocab_size]/ToTensorBinding_245))+(ref_PCollection_PCollection_137/Write)\n",
      "INFO:apache_beam.runners.portability.fn_api_runner.fn_runner:Running ((((Analyze & Transform/AnalyzeDataset/VocabularyAccumulate[compute_and_apply_vocabulary_7/vocabulary]/CountPerToken/CombinePerKey(CountCombineFn)/Group/Read)+(Analyze & Transform/AnalyzeDataset/VocabularyAccumulate[compute_and_apply_vocabulary_7/vocabulary]/CountPerToken/CombinePerKey(CountCombineFn)/Merge))+(Analyze & Transform/AnalyzeDataset/VocabularyAccumulate[compute_and_apply_vocabulary_7/vocabulary]/CountPerToken/CombinePerKey(CountCombineFn)/ExtractOutputs))+(Analyze & Transform/AnalyzeDataset/VocabularyMerge[compute_and_apply_vocabulary_7/vocabulary]/CountPerToken/Precombine))+(Analyze & Transform/AnalyzeDataset/VocabularyMerge[compute_and_apply_vocabulary_7/vocabulary]/CountPerToken/Group/Write)\n",
      "INFO:apache_beam.runners.portability.fn_api_runner.fn_runner:Running (((((((((Analyze & Transform/AnalyzeDataset/VocabularyMerge[compute_and_apply_vocabulary_7/vocabulary]/CountPerToken/Group/Read)+(Analyze & Transform/AnalyzeDataset/VocabularyMerge[compute_and_apply_vocabulary_7/vocabulary]/CountPerToken/Merge))+(Analyze & Transform/AnalyzeDataset/VocabularyMerge[compute_and_apply_vocabulary_7/vocabulary]/CountPerToken/ExtractOutputs))+(ref_AppliedPTransform_Analyze & Transform/AnalyzeDataset/VocabularyMerge[compute_and_apply_vocabulary_7/vocabulary]/SwapTokensAndCounts_635))+(ref_AppliedPTransform_Analyze & Transform/AnalyzeDataset/VocabularyCount[compute_and_apply_vocabulary_7/vocabulary]/TotalVocabSize/CombineGlobally(CountCombineFn)/KeyWithVoid_639))+(ref_AppliedPTransform_Analyze & Transform/AnalyzeDataset/VocabularyPrune[compute_and_apply_vocabulary_7/vocabulary]/KeepOnlyValidStrings_655))+(Analyze & Transform/AnalyzeDataset/VocabularyCount[compute_and_apply_vocabulary_7/vocabulary]/TotalVocabSize/CombineGlobally(CountCombineFn)/CombinePerKey/Precombine))+(Analyze & Transform/AnalyzeDataset/VocabularyCount[compute_and_apply_vocabulary_7/vocabulary]/TotalVocabSize/CombineGlobally(CountCombineFn)/CombinePerKey/Group/Write))+(ref_AppliedPTransform_Analyze & Transform/AnalyzeDataset/VocabularyPrune[compute_and_apply_vocabulary_7/vocabulary]/ApplyThresholdsAndTopK/FlattenToSingleMetric_657))+(ref_PCollection_PCollection_373/Write)\n",
      "INFO:apache_beam.runners.portability.fn_api_runner.fn_runner:Running ((((Analyze & Transform/AnalyzeDataset/VocabularyCount[compute_and_apply_vocabulary_7/vocabulary]/TotalVocabSize/CombineGlobally(CountCombineFn)/CombinePerKey/Group/Read)+(Analyze & Transform/AnalyzeDataset/VocabularyCount[compute_and_apply_vocabulary_7/vocabulary]/TotalVocabSize/CombineGlobally(CountCombineFn)/CombinePerKey/Merge))+(Analyze & Transform/AnalyzeDataset/VocabularyCount[compute_and_apply_vocabulary_7/vocabulary]/TotalVocabSize/CombineGlobally(CountCombineFn)/CombinePerKey/ExtractOutputs))+(ref_AppliedPTransform_Analyze & Transform/AnalyzeDataset/VocabularyCount[compute_and_apply_vocabulary_7/vocabulary]/TotalVocabSize/CombineGlobally(CountCombineFn)/UnKey_644))+(ref_PCollection_PCollection_365/Write)\n",
      "INFO:apache_beam.runners.portability.fn_api_runner.fn_runner:Running ((((((ref_AppliedPTransform_Analyze & Transform/AnalyzeDataset/VocabularyCount[compute_and_apply_vocabulary_7/vocabulary]/TotalVocabSize/CombineGlobally(CountCombineFn)/DoOnce/Impulse_646)+(ref_AppliedPTransform_Analyze & Transform/AnalyzeDataset/VocabularyCount[compute_and_apply_vocabulary_7/vocabulary]/TotalVocabSize/CombineGlobally(CountCombineFn)/DoOnce/FlatMap(<lambda at core.py:2957>)_647))+(ref_AppliedPTransform_Analyze & Transform/AnalyzeDataset/VocabularyCount[compute_and_apply_vocabulary_7/vocabulary]/TotalVocabSize/CombineGlobally(CountCombineFn)/DoOnce/Map(decode)_649))+(ref_AppliedPTransform_Analyze & Transform/AnalyzeDataset/VocabularyCount[compute_and_apply_vocabulary_7/vocabulary]/TotalVocabSize/CombineGlobally(CountCombineFn)/InjectDefault_650))+(ref_AppliedPTransform_Analyze & Transform/AnalyzeDataset/VocabularyCount[compute_and_apply_vocabulary_7/vocabulary]/ToInt64_651))+(ref_AppliedPTransform_Analyze & Transform/AnalyzeDataset/CreateTensorBinding[compute_and_apply_vocabulary_7/vocabulary/loc_cross_unpruned_vocab_size]/ToTensorBinding_653))+(ref_PCollection_PCollection_371/Write)\n",
      "INFO:apache_beam.runners.portability.fn_api_runner.fn_runner:Running ((((Analyze & Transform/AnalyzeDataset/VocabularyCount[compute_and_apply_vocabulary_6/vocabulary]/TotalVocabSize/CombineGlobally(CountCombineFn)/CombinePerKey/Group/Read)+(Analyze & Transform/AnalyzeDataset/VocabularyCount[compute_and_apply_vocabulary_6/vocabulary]/TotalVocabSize/CombineGlobally(CountCombineFn)/CombinePerKey/Merge))+(Analyze & Transform/AnalyzeDataset/VocabularyCount[compute_and_apply_vocabulary_6/vocabulary]/TotalVocabSize/CombineGlobally(CountCombineFn)/CombinePerKey/ExtractOutputs))+(ref_AppliedPTransform_Analyze & Transform/AnalyzeDataset/VocabularyCount[compute_and_apply_vocabulary_6/vocabulary]/TotalVocabSize/CombineGlobally(CountCombineFn)/UnKey_576))+(ref_PCollection_PCollection_326/Write)\n",
      "INFO:apache_beam.runners.portability.fn_api_runner.fn_runner:Running ((((((ref_AppliedPTransform_Analyze & Transform/AnalyzeDataset/VocabularyCount[compute_and_apply_vocabulary_6/vocabulary]/TotalVocabSize/CombineGlobally(CountCombineFn)/DoOnce/Impulse_578)+(ref_AppliedPTransform_Analyze & Transform/AnalyzeDataset/VocabularyCount[compute_and_apply_vocabulary_6/vocabulary]/TotalVocabSize/CombineGlobally(CountCombineFn)/DoOnce/FlatMap(<lambda at core.py:2957>)_579))+(ref_AppliedPTransform_Analyze & Transform/AnalyzeDataset/VocabularyCount[compute_and_apply_vocabulary_6/vocabulary]/TotalVocabSize/CombineGlobally(CountCombineFn)/DoOnce/Map(decode)_581))+(ref_AppliedPTransform_Analyze & Transform/AnalyzeDataset/VocabularyCount[compute_and_apply_vocabulary_6/vocabulary]/TotalVocabSize/CombineGlobally(CountCombineFn)/InjectDefault_582))+(ref_AppliedPTransform_Analyze & Transform/AnalyzeDataset/VocabularyCount[compute_and_apply_vocabulary_6/vocabulary]/ToInt64_583))+(ref_AppliedPTransform_Analyze & Transform/AnalyzeDataset/CreateTensorBinding[compute_and_apply_vocabulary_6/vocabulary/dropoff_grid_unpruned_vocab_size]/ToTensorBinding_585))+(ref_PCollection_PCollection_332/Write)\n",
      "INFO:apache_beam.runners.portability.fn_api_runner.fn_runner:Running (((((ref_AppliedPTransform_Analyze & Transform/AnalyzeDataset/VocabularyOrderAndWrite[compute_and_apply_vocabulary/vocabulary]/WriteToText/Write/WriteImpl/DoOnce/Impulse_193)+(ref_AppliedPTransform_Analyze & Transform/AnalyzeDataset/VocabularyOrderAndWrite[compute_and_apply_vocabulary/vocabulary]/WriteToText/Write/WriteImpl/DoOnce/FlatMap(<lambda at core.py:2957>)_194))+(ref_AppliedPTransform_Analyze & Transform/AnalyzeDataset/VocabularyOrderAndWrite[compute_and_apply_vocabulary/vocabulary]/WriteToText/Write/WriteImpl/DoOnce/Map(decode)_196))+(ref_AppliedPTransform_Analyze & Transform/AnalyzeDataset/VocabularyOrderAndWrite[compute_and_apply_vocabulary/vocabulary]/WriteToText/Write/WriteImpl/InitializeWrite_197))+(ref_PCollection_PCollection_107/Write))+(ref_PCollection_PCollection_108/Write)\n",
      "INFO:apache_beam.runners.portability.fn_api_runner.fn_runner:Running ((((Analyze & Transform/AnalyzeDataset/VocabularyAccumulate[compute_and_apply_vocabulary/vocabulary]/CountPerToken/CombinePerKey(CountCombineFn)/Group/Read)+(Analyze & Transform/AnalyzeDataset/VocabularyAccumulate[compute_and_apply_vocabulary/vocabulary]/CountPerToken/CombinePerKey(CountCombineFn)/Merge))+(Analyze & Transform/AnalyzeDataset/VocabularyAccumulate[compute_and_apply_vocabulary/vocabulary]/CountPerToken/CombinePerKey(CountCombineFn)/ExtractOutputs))+(Analyze & Transform/AnalyzeDataset/VocabularyMerge[compute_and_apply_vocabulary/vocabulary]/CountPerToken/Precombine))+(Analyze & Transform/AnalyzeDataset/VocabularyMerge[compute_and_apply_vocabulary/vocabulary]/CountPerToken/Group/Write)\n",
      "INFO:apache_beam.runners.portability.fn_api_runner.fn_runner:Running (((((((((Analyze & Transform/AnalyzeDataset/VocabularyMerge[compute_and_apply_vocabulary/vocabulary]/CountPerToken/Group/Read)+(Analyze & Transform/AnalyzeDataset/VocabularyMerge[compute_and_apply_vocabulary/vocabulary]/CountPerToken/Merge))+(Analyze & Transform/AnalyzeDataset/VocabularyMerge[compute_and_apply_vocabulary/vocabulary]/CountPerToken/ExtractOutputs))+(ref_AppliedPTransform_Analyze & Transform/AnalyzeDataset/VocabularyMerge[compute_and_apply_vocabulary/vocabulary]/SwapTokensAndCounts_159))+(ref_AppliedPTransform_Analyze & Transform/AnalyzeDataset/VocabularyCount[compute_and_apply_vocabulary/vocabulary]/TotalVocabSize/CombineGlobally(CountCombineFn)/KeyWithVoid_163))+(ref_AppliedPTransform_Analyze & Transform/AnalyzeDataset/VocabularyPrune[compute_and_apply_vocabulary/vocabulary]/ApplyThresholdsAndTopK/FlattenToSingleMetric_180))+(Analyze & Transform/AnalyzeDataset/VocabularyCount[compute_and_apply_vocabulary/vocabulary]/TotalVocabSize/CombineGlobally(CountCombineFn)/CombinePerKey/Precombine))+(Analyze & Transform/AnalyzeDataset/VocabularyCount[compute_and_apply_vocabulary/vocabulary]/TotalVocabSize/CombineGlobally(CountCombineFn)/CombinePerKey/Group/Write))+(ref_AppliedPTransform_Analyze & Transform/AnalyzeDataset/VocabularyOrderAndWrite[compute_and_apply_vocabulary/vocabulary]/EncodeNumericalKeys_182))+(ref_PCollection_PCollection_100/Write)\n",
      "INFO:apache_beam.runners.portability.fn_api_runner.fn_runner:Running ((((((ref_AppliedPTransform_Analyze & Transform/AnalyzeDataset/VocabularyOrderAndWrite[compute_and_apply_vocabulary/vocabulary]/Prepare/Impulse_184)+(ref_AppliedPTransform_Analyze & Transform/AnalyzeDataset/VocabularyOrderAndWrite[compute_and_apply_vocabulary/vocabulary]/Prepare/FlatMap(<lambda at core.py:2957>)_185))+(ref_AppliedPTransform_Analyze & Transform/AnalyzeDataset/VocabularyOrderAndWrite[compute_and_apply_vocabulary/vocabulary]/Prepare/Map(decode)_187))+(ref_AppliedPTransform_Analyze & Transform/AnalyzeDataset/VocabularyOrderAndWrite[compute_and_apply_vocabulary/vocabulary]/OrderElements_188))+(ref_AppliedPTransform_Analyze & Transform/AnalyzeDataset/VocabularyOrderAndWrite[compute_and_apply_vocabulary/vocabulary]/WriteToText/Write/WriteImpl/Map(<lambda at iobase.py:1080>)_198))+(ref_AppliedPTransform_Analyze & Transform/AnalyzeDataset/VocabularyOrderAndWrite[compute_and_apply_vocabulary/vocabulary]/WriteToText/Write/WriteImpl/WindowInto(WindowIntoFn)_199))+(Analyze & Transform/AnalyzeDataset/VocabularyOrderAndWrite[compute_and_apply_vocabulary/vocabulary]/WriteToText/Write/WriteImpl/GroupByKey/Write)\n",
      "INFO:apache_beam.runners.portability.fn_api_runner.fn_runner:Running ((Analyze & Transform/AnalyzeDataset/VocabularyOrderAndWrite[compute_and_apply_vocabulary/vocabulary]/WriteToText/Write/WriteImpl/GroupByKey/Read)+(ref_AppliedPTransform_Analyze & Transform/AnalyzeDataset/VocabularyOrderAndWrite[compute_and_apply_vocabulary/vocabulary]/WriteToText/Write/WriteImpl/WriteBundles_201))+(ref_PCollection_PCollection_112/Write)\n",
      "INFO:apache_beam.runners.portability.fn_api_runner.fn_runner:Running ((ref_PCollection_PCollection_107/Read)+(ref_AppliedPTransform_Analyze & Transform/AnalyzeDataset/VocabularyOrderAndWrite[compute_and_apply_vocabulary/vocabulary]/WriteToText/Write/WriteImpl/PreFinalize_202))+(ref_PCollection_PCollection_113/Write)\n",
      "WARNING:apache_beam.io.filebasedsink:Deleting 1 existing files in target path matching: \n",
      "INFO:apache_beam.runners.portability.fn_api_runner.fn_runner:Running ((ref_PCollection_PCollection_107/Read)+(ref_AppliedPTransform_Analyze & Transform/AnalyzeDataset/VocabularyOrderAndWrite[compute_and_apply_vocabulary/vocabulary]/WriteToText/Write/WriteImpl/FinalizeWrite_203))+(ref_PCollection_PCollection_114/Write)\n",
      "INFO:apache_beam.io.gcp.gcsio:Starting the size estimation of the input\n",
      "INFO:apache_beam.io.gcp.gcsio:Finished listing 1 files in 0.07715082168579102 seconds.\n",
      "INFO:apache_beam.io.filebasedsink:Starting finalize_write threads with num_shards: 1 (skipped: 0), batches: 1, num_threads: 1\n",
      "INFO:apache_beam.io.filebasedsink:Renamed 1 shards in 0.30 seconds.\n",
      "INFO:apache_beam.runners.portability.fn_api_runner.fn_runner:Running (((((ref_AppliedPTransform_Analyze & Transform/AnalyzeDataset/VocabularyOrderAndWrite[compute_and_apply_vocabulary/vocabulary]/CreatePath/Impulse_205)+(ref_AppliedPTransform_Analyze & Transform/AnalyzeDataset/VocabularyOrderAndWrite[compute_and_apply_vocabulary/vocabulary]/CreatePath/FlatMap(<lambda at core.py:2957>)_206))+(ref_AppliedPTransform_Analyze & Transform/AnalyzeDataset/VocabularyOrderAndWrite[compute_and_apply_vocabulary/vocabulary]/CreatePath/Map(decode)_208))+(ref_AppliedPTransform_Analyze & Transform/AnalyzeDataset/VocabularyOrderAndWrite[compute_and_apply_vocabulary/vocabulary]/WaitForVocabularyFile_209))+(ref_AppliedPTransform_Analyze & Transform/AnalyzeDataset/CreateTensorBinding[compute_and_apply_vocabulary/vocabulary/Placeholder]/ToTensorBinding_211))+(ref_PCollection_PCollection_119/Write)\n",
      "INFO:apache_beam.runners.portability.fn_api_runner.fn_runner:Running ((((Analyze & Transform/AnalyzeDataset/VocabularyCount[compute_and_apply_vocabulary/vocabulary]/TotalVocabSize/CombineGlobally(CountCombineFn)/CombinePerKey/Group/Read)+(Analyze & Transform/AnalyzeDataset/VocabularyCount[compute_and_apply_vocabulary/vocabulary]/TotalVocabSize/CombineGlobally(CountCombineFn)/CombinePerKey/Merge))+(Analyze & Transform/AnalyzeDataset/VocabularyCount[compute_and_apply_vocabulary/vocabulary]/TotalVocabSize/CombineGlobally(CountCombineFn)/CombinePerKey/ExtractOutputs))+(ref_AppliedPTransform_Analyze & Transform/AnalyzeDataset/VocabularyCount[compute_and_apply_vocabulary/vocabulary]/TotalVocabSize/CombineGlobally(CountCombineFn)/UnKey_168))+(ref_PCollection_PCollection_92/Write)\n",
      "INFO:apache_beam.runners.portability.fn_api_runner.fn_runner:Running ((((((ref_AppliedPTransform_Analyze & Transform/AnalyzeDataset/VocabularyCount[compute_and_apply_vocabulary/vocabulary]/TotalVocabSize/CombineGlobally(CountCombineFn)/DoOnce/Impulse_170)+(ref_AppliedPTransform_Analyze & Transform/AnalyzeDataset/VocabularyCount[compute_and_apply_vocabulary/vocabulary]/TotalVocabSize/CombineGlobally(CountCombineFn)/DoOnce/FlatMap(<lambda at core.py:2957>)_171))+(ref_AppliedPTransform_Analyze & Transform/AnalyzeDataset/VocabularyCount[compute_and_apply_vocabulary/vocabulary]/TotalVocabSize/CombineGlobally(CountCombineFn)/DoOnce/Map(decode)_173))+(ref_AppliedPTransform_Analyze & Transform/AnalyzeDataset/VocabularyCount[compute_and_apply_vocabulary/vocabulary]/TotalVocabSize/CombineGlobally(CountCombineFn)/InjectDefault_174))+(ref_AppliedPTransform_Analyze & Transform/AnalyzeDataset/VocabularyCount[compute_and_apply_vocabulary/vocabulary]/ToInt64_175))+(ref_AppliedPTransform_Analyze & Transform/AnalyzeDataset/CreateTensorBinding[compute_and_apply_vocabulary/vocabulary/trip_month_unpruned_vocab_size]/ToTensorBinding_177))+(ref_PCollection_PCollection_98/Write)\n",
      "INFO:apache_beam.runners.portability.fn_api_runner.fn_runner:Running ((((Analyze & Transform/AnalyzeDataset/VocabularyCount[compute_and_apply_vocabulary_4/vocabulary]/TotalVocabSize/CombineGlobally(CountCombineFn)/CombinePerKey/Group/Read)+(Analyze & Transform/AnalyzeDataset/VocabularyCount[compute_and_apply_vocabulary_4/vocabulary]/TotalVocabSize/CombineGlobally(CountCombineFn)/CombinePerKey/Merge))+(Analyze & Transform/AnalyzeDataset/VocabularyCount[compute_and_apply_vocabulary_4/vocabulary]/TotalVocabSize/CombineGlobally(CountCombineFn)/CombinePerKey/ExtractOutputs))+(ref_AppliedPTransform_Analyze & Transform/AnalyzeDataset/VocabularyCount[compute_and_apply_vocabulary_4/vocabulary]/TotalVocabSize/CombineGlobally(CountCombineFn)/UnKey_440))+(ref_PCollection_PCollection_248/Write)\n",
      "INFO:apache_beam.runners.portability.fn_api_runner.fn_runner:Running ((((((ref_AppliedPTransform_Analyze & Transform/AnalyzeDataset/VocabularyCount[compute_and_apply_vocabulary_4/vocabulary]/TotalVocabSize/CombineGlobally(CountCombineFn)/DoOnce/Impulse_442)+(ref_AppliedPTransform_Analyze & Transform/AnalyzeDataset/VocabularyCount[compute_and_apply_vocabulary_4/vocabulary]/TotalVocabSize/CombineGlobally(CountCombineFn)/DoOnce/FlatMap(<lambda at core.py:2957>)_443))+(ref_AppliedPTransform_Analyze & Transform/AnalyzeDataset/VocabularyCount[compute_and_apply_vocabulary_4/vocabulary]/TotalVocabSize/CombineGlobally(CountCombineFn)/DoOnce/Map(decode)_445))+(ref_AppliedPTransform_Analyze & Transform/AnalyzeDataset/VocabularyCount[compute_and_apply_vocabulary_4/vocabulary]/TotalVocabSize/CombineGlobally(CountCombineFn)/InjectDefault_446))+(ref_AppliedPTransform_Analyze & Transform/AnalyzeDataset/VocabularyCount[compute_and_apply_vocabulary_4/vocabulary]/ToInt64_447))+(ref_AppliedPTransform_Analyze & Transform/AnalyzeDataset/CreateTensorBinding[compute_and_apply_vocabulary_4/vocabulary/payment_type_unpruned_vocab_size]/ToTensorBinding_449))+(ref_PCollection_PCollection_254/Write)\n",
      "INFO:apache_beam.runners.portability.fn_api_runner.fn_runner:Running (((((ref_AppliedPTransform_Analyze & Transform/AnalyzeDataset/VocabularyOrderAndWrite[compute_and_apply_vocabulary_5/vocabulary]/WriteToText/Write/WriteImpl/DoOnce/Impulse_533)+(ref_AppliedPTransform_Analyze & Transform/AnalyzeDataset/VocabularyOrderAndWrite[compute_and_apply_vocabulary_5/vocabulary]/WriteToText/Write/WriteImpl/DoOnce/FlatMap(<lambda at core.py:2957>)_534))+(ref_AppliedPTransform_Analyze & Transform/AnalyzeDataset/VocabularyOrderAndWrite[compute_and_apply_vocabulary_5/vocabulary]/WriteToText/Write/WriteImpl/DoOnce/Map(decode)_536))+(ref_AppliedPTransform_Analyze & Transform/AnalyzeDataset/VocabularyOrderAndWrite[compute_and_apply_vocabulary_5/vocabulary]/WriteToText/Write/WriteImpl/InitializeWrite_537))+(ref_PCollection_PCollection_302/Write))+(ref_PCollection_PCollection_303/Write)\n",
      "INFO:apache_beam.runners.portability.fn_api_runner.fn_runner:Running ((((((ref_AppliedPTransform_Analyze & Transform/AnalyzeDataset/VocabularyOrderAndWrite[compute_and_apply_vocabulary_5/vocabulary]/Prepare/Impulse_524)+(ref_AppliedPTransform_Analyze & Transform/AnalyzeDataset/VocabularyOrderAndWrite[compute_and_apply_vocabulary_5/vocabulary]/Prepare/FlatMap(<lambda at core.py:2957>)_525))+(ref_AppliedPTransform_Analyze & Transform/AnalyzeDataset/VocabularyOrderAndWrite[compute_and_apply_vocabulary_5/vocabulary]/Prepare/Map(decode)_527))+(ref_AppliedPTransform_Analyze & Transform/AnalyzeDataset/VocabularyOrderAndWrite[compute_and_apply_vocabulary_5/vocabulary]/OrderElements_528))+(ref_AppliedPTransform_Analyze & Transform/AnalyzeDataset/VocabularyOrderAndWrite[compute_and_apply_vocabulary_5/vocabulary]/WriteToText/Write/WriteImpl/Map(<lambda at iobase.py:1080>)_538))+(ref_AppliedPTransform_Analyze & Transform/AnalyzeDataset/VocabularyOrderAndWrite[compute_and_apply_vocabulary_5/vocabulary]/WriteToText/Write/WriteImpl/WindowInto(WindowIntoFn)_539))+(Analyze & Transform/AnalyzeDataset/VocabularyOrderAndWrite[compute_and_apply_vocabulary_5/vocabulary]/WriteToText/Write/WriteImpl/GroupByKey/Write)\n",
      "INFO:apache_beam.runners.portability.fn_api_runner.fn_runner:Running ((Analyze & Transform/AnalyzeDataset/VocabularyOrderAndWrite[compute_and_apply_vocabulary_5/vocabulary]/WriteToText/Write/WriteImpl/GroupByKey/Read)+(ref_AppliedPTransform_Analyze & Transform/AnalyzeDataset/VocabularyOrderAndWrite[compute_and_apply_vocabulary_5/vocabulary]/WriteToText/Write/WriteImpl/WriteBundles_541))+(ref_PCollection_PCollection_307/Write)\n",
      "INFO:apache_beam.runners.portability.fn_api_runner.fn_runner:Running ((ref_PCollection_PCollection_302/Read)+(ref_AppliedPTransform_Analyze & Transform/AnalyzeDataset/VocabularyOrderAndWrite[compute_and_apply_vocabulary_5/vocabulary]/WriteToText/Write/WriteImpl/PreFinalize_542))+(ref_PCollection_PCollection_308/Write)\n",
      "WARNING:apache_beam.io.filebasedsink:Deleting 1 existing files in target path matching: \n",
      "INFO:apache_beam.runners.portability.fn_api_runner.fn_runner:Running ((ref_PCollection_PCollection_302/Read)+(ref_AppliedPTransform_Analyze & Transform/AnalyzeDataset/VocabularyOrderAndWrite[compute_and_apply_vocabulary_5/vocabulary]/WriteToText/Write/WriteImpl/FinalizeWrite_543))+(ref_PCollection_PCollection_309/Write)\n",
      "INFO:apache_beam.io.gcp.gcsio:Starting the size estimation of the input\n",
      "INFO:apache_beam.io.gcp.gcsio:Finished listing 1 files in 0.08327722549438477 seconds.\n",
      "INFO:apache_beam.io.filebasedsink:Starting finalize_write threads with num_shards: 1 (skipped: 0), batches: 1, num_threads: 1\n",
      "INFO:apache_beam.io.filebasedsink:Renamed 1 shards in 0.30 seconds.\n",
      "INFO:apache_beam.runners.portability.fn_api_runner.fn_runner:Running (((((ref_AppliedPTransform_Analyze & Transform/AnalyzeDataset/VocabularyOrderAndWrite[compute_and_apply_vocabulary_5/vocabulary]/CreatePath/Impulse_545)+(ref_AppliedPTransform_Analyze & Transform/AnalyzeDataset/VocabularyOrderAndWrite[compute_and_apply_vocabulary_5/vocabulary]/CreatePath/FlatMap(<lambda at core.py:2957>)_546))+(ref_AppliedPTransform_Analyze & Transform/AnalyzeDataset/VocabularyOrderAndWrite[compute_and_apply_vocabulary_5/vocabulary]/CreatePath/Map(decode)_548))+(ref_AppliedPTransform_Analyze & Transform/AnalyzeDataset/VocabularyOrderAndWrite[compute_and_apply_vocabulary_5/vocabulary]/WaitForVocabularyFile_549))+(ref_AppliedPTransform_Analyze & Transform/AnalyzeDataset/CreateTensorBinding[compute_and_apply_vocabulary_5/vocabulary/Placeholder]/ToTensorBinding_551))+(ref_PCollection_PCollection_314/Write)\n",
      "INFO:apache_beam.runners.portability.fn_api_runner.fn_runner:Running (((((ref_AppliedPTransform_Analyze & Transform/AnalyzeDataset/VocabularyOrderAndWrite[compute_and_apply_vocabulary_3/vocabulary]/WriteToText/Write/WriteImpl/DoOnce/Impulse_397)+(ref_AppliedPTransform_Analyze & Transform/AnalyzeDataset/VocabularyOrderAndWrite[compute_and_apply_vocabulary_3/vocabulary]/WriteToText/Write/WriteImpl/DoOnce/FlatMap(<lambda at core.py:2957>)_398))+(ref_AppliedPTransform_Analyze & Transform/AnalyzeDataset/VocabularyOrderAndWrite[compute_and_apply_vocabulary_3/vocabulary]/WriteToText/Write/WriteImpl/DoOnce/Map(decode)_400))+(ref_AppliedPTransform_Analyze & Transform/AnalyzeDataset/VocabularyOrderAndWrite[compute_and_apply_vocabulary_3/vocabulary]/WriteToText/Write/WriteImpl/InitializeWrite_401))+(ref_PCollection_PCollection_224/Write))+(ref_PCollection_PCollection_225/Write)\n",
      "INFO:apache_beam.runners.portability.fn_api_runner.fn_runner:Running ((((Analyze & Transform/AnalyzeDataset/VocabularyAccumulate[compute_and_apply_vocabulary_3/vocabulary]/CountPerToken/CombinePerKey(CountCombineFn)/Group/Read)+(Analyze & Transform/AnalyzeDataset/VocabularyAccumulate[compute_and_apply_vocabulary_3/vocabulary]/CountPerToken/CombinePerKey(CountCombineFn)/Merge))+(Analyze & Transform/AnalyzeDataset/VocabularyAccumulate[compute_and_apply_vocabulary_3/vocabulary]/CountPerToken/CombinePerKey(CountCombineFn)/ExtractOutputs))+(Analyze & Transform/AnalyzeDataset/VocabularyMerge[compute_and_apply_vocabulary_3/vocabulary]/CountPerToken/Precombine))+(Analyze & Transform/AnalyzeDataset/VocabularyMerge[compute_and_apply_vocabulary_3/vocabulary]/CountPerToken/Group/Write)\n",
      "INFO:apache_beam.runners.portability.fn_api_runner.fn_runner:Running (((((((((Analyze & Transform/AnalyzeDataset/VocabularyMerge[compute_and_apply_vocabulary_3/vocabulary]/CountPerToken/Group/Read)+(Analyze & Transform/AnalyzeDataset/VocabularyMerge[compute_and_apply_vocabulary_3/vocabulary]/CountPerToken/Merge))+(Analyze & Transform/AnalyzeDataset/VocabularyMerge[compute_and_apply_vocabulary_3/vocabulary]/CountPerToken/ExtractOutputs))+(ref_AppliedPTransform_Analyze & Transform/AnalyzeDataset/VocabularyMerge[compute_and_apply_vocabulary_3/vocabulary]/SwapTokensAndCounts_363))+(ref_AppliedPTransform_Analyze & Transform/AnalyzeDataset/VocabularyCount[compute_and_apply_vocabulary_3/vocabulary]/TotalVocabSize/CombineGlobally(CountCombineFn)/KeyWithVoid_367))+(ref_AppliedPTransform_Analyze & Transform/AnalyzeDataset/VocabularyPrune[compute_and_apply_vocabulary_3/vocabulary]/ApplyThresholdsAndTopK/FlattenToSingleMetric_384))+(Analyze & Transform/AnalyzeDataset/VocabularyCount[compute_and_apply_vocabulary_3/vocabulary]/TotalVocabSize/CombineGlobally(CountCombineFn)/CombinePerKey/Precombine))+(Analyze & Transform/AnalyzeDataset/VocabularyCount[compute_and_apply_vocabulary_3/vocabulary]/TotalVocabSize/CombineGlobally(CountCombineFn)/CombinePerKey/Group/Write))+(ref_AppliedPTransform_Analyze & Transform/AnalyzeDataset/VocabularyOrderAndWrite[compute_and_apply_vocabulary_3/vocabulary]/EncodeNumericalKeys_386))+(ref_PCollection_PCollection_217/Write)\n",
      "INFO:apache_beam.runners.portability.fn_api_runner.fn_runner:Running ((((((ref_AppliedPTransform_Analyze & Transform/AnalyzeDataset/VocabularyOrderAndWrite[compute_and_apply_vocabulary_3/vocabulary]/Prepare/Impulse_388)+(ref_AppliedPTransform_Analyze & Transform/AnalyzeDataset/VocabularyOrderAndWrite[compute_and_apply_vocabulary_3/vocabulary]/Prepare/FlatMap(<lambda at core.py:2957>)_389))+(ref_AppliedPTransform_Analyze & Transform/AnalyzeDataset/VocabularyOrderAndWrite[compute_and_apply_vocabulary_3/vocabulary]/Prepare/Map(decode)_391))+(ref_AppliedPTransform_Analyze & Transform/AnalyzeDataset/VocabularyOrderAndWrite[compute_and_apply_vocabulary_3/vocabulary]/OrderElements_392))+(ref_AppliedPTransform_Analyze & Transform/AnalyzeDataset/VocabularyOrderAndWrite[compute_and_apply_vocabulary_3/vocabulary]/WriteToText/Write/WriteImpl/Map(<lambda at iobase.py:1080>)_402))+(ref_AppliedPTransform_Analyze & Transform/AnalyzeDataset/VocabularyOrderAndWrite[compute_and_apply_vocabulary_3/vocabulary]/WriteToText/Write/WriteImpl/WindowInto(WindowIntoFn)_403))+(Analyze & Transform/AnalyzeDataset/VocabularyOrderAndWrite[compute_and_apply_vocabulary_3/vocabulary]/WriteToText/Write/WriteImpl/GroupByKey/Write)\n",
      "INFO:apache_beam.runners.portability.fn_api_runner.fn_runner:Running ((Analyze & Transform/AnalyzeDataset/VocabularyOrderAndWrite[compute_and_apply_vocabulary_3/vocabulary]/WriteToText/Write/WriteImpl/GroupByKey/Read)+(ref_AppliedPTransform_Analyze & Transform/AnalyzeDataset/VocabularyOrderAndWrite[compute_and_apply_vocabulary_3/vocabulary]/WriteToText/Write/WriteImpl/WriteBundles_405))+(ref_PCollection_PCollection_229/Write)\n",
      "INFO:apache_beam.runners.portability.fn_api_runner.fn_runner:Running ((ref_PCollection_PCollection_224/Read)+(ref_AppliedPTransform_Analyze & Transform/AnalyzeDataset/VocabularyOrderAndWrite[compute_and_apply_vocabulary_3/vocabulary]/WriteToText/Write/WriteImpl/PreFinalize_406))+(ref_PCollection_PCollection_230/Write)\n",
      "WARNING:apache_beam.io.filebasedsink:Deleting 1 existing files in target path matching: \n",
      "INFO:apache_beam.runners.portability.fn_api_runner.fn_runner:Running ((ref_PCollection_PCollection_224/Read)+(ref_AppliedPTransform_Analyze & Transform/AnalyzeDataset/VocabularyOrderAndWrite[compute_and_apply_vocabulary_3/vocabulary]/WriteToText/Write/WriteImpl/FinalizeWrite_407))+(ref_PCollection_PCollection_231/Write)\n",
      "INFO:apache_beam.io.gcp.gcsio:Starting the size estimation of the input\n",
      "INFO:apache_beam.io.gcp.gcsio:Finished listing 1 files in 0.07708621025085449 seconds.\n",
      "INFO:apache_beam.io.filebasedsink:Starting finalize_write threads with num_shards: 1 (skipped: 0), batches: 1, num_threads: 1\n",
      "INFO:apache_beam.io.filebasedsink:Renamed 1 shards in 0.50 seconds.\n",
      "INFO:apache_beam.runners.portability.fn_api_runner.fn_runner:Running (((((ref_AppliedPTransform_Analyze & Transform/AnalyzeDataset/VocabularyOrderAndWrite[compute_and_apply_vocabulary_3/vocabulary]/CreatePath/Impulse_409)+(ref_AppliedPTransform_Analyze & Transform/AnalyzeDataset/VocabularyOrderAndWrite[compute_and_apply_vocabulary_3/vocabulary]/CreatePath/FlatMap(<lambda at core.py:2957>)_410))+(ref_AppliedPTransform_Analyze & Transform/AnalyzeDataset/VocabularyOrderAndWrite[compute_and_apply_vocabulary_3/vocabulary]/CreatePath/Map(decode)_412))+(ref_AppliedPTransform_Analyze & Transform/AnalyzeDataset/VocabularyOrderAndWrite[compute_and_apply_vocabulary_3/vocabulary]/WaitForVocabularyFile_413))+(ref_AppliedPTransform_Analyze & Transform/AnalyzeDataset/CreateTensorBinding[compute_and_apply_vocabulary_3/vocabulary/Placeholder]/ToTensorBinding_415))+(ref_PCollection_PCollection_236/Write)\n",
      "INFO:apache_beam.runners.portability.fn_api_runner.fn_runner:Running (((((ref_AppliedPTransform_Analyze & Transform/AnalyzeDataset/VocabularyOrderAndWrite[compute_and_apply_vocabulary_7/vocabulary]/WriteToText/Write/WriteImpl/DoOnce/Impulse_669)+(ref_AppliedPTransform_Analyze & Transform/AnalyzeDataset/VocabularyOrderAndWrite[compute_and_apply_vocabulary_7/vocabulary]/WriteToText/Write/WriteImpl/DoOnce/FlatMap(<lambda at core.py:2957>)_670))+(ref_AppliedPTransform_Analyze & Transform/AnalyzeDataset/VocabularyOrderAndWrite[compute_and_apply_vocabulary_7/vocabulary]/WriteToText/Write/WriteImpl/DoOnce/Map(decode)_672))+(ref_AppliedPTransform_Analyze & Transform/AnalyzeDataset/VocabularyOrderAndWrite[compute_and_apply_vocabulary_7/vocabulary]/WriteToText/Write/WriteImpl/InitializeWrite_673))+(ref_PCollection_PCollection_380/Write))+(ref_PCollection_PCollection_381/Write)\n",
      "INFO:apache_beam.runners.portability.fn_api_runner.fn_runner:Running ((((((ref_AppliedPTransform_Analyze & Transform/AnalyzeDataset/VocabularyOrderAndWrite[compute_and_apply_vocabulary_7/vocabulary]/Prepare/Impulse_660)+(ref_AppliedPTransform_Analyze & Transform/AnalyzeDataset/VocabularyOrderAndWrite[compute_and_apply_vocabulary_7/vocabulary]/Prepare/FlatMap(<lambda at core.py:2957>)_661))+(ref_AppliedPTransform_Analyze & Transform/AnalyzeDataset/VocabularyOrderAndWrite[compute_and_apply_vocabulary_7/vocabulary]/Prepare/Map(decode)_663))+(ref_AppliedPTransform_Analyze & Transform/AnalyzeDataset/VocabularyOrderAndWrite[compute_and_apply_vocabulary_7/vocabulary]/OrderElements_664))+(ref_AppliedPTransform_Analyze & Transform/AnalyzeDataset/VocabularyOrderAndWrite[compute_and_apply_vocabulary_7/vocabulary]/WriteToText/Write/WriteImpl/Map(<lambda at iobase.py:1080>)_674))+(ref_AppliedPTransform_Analyze & Transform/AnalyzeDataset/VocabularyOrderAndWrite[compute_and_apply_vocabulary_7/vocabulary]/WriteToText/Write/WriteImpl/WindowInto(WindowIntoFn)_675))+(Analyze & Transform/AnalyzeDataset/VocabularyOrderAndWrite[compute_and_apply_vocabulary_7/vocabulary]/WriteToText/Write/WriteImpl/GroupByKey/Write)\n",
      "INFO:apache_beam.runners.portability.fn_api_runner.fn_runner:Running ((Analyze & Transform/AnalyzeDataset/VocabularyOrderAndWrite[compute_and_apply_vocabulary_7/vocabulary]/WriteToText/Write/WriteImpl/GroupByKey/Read)+(ref_AppliedPTransform_Analyze & Transform/AnalyzeDataset/VocabularyOrderAndWrite[compute_and_apply_vocabulary_7/vocabulary]/WriteToText/Write/WriteImpl/WriteBundles_677))+(ref_PCollection_PCollection_385/Write)\n",
      "INFO:apache_beam.runners.portability.fn_api_runner.fn_runner:Running ((ref_PCollection_PCollection_380/Read)+(ref_AppliedPTransform_Analyze & Transform/AnalyzeDataset/VocabularyOrderAndWrite[compute_and_apply_vocabulary_7/vocabulary]/WriteToText/Write/WriteImpl/PreFinalize_678))+(ref_PCollection_PCollection_386/Write)\n",
      "WARNING:apache_beam.io.filebasedsink:Deleting 1 existing files in target path matching: \n",
      "INFO:apache_beam.runners.portability.fn_api_runner.fn_runner:Running ((ref_PCollection_PCollection_380/Read)+(ref_AppliedPTransform_Analyze & Transform/AnalyzeDataset/VocabularyOrderAndWrite[compute_and_apply_vocabulary_7/vocabulary]/WriteToText/Write/WriteImpl/FinalizeWrite_679))+(ref_PCollection_PCollection_387/Write)\n",
      "INFO:apache_beam.io.gcp.gcsio:Starting the size estimation of the input\n",
      "INFO:apache_beam.io.gcp.gcsio:Finished listing 1 files in 0.1014554500579834 seconds.\n",
      "INFO:apache_beam.io.filebasedsink:Starting finalize_write threads with num_shards: 1 (skipped: 0), batches: 1, num_threads: 1\n",
      "INFO:apache_beam.io.filebasedsink:Renamed 1 shards in 0.30 seconds.\n",
      "INFO:apache_beam.runners.portability.fn_api_runner.fn_runner:Running (((((ref_AppliedPTransform_Analyze & Transform/AnalyzeDataset/VocabularyOrderAndWrite[compute_and_apply_vocabulary_7/vocabulary]/CreatePath/Impulse_681)+(ref_AppliedPTransform_Analyze & Transform/AnalyzeDataset/VocabularyOrderAndWrite[compute_and_apply_vocabulary_7/vocabulary]/CreatePath/FlatMap(<lambda at core.py:2957>)_682))+(ref_AppliedPTransform_Analyze & Transform/AnalyzeDataset/VocabularyOrderAndWrite[compute_and_apply_vocabulary_7/vocabulary]/CreatePath/Map(decode)_684))+(ref_AppliedPTransform_Analyze & Transform/AnalyzeDataset/VocabularyOrderAndWrite[compute_and_apply_vocabulary_7/vocabulary]/WaitForVocabularyFile_685))+(ref_AppliedPTransform_Analyze & Transform/AnalyzeDataset/CreateTensorBinding[compute_and_apply_vocabulary_7/vocabulary/Placeholder]/ToTensorBinding_687))+(ref_PCollection_PCollection_392/Write)\n",
      "INFO:apache_beam.runners.portability.fn_api_runner.fn_runner:Running (((((ref_AppliedPTransform_Analyze & Transform/AnalyzeDataset/VocabularyOrderAndWrite[compute_and_apply_vocabulary_2/vocabulary]/WriteToText/Write/WriteImpl/DoOnce/Impulse_329)+(ref_AppliedPTransform_Analyze & Transform/AnalyzeDataset/VocabularyOrderAndWrite[compute_and_apply_vocabulary_2/vocabulary]/WriteToText/Write/WriteImpl/DoOnce/FlatMap(<lambda at core.py:2957>)_330))+(ref_AppliedPTransform_Analyze & Transform/AnalyzeDataset/VocabularyOrderAndWrite[compute_and_apply_vocabulary_2/vocabulary]/WriteToText/Write/WriteImpl/DoOnce/Map(decode)_332))+(ref_AppliedPTransform_Analyze & Transform/AnalyzeDataset/VocabularyOrderAndWrite[compute_and_apply_vocabulary_2/vocabulary]/WriteToText/Write/WriteImpl/InitializeWrite_333))+(ref_PCollection_PCollection_185/Write))+(ref_PCollection_PCollection_186/Write)\n",
      "INFO:apache_beam.runners.portability.fn_api_runner.fn_runner:Running ((((((ref_AppliedPTransform_Analyze & Transform/AnalyzeDataset/VocabularyOrderAndWrite[compute_and_apply_vocabulary_2/vocabulary]/Prepare/Impulse_320)+(ref_AppliedPTransform_Analyze & Transform/AnalyzeDataset/VocabularyOrderAndWrite[compute_and_apply_vocabulary_2/vocabulary]/Prepare/FlatMap(<lambda at core.py:2957>)_321))+(ref_AppliedPTransform_Analyze & Transform/AnalyzeDataset/VocabularyOrderAndWrite[compute_and_apply_vocabulary_2/vocabulary]/Prepare/Map(decode)_323))+(ref_AppliedPTransform_Analyze & Transform/AnalyzeDataset/VocabularyOrderAndWrite[compute_and_apply_vocabulary_2/vocabulary]/OrderElements_324))+(ref_AppliedPTransform_Analyze & Transform/AnalyzeDataset/VocabularyOrderAndWrite[compute_and_apply_vocabulary_2/vocabulary]/WriteToText/Write/WriteImpl/Map(<lambda at iobase.py:1080>)_334))+(ref_AppliedPTransform_Analyze & Transform/AnalyzeDataset/VocabularyOrderAndWrite[compute_and_apply_vocabulary_2/vocabulary]/WriteToText/Write/WriteImpl/WindowInto(WindowIntoFn)_335))+(Analyze & Transform/AnalyzeDataset/VocabularyOrderAndWrite[compute_and_apply_vocabulary_2/vocabulary]/WriteToText/Write/WriteImpl/GroupByKey/Write)\n",
      "INFO:apache_beam.runners.portability.fn_api_runner.fn_runner:Running ((Analyze & Transform/AnalyzeDataset/VocabularyOrderAndWrite[compute_and_apply_vocabulary_2/vocabulary]/WriteToText/Write/WriteImpl/GroupByKey/Read)+(ref_AppliedPTransform_Analyze & Transform/AnalyzeDataset/VocabularyOrderAndWrite[compute_and_apply_vocabulary_2/vocabulary]/WriteToText/Write/WriteImpl/WriteBundles_337))+(ref_PCollection_PCollection_190/Write)\n",
      "INFO:apache_beam.runners.portability.fn_api_runner.fn_runner:Running ((ref_PCollection_PCollection_185/Read)+(ref_AppliedPTransform_Analyze & Transform/AnalyzeDataset/VocabularyOrderAndWrite[compute_and_apply_vocabulary_2/vocabulary]/WriteToText/Write/WriteImpl/PreFinalize_338))+(ref_PCollection_PCollection_191/Write)\n",
      "WARNING:apache_beam.io.filebasedsink:Deleting 1 existing files in target path matching: \n",
      "INFO:apache_beam.runners.portability.fn_api_runner.fn_runner:Running ((ref_PCollection_PCollection_185/Read)+(ref_AppliedPTransform_Analyze & Transform/AnalyzeDataset/VocabularyOrderAndWrite[compute_and_apply_vocabulary_2/vocabulary]/WriteToText/Write/WriteImpl/FinalizeWrite_339))+(ref_PCollection_PCollection_192/Write)\n",
      "INFO:apache_beam.io.gcp.gcsio:Starting the size estimation of the input\n",
      "INFO:apache_beam.io.gcp.gcsio:Finished listing 1 files in 0.07318711280822754 seconds.\n",
      "INFO:apache_beam.io.filebasedsink:Starting finalize_write threads with num_shards: 1 (skipped: 0), batches: 1, num_threads: 1\n",
      "INFO:apache_beam.io.filebasedsink:Renamed 1 shards in 0.30 seconds.\n",
      "INFO:apache_beam.runners.portability.fn_api_runner.fn_runner:Running (((((ref_AppliedPTransform_Analyze & Transform/AnalyzeDataset/VocabularyOrderAndWrite[compute_and_apply_vocabulary_2/vocabulary]/CreatePath/Impulse_341)+(ref_AppliedPTransform_Analyze & Transform/AnalyzeDataset/VocabularyOrderAndWrite[compute_and_apply_vocabulary_2/vocabulary]/CreatePath/FlatMap(<lambda at core.py:2957>)_342))+(ref_AppliedPTransform_Analyze & Transform/AnalyzeDataset/VocabularyOrderAndWrite[compute_and_apply_vocabulary_2/vocabulary]/CreatePath/Map(decode)_344))+(ref_AppliedPTransform_Analyze & Transform/AnalyzeDataset/VocabularyOrderAndWrite[compute_and_apply_vocabulary_2/vocabulary]/WaitForVocabularyFile_345))+(ref_AppliedPTransform_Analyze & Transform/AnalyzeDataset/CreateTensorBinding[compute_and_apply_vocabulary_2/vocabulary/Placeholder]/ToTensorBinding_347))+(ref_PCollection_PCollection_197/Write)\n",
      "INFO:apache_beam.runners.portability.fn_api_runner.fn_runner:Running ((((Analyze & Transform/AnalyzeDataset/VocabularyCount[compute_and_apply_vocabulary_3/vocabulary]/TotalVocabSize/CombineGlobally(CountCombineFn)/CombinePerKey/Group/Read)+(Analyze & Transform/AnalyzeDataset/VocabularyCount[compute_and_apply_vocabulary_3/vocabulary]/TotalVocabSize/CombineGlobally(CountCombineFn)/CombinePerKey/Merge))+(Analyze & Transform/AnalyzeDataset/VocabularyCount[compute_and_apply_vocabulary_3/vocabulary]/TotalVocabSize/CombineGlobally(CountCombineFn)/CombinePerKey/ExtractOutputs))+(ref_AppliedPTransform_Analyze & Transform/AnalyzeDataset/VocabularyCount[compute_and_apply_vocabulary_3/vocabulary]/TotalVocabSize/CombineGlobally(CountCombineFn)/UnKey_372))+(ref_PCollection_PCollection_209/Write)\n",
      "INFO:apache_beam.runners.portability.fn_api_runner.fn_runner:Running ((((((ref_AppliedPTransform_Analyze & Transform/AnalyzeDataset/VocabularyCount[compute_and_apply_vocabulary_3/vocabulary]/TotalVocabSize/CombineGlobally(CountCombineFn)/DoOnce/Impulse_374)+(ref_AppliedPTransform_Analyze & Transform/AnalyzeDataset/VocabularyCount[compute_and_apply_vocabulary_3/vocabulary]/TotalVocabSize/CombineGlobally(CountCombineFn)/DoOnce/FlatMap(<lambda at core.py:2957>)_375))+(ref_AppliedPTransform_Analyze & Transform/AnalyzeDataset/VocabularyCount[compute_and_apply_vocabulary_3/vocabulary]/TotalVocabSize/CombineGlobally(CountCombineFn)/DoOnce/Map(decode)_377))+(ref_AppliedPTransform_Analyze & Transform/AnalyzeDataset/VocabularyCount[compute_and_apply_vocabulary_3/vocabulary]/TotalVocabSize/CombineGlobally(CountCombineFn)/InjectDefault_378))+(ref_AppliedPTransform_Analyze & Transform/AnalyzeDataset/VocabularyCount[compute_and_apply_vocabulary_3/vocabulary]/ToInt64_379))+(ref_AppliedPTransform_Analyze & Transform/AnalyzeDataset/CreateTensorBinding[compute_and_apply_vocabulary_3/vocabulary/trip_hour_unpruned_vocab_size]/ToTensorBinding_381))+(ref_PCollection_PCollection_215/Write)\n",
      "INFO:apache_beam.runners.portability.fn_api_runner.fn_runner:Running (((((((((((ref_AppliedPTransform_Analyze & Transform/AnalyzeDataset/CreateSavedModel[tf_compat_v1]/BindTensors/CreateSavedModel/Impulse_709)+(ref_AppliedPTransform_Analyze & Transform/AnalyzeDataset/CreateSavedModel[tf_compat_v1]/BindTensors/CreateSavedModel/FlatMap(<lambda at core.py:2957>)_710))+(ref_AppliedPTransform_Analyze & Transform/AnalyzeDataset/CreateSavedModel[tf_compat_v1]/BindTensors/CreateSavedModel/Map(decode)_712))+(ref_AppliedPTransform_Analyze & Transform/AnalyzeDataset/CreateSavedModel[tf_compat_v1]/BindTensors/ReplaceWithConstants_713))+(ref_AppliedPTransform_Analyze & Transform/AnalyzeDataset/ComputeDeferredMetadata[compat_v1=True]_721))+(ref_AppliedPTransform_Analyze & Transform/AnalyzeDataset/MakeCheapBarrier_722))+(ref_PCollection_PCollection_408/Write))+(ref_AppliedPTransform_Write Transform Artifacts/WriteTransformFnToTemp_812))+(ref_AppliedPTransform_Write Transform Artifacts/WriteMetadataToTemp/WriteMetadata_811))+(ref_PCollection_PCollection_414/Write))+(ref_PCollection_PCollection_465/Write))+(ref_PCollection_PCollection_466/Write)\n",
      "INFO:tensorflow:Saver not created because there are no variables in the graph to restore\n",
      "INFO:tensorflow:Saver not created because there are no variables in the graph to restore\n",
      "INFO:tensorflow:Assets added to graph.\n",
      "INFO:tensorflow:Assets added to graph.\n",
      "INFO:tensorflow:Assets written to: gs://aiops-industrialization-bucket-ravi/chicago-taxi-tips/tmp/tftransform_tmp/4f68bca15b934ef597e262b87e8d796e/assets\n",
      "INFO:tensorflow:Assets written to: gs://aiops-industrialization-bucket-ravi/chicago-taxi-tips/tmp/tftransform_tmp/4f68bca15b934ef597e262b87e8d796e/assets\n",
      "INFO:tensorflow:SavedModel written to: gs://aiops-industrialization-bucket-ravi/chicago-taxi-tips/tmp/tftransform_tmp/4f68bca15b934ef597e262b87e8d796e/saved_model.pb\n",
      "INFO:tensorflow:SavedModel written to: gs://aiops-industrialization-bucket-ravi/chicago-taxi-tips/tmp/tftransform_tmp/4f68bca15b934ef597e262b87e8d796e/saved_model.pb\n",
      "WARNING:tensorflow:Expected binary or unicode string, got type_url: \"type.googleapis.com/tensorflow.AssetFileDef\"\n",
      "value: \"\\n\\013\\n\\tConst_3:0\\022\\ntrip_month\"\n",
      "\n",
      "WARNING:tensorflow:Expected binary or unicode string, got type_url: \"type.googleapis.com/tensorflow.AssetFileDef\"\n",
      "value: \"\\n\\013\\n\\tConst_3:0\\022\\ntrip_month\"\n",
      "\n",
      "WARNING:tensorflow:Expected binary or unicode string, got type_url: \"type.googleapis.com/tensorflow.AssetFileDef\"\n",
      "value: \"\\n\\013\\n\\tConst_5:0\\022\\010trip_day\"\n",
      "\n",
      "WARNING:tensorflow:Expected binary or unicode string, got type_url: \"type.googleapis.com/tensorflow.AssetFileDef\"\n",
      "value: \"\\n\\013\\n\\tConst_5:0\\022\\010trip_day\"\n",
      "\n",
      "WARNING:tensorflow:Expected binary or unicode string, got type_url: \"type.googleapis.com/tensorflow.AssetFileDef\"\n",
      "value: \"\\n\\013\\n\\tConst_7:0\\022\\020trip_day_of_week\"\n",
      "\n",
      "WARNING:tensorflow:Expected binary or unicode string, got type_url: \"type.googleapis.com/tensorflow.AssetFileDef\"\n",
      "value: \"\\n\\013\\n\\tConst_7:0\\022\\020trip_day_of_week\"\n",
      "\n",
      "WARNING:tensorflow:Expected binary or unicode string, got type_url: \"type.googleapis.com/tensorflow.AssetFileDef\"\n",
      "value: \"\\n\\013\\n\\tConst_9:0\\022\\ttrip_hour\"\n",
      "\n",
      "WARNING:tensorflow:Expected binary or unicode string, got type_url: \"type.googleapis.com/tensorflow.AssetFileDef\"\n",
      "value: \"\\n\\013\\n\\tConst_9:0\\022\\ttrip_hour\"\n",
      "\n",
      "WARNING:tensorflow:Expected binary or unicode string, got type_url: \"type.googleapis.com/tensorflow.AssetFileDef\"\n",
      "value: \"\\n\\014\\n\\nConst_11:0\\022\\014payment_type\"\n",
      "\n",
      "WARNING:tensorflow:Expected binary or unicode string, got type_url: \"type.googleapis.com/tensorflow.AssetFileDef\"\n",
      "value: \"\\n\\014\\n\\nConst_11:0\\022\\014payment_type\"\n",
      "\n",
      "WARNING:tensorflow:Expected binary or unicode string, got type_url: \"type.googleapis.com/tensorflow.AssetFileDef\"\n",
      "value: \"\\n\\014\\n\\nConst_13:0\\022\\013pickup_grid\"\n",
      "\n",
      "WARNING:tensorflow:Expected binary or unicode string, got type_url: \"type.googleapis.com/tensorflow.AssetFileDef\"\n",
      "value: \"\\n\\014\\n\\nConst_13:0\\022\\013pickup_grid\"\n",
      "\n",
      "WARNING:tensorflow:Expected binary or unicode string, got type_url: \"type.googleapis.com/tensorflow.AssetFileDef\"\n",
      "value: \"\\n\\014\\n\\nConst_15:0\\022\\014dropoff_grid\"\n",
      "\n",
      "WARNING:tensorflow:Expected binary or unicode string, got type_url: \"type.googleapis.com/tensorflow.AssetFileDef\"\n",
      "value: \"\\n\\014\\n\\nConst_15:0\\022\\014dropoff_grid\"\n",
      "\n",
      "WARNING:tensorflow:Expected binary or unicode string, got type_url: \"type.googleapis.com/tensorflow.AssetFileDef\"\n",
      "value: \"\\n\\014\\n\\nConst_17:0\\022\\tloc_cross\"\n",
      "\n",
      "WARNING:tensorflow:Expected binary or unicode string, got type_url: \"type.googleapis.com/tensorflow.AssetFileDef\"\n",
      "value: \"\\n\\014\\n\\nConst_17:0\\022\\tloc_cross\"\n",
      "\n",
      "INFO:tensorflow:Saver not created because there are no variables in the graph to restore\n",
      "INFO:tensorflow:Saver not created because there are no variables in the graph to restore\n",
      "INFO:apache_beam.runners.portability.fn_api_runner.fn_runner:Running ((((((((ref_PCollection_PCollection_446/Read)+(ref_AppliedPTransform_Transform/Transform_784))+(ref_AppliedPTransform_Transform/ConvertAndUnbatch_785))+(ref_AppliedPTransform_Transform/MakeCheapBarrier_786))+(ref_AppliedPTransform_Write Transformed Eval Data/Write/WriteImpl/WindowInto(WindowIntoFn)_802))+(ref_PCollection_PCollection_449/Write))+(ref_AppliedPTransform_Write Transformed Eval Data/Write/WriteImpl/WriteBundles_803))+(ref_AppliedPTransform_Write Transformed Eval Data/Write/WriteImpl/Pair_804))+(Write Transformed Eval Data/Write/WriteImpl/GroupByKey/Write)\n",
      "WARNING:tensorflow:Expected binary or unicode string, got type_url: \"type.googleapis.com/tensorflow.AssetFileDef\"\n",
      "value: \"\\n\\013\\n\\tConst_3:0\\022\\ntrip_month\"\n",
      "\n",
      "WARNING:tensorflow:Expected binary or unicode string, got type_url: \"type.googleapis.com/tensorflow.AssetFileDef\"\n",
      "value: \"\\n\\013\\n\\tConst_3:0\\022\\ntrip_month\"\n",
      "\n",
      "WARNING:tensorflow:Expected binary or unicode string, got type_url: \"type.googleapis.com/tensorflow.AssetFileDef\"\n",
      "value: \"\\n\\013\\n\\tConst_5:0\\022\\010trip_day\"\n",
      "\n",
      "WARNING:tensorflow:Expected binary or unicode string, got type_url: \"type.googleapis.com/tensorflow.AssetFileDef\"\n",
      "value: \"\\n\\013\\n\\tConst_5:0\\022\\010trip_day\"\n",
      "\n",
      "WARNING:tensorflow:Expected binary or unicode string, got type_url: \"type.googleapis.com/tensorflow.AssetFileDef\"\n",
      "value: \"\\n\\013\\n\\tConst_7:0\\022\\020trip_day_of_week\"\n",
      "\n",
      "WARNING:tensorflow:Expected binary or unicode string, got type_url: \"type.googleapis.com/tensorflow.AssetFileDef\"\n",
      "value: \"\\n\\013\\n\\tConst_7:0\\022\\020trip_day_of_week\"\n",
      "\n",
      "WARNING:tensorflow:Expected binary or unicode string, got type_url: \"type.googleapis.com/tensorflow.AssetFileDef\"\n",
      "value: \"\\n\\013\\n\\tConst_9:0\\022\\ttrip_hour\"\n",
      "\n",
      "WARNING:tensorflow:Expected binary or unicode string, got type_url: \"type.googleapis.com/tensorflow.AssetFileDef\"\n",
      "value: \"\\n\\013\\n\\tConst_9:0\\022\\ttrip_hour\"\n",
      "\n",
      "WARNING:tensorflow:Expected binary or unicode string, got type_url: \"type.googleapis.com/tensorflow.AssetFileDef\"\n",
      "value: \"\\n\\014\\n\\nConst_11:0\\022\\014payment_type\"\n",
      "\n",
      "WARNING:tensorflow:Expected binary or unicode string, got type_url: \"type.googleapis.com/tensorflow.AssetFileDef\"\n",
      "value: \"\\n\\014\\n\\nConst_11:0\\022\\014payment_type\"\n",
      "\n",
      "WARNING:tensorflow:Expected binary or unicode string, got type_url: \"type.googleapis.com/tensorflow.AssetFileDef\"\n",
      "value: \"\\n\\014\\n\\nConst_13:0\\022\\013pickup_grid\"\n",
      "\n",
      "WARNING:tensorflow:Expected binary or unicode string, got type_url: \"type.googleapis.com/tensorflow.AssetFileDef\"\n",
      "value: \"\\n\\014\\n\\nConst_13:0\\022\\013pickup_grid\"\n",
      "\n",
      "WARNING:tensorflow:Expected binary or unicode string, got type_url: \"type.googleapis.com/tensorflow.AssetFileDef\"\n",
      "value: \"\\n\\014\\n\\nConst_15:0\\022\\014dropoff_grid\"\n",
      "\n",
      "WARNING:tensorflow:Expected binary or unicode string, got type_url: \"type.googleapis.com/tensorflow.AssetFileDef\"\n",
      "value: \"\\n\\014\\n\\nConst_15:0\\022\\014dropoff_grid\"\n",
      "\n",
      "WARNING:tensorflow:Expected binary or unicode string, got type_url: \"type.googleapis.com/tensorflow.AssetFileDef\"\n",
      "value: \"\\n\\014\\n\\nConst_17:0\\022\\tloc_cross\"\n",
      "\n",
      "WARNING:tensorflow:Expected binary or unicode string, got type_url: \"type.googleapis.com/tensorflow.AssetFileDef\"\n",
      "value: \"\\n\\014\\n\\nConst_17:0\\022\\tloc_cross\"\n",
      "\n",
      "INFO:tensorflow:Saver not created because there are no variables in the graph to restore\n",
      "INFO:tensorflow:Saver not created because there are no variables in the graph to restore\n",
      "INFO:apache_beam.runners.portability.fn_api_runner.fn_runner:Running ((Write Transformed Eval Data/Write/WriteImpl/GroupByKey/Read)+(ref_AppliedPTransform_Write Transformed Eval Data/Write/WriteImpl/Extract_806))+(ref_PCollection_PCollection_462/Write)\n",
      "INFO:apache_beam.runners.portability.fn_api_runner.fn_runner:Running ((ref_PCollection_PCollection_456/Read)+(ref_AppliedPTransform_Write Transformed Eval Data/Write/WriteImpl/PreFinalize_807))+(ref_PCollection_PCollection_463/Write)\n",
      "INFO:apache_beam.io.gcp.gcsio:Starting the size estimation of the input\n",
      "INFO:apache_beam.io.gcp.gcsio:Finished listing 0 files in 0.06966376304626465 seconds.\n",
      "INFO:apache_beam.runners.portability.fn_api_runner.fn_runner:Running (ref_PCollection_PCollection_456/Read)+(ref_AppliedPTransform_Write Transformed Eval Data/Write/WriteImpl/FinalizeWrite_808)\n",
      "INFO:apache_beam.io.gcp.gcsio:Starting the size estimation of the input\n",
      "INFO:apache_beam.io.gcp.gcsio:Finished listing 1 files in 0.06738996505737305 seconds.\n",
      "INFO:apache_beam.io.gcp.gcsio:Starting the size estimation of the input\n",
      "INFO:apache_beam.io.gcp.gcsio:Finished listing 0 files in 0.07303118705749512 seconds.\n",
      "INFO:apache_beam.io.filebasedsink:Starting finalize_write threads with num_shards: 1 (skipped: 0), batches: 1, num_threads: 1\n",
      "INFO:apache_beam.io.filebasedsink:Renamed 1 shards in 0.30 seconds.\n",
      "INFO:apache_beam.runners.portability.fn_api_runner.fn_runner:Running (((((ref_AppliedPTransform_Write Transformed Train Data/Write/WriteImpl/DoOnce/Impulse_757)+(ref_AppliedPTransform_Write Transformed Train Data/Write/WriteImpl/DoOnce/FlatMap(<lambda at core.py:2957>)_758))+(ref_AppliedPTransform_Write Transformed Train Data/Write/WriteImpl/DoOnce/Map(decode)_760))+(ref_AppliedPTransform_Write Transformed Train Data/Write/WriteImpl/InitializeWrite_761))+(ref_PCollection_PCollection_433/Write))+(ref_PCollection_PCollection_434/Write)\n",
      "INFO:apache_beam.runners.portability.fn_api_runner.fn_runner:Running ((((((((ref_PCollection_PCollection_423/Read)+(ref_AppliedPTransform_Analyze & Transform/TransformDataset/Transform_744))+(ref_AppliedPTransform_Analyze & Transform/TransformDataset/ConvertAndUnbatch_745))+(ref_AppliedPTransform_Analyze & Transform/TransformDataset/MakeCheapBarrier_746))+(ref_AppliedPTransform_Write Transformed Train Data/Write/WriteImpl/WindowInto(WindowIntoFn)_762))+(ref_PCollection_PCollection_426/Write))+(ref_AppliedPTransform_Write Transformed Train Data/Write/WriteImpl/WriteBundles_763))+(ref_AppliedPTransform_Write Transformed Train Data/Write/WriteImpl/Pair_764))+(Write Transformed Train Data/Write/WriteImpl/GroupByKey/Write)\n",
      "WARNING:tensorflow:Expected binary or unicode string, got type_url: \"type.googleapis.com/tensorflow.AssetFileDef\"\n",
      "value: \"\\n\\013\\n\\tConst_3:0\\022\\ntrip_month\"\n",
      "\n",
      "WARNING:tensorflow:Expected binary or unicode string, got type_url: \"type.googleapis.com/tensorflow.AssetFileDef\"\n",
      "value: \"\\n\\013\\n\\tConst_3:0\\022\\ntrip_month\"\n",
      "\n",
      "WARNING:tensorflow:Expected binary or unicode string, got type_url: \"type.googleapis.com/tensorflow.AssetFileDef\"\n",
      "value: \"\\n\\013\\n\\tConst_5:0\\022\\010trip_day\"\n",
      "\n",
      "WARNING:tensorflow:Expected binary or unicode string, got type_url: \"type.googleapis.com/tensorflow.AssetFileDef\"\n",
      "value: \"\\n\\013\\n\\tConst_5:0\\022\\010trip_day\"\n",
      "\n",
      "WARNING:tensorflow:Expected binary or unicode string, got type_url: \"type.googleapis.com/tensorflow.AssetFileDef\"\n",
      "value: \"\\n\\013\\n\\tConst_7:0\\022\\020trip_day_of_week\"\n",
      "\n",
      "WARNING:tensorflow:Expected binary or unicode string, got type_url: \"type.googleapis.com/tensorflow.AssetFileDef\"\n",
      "value: \"\\n\\013\\n\\tConst_7:0\\022\\020trip_day_of_week\"\n",
      "\n",
      "WARNING:tensorflow:Expected binary or unicode string, got type_url: \"type.googleapis.com/tensorflow.AssetFileDef\"\n",
      "value: \"\\n\\013\\n\\tConst_9:0\\022\\ttrip_hour\"\n",
      "\n",
      "WARNING:tensorflow:Expected binary or unicode string, got type_url: \"type.googleapis.com/tensorflow.AssetFileDef\"\n",
      "value: \"\\n\\013\\n\\tConst_9:0\\022\\ttrip_hour\"\n",
      "\n",
      "WARNING:tensorflow:Expected binary or unicode string, got type_url: \"type.googleapis.com/tensorflow.AssetFileDef\"\n",
      "value: \"\\n\\014\\n\\nConst_11:0\\022\\014payment_type\"\n",
      "\n",
      "WARNING:tensorflow:Expected binary or unicode string, got type_url: \"type.googleapis.com/tensorflow.AssetFileDef\"\n",
      "value: \"\\n\\014\\n\\nConst_11:0\\022\\014payment_type\"\n",
      "\n",
      "WARNING:tensorflow:Expected binary or unicode string, got type_url: \"type.googleapis.com/tensorflow.AssetFileDef\"\n",
      "value: \"\\n\\014\\n\\nConst_13:0\\022\\013pickup_grid\"\n",
      "\n",
      "WARNING:tensorflow:Expected binary or unicode string, got type_url: \"type.googleapis.com/tensorflow.AssetFileDef\"\n",
      "value: \"\\n\\014\\n\\nConst_13:0\\022\\013pickup_grid\"\n",
      "\n",
      "WARNING:tensorflow:Expected binary or unicode string, got type_url: \"type.googleapis.com/tensorflow.AssetFileDef\"\n",
      "value: \"\\n\\014\\n\\nConst_15:0\\022\\014dropoff_grid\"\n",
      "\n",
      "WARNING:tensorflow:Expected binary or unicode string, got type_url: \"type.googleapis.com/tensorflow.AssetFileDef\"\n",
      "value: \"\\n\\014\\n\\nConst_15:0\\022\\014dropoff_grid\"\n",
      "\n",
      "WARNING:tensorflow:Expected binary or unicode string, got type_url: \"type.googleapis.com/tensorflow.AssetFileDef\"\n",
      "value: \"\\n\\014\\n\\nConst_17:0\\022\\tloc_cross\"\n",
      "\n",
      "WARNING:tensorflow:Expected binary or unicode string, got type_url: \"type.googleapis.com/tensorflow.AssetFileDef\"\n",
      "value: \"\\n\\014\\n\\nConst_17:0\\022\\tloc_cross\"\n",
      "\n",
      "INFO:tensorflow:Saver not created because there are no variables in the graph to restore\n",
      "INFO:tensorflow:Saver not created because there are no variables in the graph to restore\n",
      "INFO:apache_beam.runners.portability.fn_api_runner.fn_runner:Running (((ref_AppliedPTransform_Analyze & Transform/TransformDataset/PrepareToClearSharedKeepAlives/Impulse_748)+(ref_AppliedPTransform_Analyze & Transform/TransformDataset/PrepareToClearSharedKeepAlives/FlatMap(<lambda at core.py:2957>)_749))+(ref_AppliedPTransform_Analyze & Transform/TransformDataset/PrepareToClearSharedKeepAlives/Map(decode)_751))+(ref_AppliedPTransform_Analyze & Transform/TransformDataset/WaitAndClearSharedKeepAlives_752)\n",
      "INFO:apache_beam.runners.portability.fn_api_runner.fn_runner:Running ((Write Transformed Train Data/Write/WriteImpl/GroupByKey/Read)+(ref_AppliedPTransform_Write Transformed Train Data/Write/WriteImpl/Extract_766))+(ref_PCollection_PCollection_439/Write)\n",
      "INFO:apache_beam.runners.portability.fn_api_runner.fn_runner:Running ((ref_PCollection_PCollection_433/Read)+(ref_AppliedPTransform_Write Transformed Train Data/Write/WriteImpl/PreFinalize_767))+(ref_PCollection_PCollection_440/Write)\n",
      "INFO:apache_beam.io.gcp.gcsio:Starting the size estimation of the input\n",
      "INFO:apache_beam.io.gcp.gcsio:Finished listing 0 files in 0.07164740562438965 seconds.\n",
      "INFO:apache_beam.runners.portability.fn_api_runner.fn_runner:Running (ref_PCollection_PCollection_433/Read)+(ref_AppliedPTransform_Write Transformed Train Data/Write/WriteImpl/FinalizeWrite_768)\n",
      "INFO:apache_beam.io.gcp.gcsio:Starting the size estimation of the input\n",
      "INFO:apache_beam.io.gcp.gcsio:Finished listing 1 files in 0.06679034233093262 seconds.\n",
      "INFO:apache_beam.io.gcp.gcsio:Starting the size estimation of the input\n",
      "INFO:apache_beam.io.gcp.gcsio:Finished listing 0 files in 0.1077413558959961 seconds.\n",
      "INFO:apache_beam.io.filebasedsink:Starting finalize_write threads with num_shards: 1 (skipped: 0), batches: 1, num_threads: 1\n",
      "INFO:apache_beam.io.filebasedsink:Renamed 1 shards in 0.30 seconds.\n",
      "INFO:apache_beam.runners.portability.fn_api_runner.fn_runner:Running (((ref_AppliedPTransform_Transform/PrepareToClearSharedKeepAlives/Impulse_788)+(ref_AppliedPTransform_Transform/PrepareToClearSharedKeepAlives/FlatMap(<lambda at core.py:2957>)_789))+(ref_AppliedPTransform_Transform/PrepareToClearSharedKeepAlives/Map(decode)_791))+(ref_AppliedPTransform_Transform/WaitAndClearSharedKeepAlives_792)\n",
      "INFO:apache_beam.runners.portability.fn_api_runner.fn_runner:Running ((((ref_AppliedPTransform_Read Raw Data/FilesToRemoveImpulse/Impulse_4)+(ref_AppliedPTransform_Read Raw Data/FilesToRemoveImpulse/FlatMap(<lambda at core.py:2957>)_5))+(ref_AppliedPTransform_Read Raw Data/FilesToRemoveImpulse/Map(decode)_7))+(ref_AppliedPTransform_Read Raw Data/MapFilesToRemove_8))+(ref_PCollection_PCollection_4/Write)\n",
      "INFO:apache_beam.runners.portability.fn_api_runner.fn_runner:Running (((ref_AppliedPTransform_Read Raw Data/_PassThroughThenCleanup/Create/Impulse_18)+(ref_AppliedPTransform_Read Raw Data/_PassThroughThenCleanup/Create/FlatMap(<lambda at core.py:2957>)_19))+(ref_AppliedPTransform_Read Raw Data/_PassThroughThenCleanup/Create/Map(decode)_21))+(ref_AppliedPTransform_Read Raw Data/_PassThroughThenCleanup/ParDo(RemoveExtractedFiles)_22)\n",
      "INFO:apache_beam.io.gcp.gcsio:Starting the size estimation of the input\n",
      "INFO:apache_beam.io.gcp.gcsio:Finished listing 1 files in 0.0733788013458252 seconds.\n",
      "INFO:apache_beam.runners.portability.fn_api_runner.fn_runner:Running (((ref_AppliedPTransform_Analyze & Transform/AnalyzeDataset/CreateSavedModel[tf_compat_v1]/Count/CreateSole/Impulse_716)+(ref_AppliedPTransform_Analyze & Transform/AnalyzeDataset/CreateSavedModel[tf_compat_v1]/Count/CreateSole/FlatMap(<lambda at core.py:2957>)_717))+(ref_AppliedPTransform_Analyze & Transform/AnalyzeDataset/CreateSavedModel[tf_compat_v1]/Count/CreateSole/Map(decode)_719))+(ref_AppliedPTransform_Analyze & Transform/AnalyzeDataset/CreateSavedModel[tf_compat_v1]/Count/Count_720)\n",
      "INFO:apache_beam.runners.portability.fn_api_runner.fn_runner:Running (((ref_AppliedPTransform_Analyze & Transform/AnalyzeDataset/InstrumentAPI/CreateSoleAPIUse/Impulse_45)+(ref_AppliedPTransform_Analyze & Transform/AnalyzeDataset/InstrumentAPI/CreateSoleAPIUse/FlatMap(<lambda at core.py:2957>)_46))+(ref_AppliedPTransform_Analyze & Transform/AnalyzeDataset/InstrumentAPI/CreateSoleAPIUse/Map(decode)_48))+(ref_AppliedPTransform_Analyze & Transform/AnalyzeDataset/InstrumentAPI/CountAPIUse_49)\n",
      "INFO:apache_beam.runners.portability.fn_api_runner.fn_runner:Running (((ref_AppliedPTransform_Analyze & Transform/AnalyzeDataset/CreateSavedModelForAnalyzerInputs[Phase0][tf_compat_v1]/Count/CreateSole/Impulse_59)+(ref_AppliedPTransform_Analyze & Transform/AnalyzeDataset/CreateSavedModelForAnalyzerInputs[Phase0][tf_compat_v1]/Count/CreateSole/FlatMap(<lambda at core.py:2957>)_60))+(ref_AppliedPTransform_Analyze & Transform/AnalyzeDataset/CreateSavedModelForAnalyzerInputs[Phase0][tf_compat_v1]/Count/CreateSole/Map(decode)_62))+(ref_AppliedPTransform_Analyze & Transform/AnalyzeDataset/CreateSavedModelForAnalyzerInputs[Phase0][tf_compat_v1]/Count/Count_63)\n",
      "INFO:apache_beam.runners.portability.fn_api_runner.fn_runner:Running (((ref_AppliedPTransform_Analyze & Transform/AnalyzeDataset/PrepareToClearSharedKeepAlives/Impulse_724)+(ref_AppliedPTransform_Analyze & Transform/AnalyzeDataset/PrepareToClearSharedKeepAlives/FlatMap(<lambda at core.py:2957>)_725))+(ref_AppliedPTransform_Analyze & Transform/AnalyzeDataset/PrepareToClearSharedKeepAlives/Map(decode)_727))+(ref_AppliedPTransform_Analyze & Transform/AnalyzeDataset/WaitAndClearSharedKeepAlives_728)\n",
      "INFO:apache_beam.runners.portability.fn_api_runner.fn_runner:Running (((ref_AppliedPTransform_Analyze & Transform/AnalyzeDataset/PackedCombineAccumulate[ApplySavedModel[Phase0]]/Count/CreateSole/Impulse_95)+(ref_AppliedPTransform_Analyze & Transform/AnalyzeDataset/PackedCombineAccumulate[ApplySavedModel[Phase0]]/Count/CreateSole/FlatMap(<lambda at core.py:2957>)_96))+(ref_AppliedPTransform_Analyze & Transform/AnalyzeDataset/PackedCombineAccumulate[ApplySavedModel[Phase0]]/Count/CreateSole/Map(decode)_98))+(ref_AppliedPTransform_Analyze & Transform/AnalyzeDataset/PackedCombineAccumulate[ApplySavedModel[Phase0]]/Count/Count_99)\n",
      "INFO:apache_beam.runners.portability.fn_api_runner.fn_runner:Running (((ref_AppliedPTransform_Analyze & Transform/AnalyzeDataset/PackedCombineMerge[3]/Count/CreateSole/Impulse_130)+(ref_AppliedPTransform_Analyze & Transform/AnalyzeDataset/PackedCombineMerge[3]/Count/CreateSole/FlatMap(<lambda at core.py:2957>)_131))+(ref_AppliedPTransform_Analyze & Transform/AnalyzeDataset/PackedCombineMerge[3]/Count/CreateSole/Map(decode)_133))+(ref_AppliedPTransform_Analyze & Transform/AnalyzeDataset/PackedCombineMerge[3]/Count/Count_134)\n",
      "INFO:apache_beam.runners.portability.fn_api_runner.fn_runner:Running (((ref_AppliedPTransform_Write Transform Artifacts/CreateSole/Impulse_814)+(ref_AppliedPTransform_Write Transform Artifacts/CreateSole/FlatMap(<lambda at core.py:2957>)_815))+(ref_AppliedPTransform_Write Transform Artifacts/CreateSole/Map(decode)_817))+(ref_AppliedPTransform_Write Transform Artifacts/PublishMetadataAndTransformFn_818)\n",
      "INFO:apache_beam.runners.portability.fn_api_runner.fn_runner:Running ((Write Raw Eval Data/Write/WriteImpl/GroupByKey/Read)+(ref_AppliedPTransform_Write Raw Eval Data/Write/WriteImpl/Extract_832))+(ref_PCollection_PCollection_479/Write)\n",
      "INFO:apache_beam.runners.portability.fn_api_runner.fn_runner:Running ((ref_PCollection_PCollection_473/Read)+(ref_AppliedPTransform_Write Raw Eval Data/Write/WriteImpl/PreFinalize_833))+(ref_PCollection_PCollection_480/Write)\n",
      "INFO:apache_beam.io.gcp.gcsio:Starting the size estimation of the input\n",
      "INFO:apache_beam.io.gcp.gcsio:Finished listing 0 files in 0.07073283195495605 seconds.\n",
      "INFO:apache_beam.runners.portability.fn_api_runner.fn_runner:Running (ref_PCollection_PCollection_473/Read)+(ref_AppliedPTransform_Write Raw Eval Data/Write/WriteImpl/FinalizeWrite_834)\n",
      "INFO:apache_beam.io.gcp.gcsio:Starting the size estimation of the input\n",
      "INFO:apache_beam.io.gcp.gcsio:Finished listing 1 files in 0.07098889350891113 seconds.\n",
      "INFO:apache_beam.io.gcp.gcsio:Starting the size estimation of the input\n",
      "INFO:apache_beam.io.gcp.gcsio:Finished listing 0 files in 0.07099795341491699 seconds.\n",
      "INFO:apache_beam.io.filebasedsink:Starting finalize_write threads with num_shards: 1 (skipped: 0), batches: 1, num_threads: 1\n",
      "INFO:apache_beam.io.filebasedsink:Renamed 1 shards in 0.30 seconds.\n",
      "Data preprocessing completed.\n"
     ]
    }
   ],
   "source": [
    "print(\"Data preprocessing started...\")\n",
    "etl.run_transform_pipeline(args)\n",
    "print(\"Data preprocessing completed.\")"
   ]
  },
  {
   "cell_type": "code",
   "execution_count": 142,
   "id": "c4223ba4",
   "metadata": {},
   "outputs": [
    {
     "name": "stdout",
     "output_type": "stream",
     "text": [
      "gs://aiops-industrialization-bucket-ravi/chicago-taxi-tips/experiments/chicago-taxi-tips-classifier-v01-experiment/run-local-20210830101722/exported_data/\n",
      "gs://aiops-industrialization-bucket-ravi/chicago-taxi-tips/experiments/chicago-taxi-tips-classifier-v01-experiment/run-local-20210830101722/transform_artifacts/\n",
      "gs://aiops-industrialization-bucket-ravi/chicago-taxi-tips/experiments/chicago-taxi-tips-classifier-v01-experiment/run-local-20210830101722/transformed_data/\n"
     ]
    }
   ],
   "source": [
    "!gsutil ls {EXPERIMENT_RUN_DIR}"
   ]
  },
  {
   "cell_type": "markdown",
   "id": "124d5abd",
   "metadata": {},
   "source": [
    "## 2. Train a custom model locally using a Keras\n",
    "\n",
    "The `Keras` implementation of the custom model is in the [model_training](src/model_training) directory."
   ]
  },
  {
   "cell_type": "code",
   "execution_count": 143,
   "id": "6c93a079",
   "metadata": {},
   "outputs": [
    {
     "name": "stdout",
     "output_type": "stream",
     "text": [
      "gs://aiops-industrialization-bucket-ravi/chicago-taxi-tips/experiments/chicago-taxi-tips-classifier-v01-experiment/run-local-20210830101722/logs\n"
     ]
    }
   ],
   "source": [
    "LOG_DIR = os.path.join(EXPERIMENT_RUN_DIR, 'logs')\n",
    "EXPORT_DIR = os.path.join(EXPERIMENT_RUN_DIR, 'model')\n",
    "print(LOG_DIR)"
   ]
  },
  {
   "cell_type": "markdown",
   "id": "0f2bf0d4",
   "metadata": {},
   "source": [
    "### Read transformed data"
   ]
  },
  {
   "cell_type": "code",
   "execution_count": 144,
   "id": "a5495749",
   "metadata": {},
   "outputs": [
    {
     "data": {
      "text/plain": [
       "{'dropoff_grid_xf': FixedLenFeature(shape=[], dtype=tf.int64, default_value=None),\n",
       " 'euclidean_xf': FixedLenFeature(shape=[], dtype=tf.float32, default_value=None),\n",
       " 'loc_cross_xf': FixedLenFeature(shape=[], dtype=tf.int64, default_value=None),\n",
       " 'payment_type_xf': FixedLenFeature(shape=[], dtype=tf.int64, default_value=None),\n",
       " 'pickup_grid_xf': FixedLenFeature(shape=[], dtype=tf.int64, default_value=None),\n",
       " 'tip_bin': FixedLenFeature(shape=[], dtype=tf.int64, default_value=None),\n",
       " 'trip_day_of_week_xf': FixedLenFeature(shape=[], dtype=tf.int64, default_value=None),\n",
       " 'trip_day_xf': FixedLenFeature(shape=[], dtype=tf.int64, default_value=None),\n",
       " 'trip_hour_xf': FixedLenFeature(shape=[], dtype=tf.int64, default_value=None),\n",
       " 'trip_miles_xf': FixedLenFeature(shape=[], dtype=tf.float32, default_value=None),\n",
       " 'trip_month_xf': FixedLenFeature(shape=[], dtype=tf.int64, default_value=None),\n",
       " 'trip_seconds_xf': FixedLenFeature(shape=[], dtype=tf.float32, default_value=None)}"
      ]
     },
     "execution_count": 144,
     "metadata": {},
     "output_type": "execute_result"
    }
   ],
   "source": [
    "tft_output = tft.TFTransformOutput(TRANSFORM_ARTIFACTS_DIR)\n",
    "transform_feature_spec = tft_output.transformed_feature_spec()\n",
    "transform_feature_spec"
   ]
  },
  {
   "cell_type": "code",
   "execution_count": 145,
   "id": "7862b72d",
   "metadata": {},
   "outputs": [
    {
     "name": "stdout",
     "output_type": "stream",
     "text": [
      "<tensorflow_transform.output_wrapper.TFTransformOutput object at 0x7f8a0d1b1890>\n"
     ]
    }
   ],
   "source": [
    "print(tft_output)"
   ]
  },
  {
   "cell_type": "code",
   "execution_count": 146,
   "id": "fc58c4cc",
   "metadata": {},
   "outputs": [
    {
     "name": "stdout",
     "output_type": "stream",
     "text": [
      "dropoff_grid_xf <dtype: 'int64'>: [0, 0, 0]\n",
      "euclidean_xf <dtype: 'float32'>: [0.4249393939971924, -0.8341283798217773, -0.8341283798217773]\n",
      "loc_cross_xf <dtype: 'int64'>: [0, 0, 0]\n",
      "payment_type_xf <dtype: 'int64'>: [0, 0, 2]\n",
      "pickup_grid_xf <dtype: 'int64'>: [0, 0, 0]\n",
      "trip_day_of_week_xf <dtype: 'int64'>: [1, 3, 4]\n",
      "trip_day_xf <dtype: 'int64'>: [27, 27, 16]\n",
      "trip_hour_xf <dtype: 'int64'>: [11, 16, 1]\n",
      "trip_miles_xf <dtype: 'float32'>: [-0.44292137026786804, -0.18393473327159882, -0.2579309046268463]\n",
      "trip_month_xf <dtype: 'int64'>: [5, 0, 1]\n",
      "trip_seconds_xf <dtype: 'float32'>: [-0.2676912248134613, -0.21505436301231384, -0.2038748413324356]\n",
      "target: [0, 0, 0]\n"
     ]
    }
   ],
   "source": [
    "train_data_file_pattern = os.path.join(TRANSFORMED_DATA_PREFIX,'train/data-*.gz')\n",
    "eval_data_file_pattern = os.path.join(TRANSFORMED_DATA_PREFIX,'eval/data-*.gz')\n",
    "\n",
    "for input_features, target in data.get_dataset(\n",
    "    train_data_file_pattern, transform_feature_spec, batch_size=3).take(1):\n",
    "    for key in input_features:\n",
    "        print(f\"{key} {input_features[key].dtype}: {input_features[key].numpy().tolist()}\")\n",
    "    print(f\"target: {target.numpy().tolist()}\")"
   ]
  },
  {
   "cell_type": "markdown",
   "id": "3d468cad",
   "metadata": {},
   "source": [
    "### Create hyperparameters"
   ]
  },
  {
   "cell_type": "code",
   "execution_count": 147,
   "id": "d58965ee",
   "metadata": {},
   "outputs": [
    {
     "data": {
      "text/plain": [
       "{'hidden_units': [64, 32],\n",
       " 'learning_rate': 0.0001,\n",
       " 'batch_size': 512,\n",
       " 'num_epochs': 10}"
      ]
     },
     "execution_count": 147,
     "metadata": {},
     "output_type": "execute_result"
    }
   ],
   "source": [
    "hyperparams = {\n",
    "    \"hidden_units\": [64, 32]\n",
    "}\n",
    "\n",
    "hyperparams = defaults.update_hyperparams(hyperparams)\n",
    "hyperparams"
   ]
  },
  {
   "cell_type": "markdown",
   "id": "53d0623d",
   "metadata": {},
   "source": [
    "### Create and test model inputs and outputs"
   ]
  },
  {
   "cell_type": "code",
   "execution_count": 148,
   "id": "f22ac919",
   "metadata": {},
   "outputs": [
    {
     "name": "stdout",
     "output_type": "stream",
     "text": [
      "Model: \"functional_7\"\n",
      "__________________________________________________________________________________________________\n",
      "Layer (type)                    Output Shape         Param #     Connected to                     \n",
      "==================================================================================================\n",
      "trip_month_xf (InputLayer)      [(None,)]            0                                            \n",
      "__________________________________________________________________________________________________\n",
      "trip_day_xf (InputLayer)        [(None,)]            0                                            \n",
      "__________________________________________________________________________________________________\n",
      "trip_day_of_week_xf (InputLayer [(None,)]            0                                            \n",
      "__________________________________________________________________________________________________\n",
      "trip_hour_xf (InputLayer)       [(None,)]            0                                            \n",
      "__________________________________________________________________________________________________\n",
      "trip_seconds_xf (InputLayer)    [(None,)]            0                                            \n",
      "__________________________________________________________________________________________________\n",
      "trip_miles_xf (InputLayer)      [(None,)]            0                                            \n",
      "__________________________________________________________________________________________________\n",
      "payment_type_xf (InputLayer)    [(None,)]            0                                            \n",
      "__________________________________________________________________________________________________\n",
      "pickup_grid_xf (InputLayer)     [(None,)]            0                                            \n",
      "__________________________________________________________________________________________________\n",
      "dropoff_grid_xf (InputLayer)    [(None,)]            0                                            \n",
      "__________________________________________________________________________________________________\n",
      "euclidean_xf (InputLayer)       [(None,)]            0                                            \n",
      "__________________________________________________________________________________________________\n",
      "loc_cross_xf (InputLayer)       [(None,)]            0                                            \n",
      "__________________________________________________________________________________________________\n",
      "trip_month_xf_embedding (Embedd (None, 2)            20          trip_month_xf[0][0]              \n",
      "__________________________________________________________________________________________________\n",
      "trip_day_xf_embedding (Embeddin (None, 4)            128         trip_day_xf[0][0]                \n",
      "__________________________________________________________________________________________________\n",
      "trip_day_of_week_xf_onehot (Cat (None, 7)            0           trip_day_of_week_xf[0][0]        \n",
      "__________________________________________________________________________________________________\n",
      "trip_hour_xf_embedding (Embeddi (None, 3)            75          trip_hour_xf[0][0]               \n",
      "__________________________________________________________________________________________________\n",
      "tf_op_layer_ExpandDims_9 (Tenso [(None, 1)]          0           trip_seconds_xf[0][0]            \n",
      "__________________________________________________________________________________________________\n",
      "tf_op_layer_ExpandDims_10 (Tens [(None, 1)]          0           trip_miles_xf[0][0]              \n",
      "__________________________________________________________________________________________________\n",
      "payment_type_xf_onehot (Categor (None, 6)            0           payment_type_xf[0][0]            \n",
      "__________________________________________________________________________________________________\n",
      "pickup_grid_xf_embedding (Embed (None, 3)            9           pickup_grid_xf[0][0]             \n",
      "__________________________________________________________________________________________________\n",
      "dropoff_grid_xf_embedding (Embe (None, 3)            12          dropoff_grid_xf[0][0]            \n",
      "__________________________________________________________________________________________________\n",
      "tf_op_layer_ExpandDims_11 (Tens [(None, 1)]          0           euclidean_xf[0][0]               \n",
      "__________________________________________________________________________________________________\n",
      "loc_cross_xf_embedding (Embeddi (None, 10)           60          loc_cross_xf[0][0]               \n",
      "__________________________________________________________________________________________________\n",
      "combines_inputs (Concatenate)   (None, 41)           0           trip_month_xf_embedding[0][0]    \n",
      "                                                                 trip_day_xf_embedding[0][0]      \n",
      "                                                                 trip_day_of_week_xf_onehot[0][0] \n",
      "                                                                 trip_hour_xf_embedding[0][0]     \n",
      "                                                                 tf_op_layer_ExpandDims_9[0][0]   \n",
      "                                                                 tf_op_layer_ExpandDims_10[0][0]  \n",
      "                                                                 payment_type_xf_onehot[0][0]     \n",
      "                                                                 pickup_grid_xf_embedding[0][0]   \n",
      "                                                                 dropoff_grid_xf_embedding[0][0]  \n",
      "                                                                 tf_op_layer_ExpandDims_11[0][0]  \n",
      "                                                                 loc_cross_xf_embedding[0][0]     \n",
      "__________________________________________________________________________________________________\n",
      "feedforward_network (Sequential (None, 32)           4768        combines_inputs[0][0]            \n",
      "__________________________________________________________________________________________________\n",
      "logits (Dense)                  (None, 1)            33          feedforward_network[0][0]        \n",
      "==================================================================================================\n",
      "Total params: 5,105\n",
      "Trainable params: 5,105\n",
      "Non-trainable params: 0\n",
      "__________________________________________________________________________________________________\n"
     ]
    }
   ],
   "source": [
    "classifier = model.create_binary_classifier(tft_output, hyperparams)\n",
    "classifier.summary()"
   ]
  },
  {
   "cell_type": "code",
   "execution_count": 149,
   "id": "d8d954da",
   "metadata": {},
   "outputs": [
    {
     "data": {
      "image/png": "[encoded data removed]",
      "text/plain": [
       "<IPython.core.display.Image object>"
      ]
     },
     "execution_count": 149,
     "metadata": {},
     "output_type": "execute_result"
    }
   ],
   "source": [
    "keras.utils.plot_model(\n",
    "    classifier, \n",
    "    show_shapes=True, \n",
    "    #show_dtype=True\n",
    ")"
   ]
  },
  {
   "cell_type": "code",
   "execution_count": 150,
   "id": "34c236a0",
   "metadata": {},
   "outputs": [
    {
     "data": {
      "text/plain": [
       "<tf.Tensor: shape=(3, 1), dtype=float32, numpy=\n",
       "array([[-0.17324236],\n",
       "       [-0.3298479 ],\n",
       "       [-0.35724136]], dtype=float32)>"
      ]
     },
     "execution_count": 150,
     "metadata": {},
     "output_type": "execute_result"
    }
   ],
   "source": [
    "classifier(input_features)"
   ]
  },
  {
   "cell_type": "markdown",
   "id": "aded0e8f",
   "metadata": {},
   "source": [
    "### Train the model locally."
   ]
  },
  {
   "cell_type": "code",
   "execution_count": 151,
   "id": "95bde50c",
   "metadata": {},
   "outputs": [],
   "source": [
    "logging.getLogger().setLevel(logging.INFO)\n",
    "\n",
    "hyperparams[\"learning_rate\"] = 0.001\n",
    "hyperparams[\"num_epochs\"] = 5\n",
    "hyperparams[\"batch_size\"] = 512\n",
    "\n",
    "vertex_ai.log_params(hyperparams)"
   ]
  },
  {
   "cell_type": "code",
   "execution_count": null,
   "id": "a074edb4",
   "metadata": {},
   "outputs": [],
   "source": [
    "#TRANSFORM_ARTIFACTS_DIR=os.path.join(TRANSFORM_ARTIFACTS_DIR, 'artifacts')"
   ]
  },
  {
   "cell_type": "code",
   "execution_count": 152,
   "id": "ba98c781",
   "metadata": {},
   "outputs": [
    {
     "name": "stdout",
     "output_type": "stream",
     "text": [
      "gs://aiops-industrialization-bucket-ravi/chicago-taxi-tips/experiments/chicago-taxi-tips-classifier-v01-experiment/run-local-20210830101722/transform_artifacts\n"
     ]
    }
   ],
   "source": [
    "print(TRANSFORM_ARTIFACTS_DIR)"
   ]
  },
  {
   "cell_type": "code",
   "execution_count": 153,
   "id": "523d27bb",
   "metadata": {},
   "outputs": [
    {
     "name": "stdout",
     "output_type": "stream",
     "text": [
      "INFO:root:Loading tft output from gs://aiops-industrialization-bucket-ravi/chicago-taxi-tips/experiments/chicago-taxi-tips-classifier-v01-experiment/run-local-20210830070546/transform_artifacts\n"
     ]
    },
    {
     "name": "stderr",
     "output_type": "stream",
     "text": [
      "2021-08-30 10:23:44.163609: I tensorflow/core/profiler/lib/profiler_session.cc:164] Profiler session started.\n"
     ]
    },
    {
     "name": "stdout",
     "output_type": "stream",
     "text": [
      "INFO:root:Model training started...\n",
      "Epoch 1/5\n",
      "      1/Unknown - 0s 127us/step - loss: 0.6526 - accuracy: 0.9121"
     ]
    },
    {
     "name": "stderr",
     "output_type": "stream",
     "text": [
      "2021-08-30 10:23:49.702874: I tensorflow/core/profiler/lib/profiler_session.cc:164] Profiler session started.\n"
     ]
    },
    {
     "name": "stdout",
     "output_type": "stream",
     "text": [
      "      2/Unknown - 5s 2s/step - loss: 0.6458 - accuracy: 0.8936   WARNING:tensorflow:Callbacks method `on_train_batch_end` is slow compared to the batch time (batch time: 0.0147s vs `on_train_batch_end` time: 4.5430s). Check your callbacks.\n",
      "WARNING:tensorflow:Callbacks method `on_train_batch_end` is slow compared to the batch time (batch time: 0.0147s vs `on_train_batch_end` time: 4.5430s). Check your callbacks.\n"
     ]
    },
    {
     "name": "stderr",
     "output_type": "stream",
     "text": [
      "2021-08-30 10:23:52.217236: I tensorflow/core/profiler/rpc/client/save_profile.cc:176] Creating directory: gs://aiops-industrialization-bucket-ravi/chicago-taxi-tips/experiments/chicago-taxi-tips-classifier-v01-experiment/run-local-20210830101722/logs/train/plugins/profile/2021_08_30_10_23_50\n",
      "2021-08-30 10:23:52.444503: I tensorflow/core/profiler/rpc/client/save_profile.cc:182] Dumped gzipped tool data for trace.json.gz to gs://aiops-industrialization-bucket-ravi/chicago-taxi-tips/experiments/chicago-taxi-tips-classifier-v01-experiment/run-local-20210830101722/logs/train/plugins/profile/2021_08_30_10_23_50/ravi-tensorflow-2-3-20210824-140339.trace.json.gz\n",
      "2021-08-30 10:23:52.655789: I tensorflow/core/profiler/rpc/client/save_profile.cc:176] Creating directory: gs://aiops-industrialization-bucket-ravi/chicago-taxi-tips/experiments/chicago-taxi-tips-classifier-v01-experiment/run-local-20210830101722/logs/train/plugins/profile/2021_08_30_10_23_50\n",
      "2021-08-30 10:23:52.901620: I tensorflow/core/profiler/rpc/client/save_profile.cc:182] Dumped gzipped tool data for memory_profile.json.gz to gs://aiops-industrialization-bucket-ravi/chicago-taxi-tips/experiments/chicago-taxi-tips-classifier-v01-experiment/run-local-20210830101722/logs/train/plugins/profile/2021_08_30_10_23_50/ravi-tensorflow-2-3-20210824-140339.memory_profile.json.gz\n",
      "2021-08-30 10:23:54.258631: I tensorflow/python/profiler/internal/profiler_wrapper.cc:111] Creating directory: gs://aiops-industrialization-bucket-ravi/chicago-taxi-tips/experiments/chicago-taxi-tips-classifier-v01-experiment/run-local-20210830101722/logs/train/plugins/profile/2021_08_30_10_23_50Dumped tool data for xplane.pb to gs://aiops-industrialization-bucket-ravi/chicago-taxi-tips/experiments/chicago-taxi-tips-classifier-v01-experiment/run-local-20210830101722/logs/train/plugins/profile/2021_08_30_10_23_50/ravi-tensorflow-2-3-20210824-140339.xplane.pb\n",
      "Dumped tool data for overview_page.pb to gs://aiops-industrialization-bucket-ravi/chicago-taxi-tips/experiments/chicago-taxi-tips-classifier-v01-experiment/run-local-20210830101722/logs/train/plugins/profile/2021_08_30_10_23_50/ravi-tensorflow-2-3-20210824-140339.overview_page.pb\n",
      "Dumped tool data for input_pipeline.pb to gs://aiops-industrialization-bucket-ravi/chicago-taxi-tips/experiments/chicago-taxi-tips-classifier-v01-experiment/run-local-20210830101722/logs/train/plugins/profile/2021_08_30_10_23_50/ravi-tensorflow-2-3-20210824-140339.input_pipeline.pb\n",
      "Dumped tool data for tensorflow_stats.pb to gs://aiops-industrialization-bucket-ravi/chicago-taxi-tips/experiments/chicago-taxi-tips-classifier-v01-experiment/run-local-20210830101722/logs/train/plugins/profile/2021_08_30_10_23_50/ravi-tensorflow-2-3-20210824-140339.tensorflow_stats.pb\n",
      "Dumped tool data for kernel_stats.pb to gs://aiops-industrialization-bucket-ravi/chicago-taxi-tips/experiments/chicago-taxi-tips-classifier-v01-experiment/run-local-20210830101722/logs/train/plugins/profile/2021_08_30_10_23_50/ravi-tensorflow-2-3-20210824-140339.kernel_stats.pb\n",
      "\n"
     ]
    },
    {
     "name": "stdout",
     "output_type": "stream",
     "text": [
      "8/8 [==============================] - 7s 847ms/step - loss: 0.6116 - accuracy: 0.8882 - val_loss: 0.5548 - val_accuracy: 0.8926\n",
      "Epoch 2/5\n",
      "8/8 [==============================] - 1s 122ms/step - loss: 0.5225 - accuracy: 0.8872 - val_loss: 0.4728 - val_accuracy: 0.8945\n",
      "Epoch 3/5\n",
      "8/8 [==============================] - 1s 130ms/step - loss: 0.4380 - accuracy: 0.8877 - val_loss: 0.3918 - val_accuracy: 0.8945\n",
      "Epoch 4/5\n",
      "8/8 [==============================] - 1s 107ms/step - loss: 0.3616 - accuracy: 0.8875 - val_loss: 0.3299 - val_accuracy: 0.8789\n",
      "Epoch 5/5\n",
      "8/8 [==============================] - 1s 125ms/step - loss: 0.2984 - accuracy: 0.8875 - val_loss: 0.2645 - val_accuracy: 0.8926\n",
      "INFO:root:Model training completed.\n"
     ]
    }
   ],
   "source": [
    "classifier = trainer.train(\n",
    "    train_data_dir=train_data_file_pattern,\n",
    "    eval_data_dir=eval_data_file_pattern,\n",
    "    #tft_output_dir=TRANSFORM_ARTEFACTS_DIR,\n",
    "    tft_output_dir=\"gs://aiops-industrialization-bucket-ravi/chicago-taxi-tips/experiments/chicago-taxi-tips-classifier-v01-experiment/run-local-20210830070546/transform_artifacts\",\n",
    "    hyperparams=hyperparams,\n",
    "    log_dir=LOG_DIR,\n",
    ")"
   ]
  },
  {
   "cell_type": "code",
   "execution_count": 154,
   "id": "3fa1e039",
   "metadata": {},
   "outputs": [
    {
     "name": "stdout",
     "output_type": "stream",
     "text": [
      "INFO:root:Loading raw schema from src/raw_schema/schema.pbtxt\n",
      "INFO:root:Loading tft output from gs://aiops-industrialization-bucket-ravi/chicago-taxi-tips/experiments/chicago-taxi-tips-classifier-v01-experiment/run-local-20210830070546/transform_artifacts\n",
      "INFO:root:Model evaluation started...\n",
      "1/1 [==============================] - 0s 7ms/step - loss: 0.2779 - accuracy: 0.8867\n",
      "INFO:root:Model evaluation completed.\n"
     ]
    }
   ],
   "source": [
    "val_loss, val_accuracy = trainer.evaluate(\n",
    "    model=classifier,\n",
    "    data_dir=eval_data_file_pattern,\n",
    "    raw_schema_location=RAW_SCHEMA_LOCATION,\n",
    "    #tft_output_dir=TRANSFORM_ARTEFACTS_DIR,\n",
    "    tft_output_dir=\"gs://aiops-industrialization-bucket-ravi/chicago-taxi-tips/experiments/chicago-taxi-tips-classifier-v01-experiment/run-local-20210830070546/transform_artifacts\",\n",
    "    hyperparams=hyperparams,\n",
    ")"
   ]
  },
  {
   "cell_type": "code",
   "execution_count": 155,
   "id": "5a0d6651",
   "metadata": {},
   "outputs": [],
   "source": [
    "vertex_ai.log_metrics(\n",
    "    {\"val_loss\": val_loss, \"val_accuracy\": val_accuracy})"
   ]
  },
  {
   "cell_type": "code",
   "execution_count": 156,
   "id": "70c334dd",
   "metadata": {},
   "outputs": [
    {
     "name": "stdout",
     "output_type": "stream",
     "text": [
      "INFO:tensorboard:Creating experiment\n",
      "I0830 10:24:50.220969 139814179915584 uploader.py:262] Creating experiment\n",
      "INFO:tensorboard:Creating experiment failed. Retrieving experiment.\n",
      "I0830 10:24:50.495739 139814179915584 uploader.py:275] Creating experiment failed. Retrieving experiment.\n",
      "View your Tensorboard at https://us-central1.tensorboard.googleusercontent.com/experiment/projects+175728527123+locations+us-central1+tensorboards+615198745973227520+experiments+chicago-taxi-tips-classifier-v01-experiment\n",
      "INFO:tensorboard:Starting an upload cycle\n",
      "I0830 10:24:50.731917 139814179915584 uploader.py:326] Starting an upload cycle\n",
      "INFO:tensorboard:Starting logdir traversal of gs://aiops-industrialization-bucket-ravi/chicago-taxi-tips/experiments/chicago-taxi-tips-classifier-v01-experiment/run-local-20210830101722/logs\n",
      "I0830 10:24:50.732112 139814179915584 logdir_loader.py:68] Starting logdir traversal of gs://aiops-industrialization-bucket-ravi/chicago-taxi-tips/experiments/chicago-taxi-tips-classifier-v01-experiment/run-local-20210830101722/logs\n",
      "INFO:tensorboard:GetLogdirSubdirectories: Starting to list directories via glob-ing.\n",
      "I0830 10:24:50.904901 139814179915584 io_wrapper.py:220] GetLogdirSubdirectories: Starting to list directories via glob-ing.\n",
      "INFO:tensorboard:GlobAndListFiles: Starting to glob level 0\n",
      "I0830 10:24:50.905221 139814179915584 io_wrapper.py:137] GlobAndListFiles: Starting to glob level 0\n",
      "INFO:tensorboard:GlobAndListFiles: 2 files glob-ed at level 0\n",
      "I0830 10:24:50.980133 139814179915584 io_wrapper.py:140] GlobAndListFiles: 2 files glob-ed at level 0\n",
      "INFO:tensorboard:GlobAndListFiles: Starting to glob level 1\n",
      "I0830 10:24:50.980423 139814179915584 io_wrapper.py:137] GlobAndListFiles: Starting to glob level 1\n",
      "INFO:tensorboard:GlobAndListFiles: 6 files glob-ed at level 1\n",
      "I0830 10:24:51.048906 139814179915584 io_wrapper.py:140] GlobAndListFiles: 6 files glob-ed at level 1\n",
      "INFO:tensorboard:- Adding run for relative directory train\n",
      "I0830 10:24:51.049232 139814179915584 logdir_loader.py:74] - Adding run for relative directory train\n",
      "INFO:tensorboard:- Adding run for relative directory validation\n",
      "I0830 10:24:51.049412 139814179915584 logdir_loader.py:74] - Adding run for relative directory validation\n",
      "INFO:tensorboard:GlobAndListFiles: Starting to glob level 2\n",
      "I0830 10:24:51.049509 139814179915584 io_wrapper.py:137] GlobAndListFiles: Starting to glob level 2\n",
      "INFO:tensorboard:GlobAndListFiles: 2 files glob-ed at level 2\n",
      "I0830 10:24:51.130914 139814179915584 io_wrapper.py:140] GlobAndListFiles: 2 files glob-ed at level 2\n",
      "INFO:tensorboard:GlobAndListFiles: Starting to glob level 3\n",
      "I0830 10:24:51.131193 139814179915584 io_wrapper.py:137] GlobAndListFiles: Starting to glob level 3\n",
      "INFO:tensorboard:GlobAndListFiles: 2 files glob-ed at level 3\n",
      "I0830 10:24:51.201636 139814179915584 io_wrapper.py:140] GlobAndListFiles: 2 files glob-ed at level 3\n",
      "INFO:tensorboard:GlobAndListFiles: Starting to glob level 4\n",
      "I0830 10:24:51.201914 139814179915584 io_wrapper.py:137] GlobAndListFiles: Starting to glob level 4\n",
      "INFO:tensorboard:GlobAndListFiles: 8 files glob-ed at level 4\n",
      "I0830 10:24:51.271814 139814179915584 io_wrapper.py:140] GlobAndListFiles: 8 files glob-ed at level 4\n",
      "INFO:tensorboard:GlobAndListFiles: Starting to glob level 5\n",
      "I0830 10:24:51.272142 139814179915584 io_wrapper.py:137] GlobAndListFiles: Starting to glob level 5\n",
      "INFO:tensorboard:GlobAndListFiles: 0 files glob-ed at level 5\n",
      "I0830 10:24:51.341690 139814179915584 io_wrapper.py:140] GlobAndListFiles: 0 files glob-ed at level 5\n",
      "INFO:tensorboard:Ending logdir traversal of gs://aiops-industrialization-bucket-ravi/chicago-taxi-tips/experiments/chicago-taxi-tips-classifier-v01-experiment/run-local-20210830101722/logs\n",
      "I0830 10:24:51.341949 139814179915584 logdir_loader.py:83] Ending logdir traversal of gs://aiops-industrialization-bucket-ravi/chicago-taxi-tips/experiments/chicago-taxi-tips-classifier-v01-experiment/run-local-20210830101722/logs\n",
      "INFO:tensorboard:Logdir sync took 0.610 seconds\n",
      "I0830 10:24:51.342060 139814179915584 uploader.py:331] Logdir sync took 0.610 seconds\n",
      "INFO:tensorboard:Creating event loading generators for 2 runs\n",
      "I0830 10:24:51.342348 139814179915584 logdir_loader.py:97] Creating event loading generators for 2 runs\n",
      "\u001b[1m[2021-08-30T10:24:51]\u001b[0m Uploader started.\n",
      "INFO:tensorboard:Loading data from path gs://aiops-industrialization-bucket-ravi/chicago-taxi-tips/experiments/chicago-taxi-tips-classifier-v01-experiment/run-local-20210830101722/logs/train/events.out.tfevents.1630319027.ravi-tensorflow-2-3-20210824-140339.3517.17022.v2\n",
      "I0830 10:24:51.481712 139814179915584 directory_loader.py:131] Loading data from path gs://aiops-industrialization-bucket-ravi/chicago-taxi-tips/experiments/chicago-taxi-tips-classifier-v01-experiment/run-local-20210830101722/logs/train/events.out.tfevents.1630319027.ravi-tensorflow-2-3-20210824-140339.3517.17022.v2\n",
      "INFO:tensorboard:Trying request of 83 bytes..\u001b[0m\n",
      "I0830 10:24:52.996841 139814179915584 uploader.py:1358] Trying request of 83 bytes\n",
      "INFO:tensorboard:Upload of (83 bytes) took 0.228 seconds\n",
      "I0830 10:24:53.224678 139814179915584 uploader.py:1362] Upload of (83 bytes) took 0.228 seconds\n",
      "INFO:tensorboard:Skipping time series ('train', 'keras') with unsupported plugin name 'graph_keras_model'\n",
      "I0830 10:24:53.225082 139814179915584 uploader.py:490] Skipping time series ('train', 'keras') with unsupported plugin name 'graph_keras_model'\n",
      "INFO:tensorboard:Skipping time series ('train', 'batch_2') with unsupported plugin name 'graph_run_metadata_graph'\n",
      "I0830 10:24:53.226959 139814179915584 uploader.py:490] Skipping time series ('train', 'batch_2') with unsupported plugin name 'graph_run_metadata_graph'\n",
      "INFO:tensorboard:Loading data from path gs://aiops-industrialization-bucket-ravi/chicago-taxi-tips/experiments/chicago-taxi-tips-classifier-v01-experiment/run-local-20210830101722/logs/train/events.out.tfevents.1630319031.ravi-tensorflow-2-3-20210824-140339.profile-empty\n",
      "I0830 10:24:54.095520 139814179915584 directory_loader.py:131] Loading data from path gs://aiops-industrialization-bucket-ravi/chicago-taxi-tips/experiments/chicago-taxi-tips-classifier-v01-experiment/run-local-20210830101722/logs/train/events.out.tfevents.1630319031.ravi-tensorflow-2-3-20210824-140339.profile-empty\n",
      "INFO:tensorboard:Loading data from path gs://aiops-industrialization-bucket-ravi/chicago-taxi-tips/experiments/chicago-taxi-tips-classifier-v01-experiment/run-local-20210830101722/logs/validation/events.out.tfevents.1630319035.ravi-tensorflow-2-3-20210824-140339.3517.18446.v2\n",
      "I0830 10:24:54.425529 139814179915584 directory_loader.py:131] Loading data from path gs://aiops-industrialization-bucket-ravi/chicago-taxi-tips/experiments/chicago-taxi-tips-classifier-v01-experiment/run-local-20210830101722/logs/validation/events.out.tfevents.1630319035.ravi-tensorflow-2-3-20210824-140339.3517.18446.v2\n",
      "INFO:tensorboard:Trying request of 512 bytes\n",
      "I0830 10:24:56.218686 139814179915584 uploader.py:1358] Trying request of 512 bytes\n",
      "INFO:tensorboard:Upload of (512 bytes) took 0.242 seconds\n",
      "I0830 10:24:56.460941 139814179915584 uploader.py:1362] Upload of (512 bytes) took 0.242 seconds\n",
      "INFO:tensorboard:Trying request of 510 bytes\n",
      "I0830 10:24:56.461460 139814179915584 uploader.py:1358] Trying request of 510 bytes\n",
      "INFO:tensorboard:Upload of (510 bytes) took 0.231 seconds\n",
      "I0830 10:24:56.692792 139814179915584 uploader.py:1362] Upload of (510 bytes) took 0.231 seconds\n",
      "\u001b[1m[2021-08-30T10:24:56]\u001b[0m Total uploaded: 20 scalars, 0 tensors, 1 binary objects (87.1 kB)\n",
      "\u001b[2K\u001b[33mListening for new data in logdir...\u001b[0m\r"
     ]
    }
   ],
   "source": [
    "!tb-gcp-uploader --tensorboard_resource_name={tensorboard_resource_name} \\\n",
    "  --logdir={LOG_DIR} \\\n",
    "  --experiment_name={EXPERIMENT_NAME} --one_shot=True"
   ]
  },
  {
   "cell_type": "markdown",
   "id": "c719e696",
   "metadata": {},
   "source": [
    "### Export the trained model"
   ]
  },
  {
   "cell_type": "code",
   "execution_count": 157,
   "id": "49fa2a85",
   "metadata": {},
   "outputs": [
    {
     "name": "stdout",
     "output_type": "stream",
     "text": [
      "INFO:tensorflow:Saver not created because there are no variables in the graph to restore\n",
      "INFO:tensorflow:Saver not created because there are no variables in the graph to restore\n",
      "INFO:root:Model export started...\n",
      "INFO:tensorflow:Assets written to: gs://aiops-industrialization-bucket-ravi/chicago-taxi-tips/experiments/chicago-taxi-tips-classifier-v01-experiment/run-local-20210830101722/model/assets\n",
      "INFO:tensorflow:Assets written to: gs://aiops-industrialization-bucket-ravi/chicago-taxi-tips/experiments/chicago-taxi-tips-classifier-v01-experiment/run-local-20210830101722/model/assets\n",
      "INFO:root:Model export completed.\n"
     ]
    }
   ],
   "source": [
    "saved_model_dir = os.path.join(EXPORT_DIR)\n",
    "\n",
    "exporter.export_serving_model(\n",
    "    classifier=classifier,\n",
    "    serving_model_dir=saved_model_dir,\n",
    "    raw_schema_location=RAW_SCHEMA_LOCATION,\n",
    "    tft_output_dir=\"gs://aiops-industrialization-bucket-ravi/chicago-taxi-tips/experiments/chicago-taxi-tips-classifier-v01-experiment/run-local-20210830070546/transform_artifacts\",\n",
    ")"
   ]
  },
  {
   "cell_type": "markdown",
   "id": "3868e59c",
   "metadata": {},
   "source": [
    "### Inspect model serving signatures"
   ]
  },
  {
   "cell_type": "code",
   "execution_count": 158,
   "id": "65fb092d",
   "metadata": {},
   "outputs": [
    {
     "name": "stdout",
     "output_type": "stream",
     "text": [
      "The given SavedModel SignatureDef contains the following input(s):\n",
      "  inputs['examples'] tensor_info:\n",
      "      dtype: DT_STRING\n",
      "      shape: (-1)\n",
      "      name: serving_tf_example_examples:0\n",
      "The given SavedModel SignatureDef contains the following output(s):\n",
      "  outputs['probabilities'] tensor_info:\n",
      "      dtype: DT_FLOAT\n",
      "      shape: (-1, 1)\n",
      "      name: StatefulPartitionedCall_2:0\n",
      "Method name is: tensorflow/serving/predict\n"
     ]
    }
   ],
   "source": [
    "!saved_model_cli show --dir={saved_model_dir} --tag_set=serve --signature_def=serving_tf_example"
   ]
  },
  {
   "cell_type": "code",
   "execution_count": 159,
   "id": "04d3e401",
   "metadata": {},
   "outputs": [
    {
     "name": "stdout",
     "output_type": "stream",
     "text": [
      "The given SavedModel SignatureDef contains the following input(s):\n",
      "  inputs['dropoff_grid'] tensor_info:\n",
      "      dtype: DT_STRING\n",
      "      shape: (-1, 1)\n",
      "      name: serving_default_dropoff_grid:0\n",
      "  inputs['euclidean'] tensor_info:\n",
      "      dtype: DT_FLOAT\n",
      "      shape: (-1, 1)\n",
      "      name: serving_default_euclidean:0\n",
      "  inputs['loc_cross'] tensor_info:\n",
      "      dtype: DT_STRING\n",
      "      shape: (-1, 1)\n",
      "      name: serving_default_loc_cross:0\n",
      "  inputs['payment_type'] tensor_info:\n",
      "      dtype: DT_STRING\n",
      "      shape: (-1, 1)\n",
      "      name: serving_default_payment_type:0\n",
      "  inputs['pickup_grid'] tensor_info:\n",
      "      dtype: DT_STRING\n",
      "      shape: (-1, 1)\n",
      "      name: serving_default_pickup_grid:0\n",
      "  inputs['trip_day'] tensor_info:\n",
      "      dtype: DT_INT64\n",
      "      shape: (-1, 1)\n",
      "      name: serving_default_trip_day:0\n",
      "  inputs['trip_day_of_week'] tensor_info:\n",
      "      dtype: DT_INT64\n",
      "      shape: (-1, 1)\n",
      "      name: serving_default_trip_day_of_week:0\n",
      "  inputs['trip_hour'] tensor_info:\n",
      "      dtype: DT_INT64\n",
      "      shape: (-1, 1)\n",
      "      name: serving_default_trip_hour:0\n",
      "  inputs['trip_miles'] tensor_info:\n",
      "      dtype: DT_FLOAT\n",
      "      shape: (-1, 1)\n",
      "      name: serving_default_trip_miles:0\n",
      "  inputs['trip_month'] tensor_info:\n",
      "      dtype: DT_INT64\n",
      "      shape: (-1, 1)\n",
      "      name: serving_default_trip_month:0\n",
      "  inputs['trip_seconds'] tensor_info:\n",
      "      dtype: DT_INT64\n",
      "      shape: (-1, 1)\n",
      "      name: serving_default_trip_seconds:0\n",
      "The given SavedModel SignatureDef contains the following output(s):\n",
      "  outputs['classes'] tensor_info:\n",
      "      dtype: DT_STRING\n",
      "      shape: (-1, 2)\n",
      "      name: StatefulPartitionedCall_1:0\n",
      "  outputs['scores'] tensor_info:\n",
      "      dtype: DT_FLOAT\n",
      "      shape: (-1, 2)\n",
      "      name: StatefulPartitionedCall_1:1\n",
      "Method name is: tensorflow/serving/predict\n"
     ]
    }
   ],
   "source": [
    "!saved_model_cli show --dir={saved_model_dir} --tag_set=serve --signature_def=serving_default"
   ]
  },
  {
   "cell_type": "markdown",
   "id": "140457e0",
   "metadata": {},
   "source": [
    "### Test the exported SavedModel"
   ]
  },
  {
   "cell_type": "code",
   "execution_count": 160,
   "id": "7f231d42",
   "metadata": {},
   "outputs": [],
   "source": [
    "serving_model = tf.saved_model.load(saved_model_dir)"
   ]
  },
  {
   "cell_type": "code",
   "execution_count": 161,
   "id": "73c36aca",
   "metadata": {},
   "outputs": [
    {
     "name": "stdout",
     "output_type": "stream",
     "text": [
      "probabilities: [[0.11199063]\n",
      " [0.30758467]\n",
      " [0.19021818]]\n"
     ]
    }
   ],
   "source": [
    "file_names = tf.data.TFRecordDataset.list_files(EXPORTED_DATA_PREFIX + '/data-*.tfrecord')\n",
    "for batch in tf.data.TFRecordDataset(file_names).batch(3).take(1):\n",
    "    predictions = serving_model.signatures['serving_tf_example'](batch)\n",
    "    for key in predictions:\n",
    "        print(f\"{key}: {predictions[key]}\")"
   ]
  },
  {
   "cell_type": "code",
   "execution_count": 162,
   "id": "f133da47",
   "metadata": {},
   "outputs": [],
   "source": [
    "import tensorflow_data_validation as tfdv\n",
    "from tensorflow_transform.tf_metadata import schema_utils\n",
    "\n",
    "raw_schema = tfdv.load_schema_text(RAW_SCHEMA_LOCATION)\n",
    "raw_feature_spec = schema_utils.schema_as_feature_spec(raw_schema).feature_spec"
   ]
  },
  {
   "cell_type": "code",
   "execution_count": 163,
   "id": "62244468",
   "metadata": {},
   "outputs": [],
   "source": [
    "instance = {\n",
    "    \"dropoff_grid\": \"POINT(-87.6 41.9)\",\n",
    "    \"euclidean\": 2064.2696,\n",
    "    \"loc_cross\": \"\",\n",
    "    \"payment_type\": \"Credit Card\",\n",
    "    \"pickup_grid\": \"POINT(-87.6 41.9)\",\n",
    "    \"trip_miles\": 1.37,\n",
    "    \"trip_day\": 12,\n",
    "    \"trip_hour\": 6,\n",
    "    \"trip_month\": 2,\n",
    "    \"trip_day_of_week\": 4,\n",
    "    \"trip_seconds\": 555,\n",
    "}\n",
    "\n",
    "for feature_name in instance:\n",
    "    dtype = raw_feature_spec[feature_name].dtype\n",
    "    instance[feature_name] = tf.constant([[instance[feature_name]]], dtype)"
   ]
  },
  {
   "cell_type": "code",
   "execution_count": 164,
   "id": "415e8e85",
   "metadata": {},
   "outputs": [
    {
     "name": "stdout",
     "output_type": "stream",
     "text": [
      "classes: [[b'tip<20%' b'tip>=20%']]\n",
      "scores: [[0.29920864 0.70079136]]\n"
     ]
    }
   ],
   "source": [
    "predictions = serving_model.signatures['serving_default'](**instance)\n",
    "for key in predictions:\n",
    "    print(f\"{key}: {predictions[key].numpy()}\")"
   ]
  },
  {
   "cell_type": "markdown",
   "id": "2f8bb7dc",
   "metadata": {},
   "source": [
    "## Start a new Vertex AI experiment run"
   ]
  },
  {
   "cell_type": "code",
   "execution_count": 165,
   "id": "eef4bb6f",
   "metadata": {},
   "outputs": [
    {
     "name": "stdout",
     "output_type": "stream",
     "text": [
      "INFO:root:Resource chicago-taxi-tips-classifier-v01-experiment-run-gcp-20210830103039 not found.\n",
      "INFO:root:Creating Resource chicago-taxi-tips-classifier-v01-experiment-run-gcp-20210830103039\n",
      "INFO:root:Resource chicago-taxi-tips-classifier-v01-experiment-run-gcp-20210830103039-metrics not found.\n",
      "INFO:root:Creating Resource chicago-taxi-tips-classifier-v01-experiment-run-gcp-20210830103039-metrics\n",
      "Experiment run directory: gs://aiops-industrialization-bucket-ravi/chicago-taxi-tips/experiments/chicago-taxi-tips-classifier-v01-experiment/run-gcp-20210830103039\n"
     ]
    }
   ],
   "source": [
    "vertex_ai.init(\n",
    "    project=PROJECT,\n",
    "    staging_bucket=BUCKET,\n",
    "    experiment=EXPERIMENT_NAME)\n",
    "\n",
    "run_id = f\"run-gcp-{datetime.now().strftime('%Y%m%d%H%M%S')}\"\n",
    "vertex_ai.start_run(run_id)\n",
    "\n",
    "EXPERIMENT_RUN_DIR = os.path.join(EXPERIMENT_ARTIFACTS_DIR, EXPERIMENT_NAME, run_id)\n",
    "print(\"Experiment run directory:\", EXPERIMENT_RUN_DIR)"
   ]
  },
  {
   "cell_type": "markdown",
   "id": "a6fd2583",
   "metadata": {},
   "source": [
    "## 3. Submit a Data Processing Job to Dataflow"
   ]
  },
  {
   "cell_type": "code",
   "execution_count": 166,
   "id": "bdbc40a3",
   "metadata": {},
   "outputs": [],
   "source": [
    "EXPORTED_DATA_PREFIX = os.path.join(EXPERIMENT_RUN_DIR, 'exported_data')\n",
    "TRANSFORMED_DATA_PREFIX = os.path.join(EXPERIMENT_RUN_DIR, 'transformed_data')\n",
    "TRANSFORM_ARTIFACTS_DIR = os.path.join(EXPERIMENT_RUN_DIR, 'transform_artifacts')"
   ]
  },
  {
   "cell_type": "code",
   "execution_count": 167,
   "id": "f5936372",
   "metadata": {},
   "outputs": [
    {
     "name": "stdout",
     "output_type": "stream",
     "text": [
      "gs://aiops-industrialization-bucket-ravi/chicago-taxi-tips/experiments/chicago-taxi-tips-classifier-v01-experiment/run-gcp-20210830103039/transform_artifacts\n"
     ]
    }
   ],
   "source": [
    "print(TRANSFORM_ARTIFACTS_DIR)"
   ]
  },
  {
   "cell_type": "code",
   "execution_count": 168,
   "id": "9ef3b425",
   "metadata": {},
   "outputs": [],
   "source": [
    "ML_USE = 'UNASSIGNED'\n",
    "LIMIT = 1000000\n",
    "raw_data_query = datasource_utils.get_training_source_query(\n",
    "    project=PROJECT, \n",
    "    region=REGION, \n",
    "    dataset_display_name=DATASET_DISPLAY_NAME, \n",
    "    ml_use=ML_USE, \n",
    "    limit=LIMIT\n",
    ")\n",
    "\n",
    "args = {\n",
    "    'runner': 'DataflowRunner',\n",
    "    'raw_data_query': raw_data_query,\n",
    "    'exported_data_prefix': EXPORTED_DATA_PREFIX,\n",
    "    'transformed_data_prefix': TRANSFORMED_DATA_PREFIX,\n",
    "    'transform_artifact_dir': TRANSFORM_ARTIFACTS_DIR,\n",
    "    'write_raw_data': False,\n",
    "    'temporary_dir': os.path.join(WORKSPACE, 'tmp'),\n",
    "    'gcs_location': os.path.join(WORKSPACE, 'bq_tmp'),\n",
    "    'project': PROJECT,\n",
    "    'region': REGION,\n",
    "    'setup_file': './setup.py'\n",
    "}"
   ]
  },
  {
   "cell_type": "code",
   "execution_count": 169,
   "id": "c438872a",
   "metadata": {},
   "outputs": [],
   "source": [
    "vertex_ai.log_params(args)"
   ]
  },
  {
   "cell_type": "code",
   "execution_count": null,
   "id": "1e585777",
   "metadata": {},
   "outputs": [],
   "source": []
  },
  {
   "cell_type": "code",
   "execution_count": 170,
   "id": "2b879442",
   "metadata": {},
   "outputs": [
    {
     "name": "stdout",
     "output_type": "stream",
     "text": [
      "Data preprocessing started...\n",
      "WARNING:tensorflow:Tensorflow version (2.3.4) found. Note that Tensorflow Transform support for TF 2.0 is currently in beta, and features such as tf.function may not work as intended. \n",
      "WARNING:tensorflow:Tensorflow version (2.3.4) found. Note that Tensorflow Transform support for TF 2.0 is currently in beta, and features such as tf.function may not work as intended. \n",
      "WARNING:tensorflow:Tensorflow version (2.3.4) found. Note that Tensorflow Transform support for TF 2.0 is currently in beta, and features such as tf.function may not work as intended. \n",
      "WARNING:tensorflow:Tensorflow version (2.3.4) found. Note that Tensorflow Transform support for TF 2.0 is currently in beta, and features such as tf.function may not work as intended. \n",
      "WARNING:tensorflow:You are passing instance dicts and DatasetMetadata to TFT which will not provide optimal performance. Consider following the TFT guide to upgrade to the TFXIO format (Apache Arrow RecordBatch).\n",
      "WARNING:tensorflow:You are passing instance dicts and DatasetMetadata to TFT which will not provide optimal performance. Consider following the TFT guide to upgrade to the TFXIO format (Apache Arrow RecordBatch).\n"
     ]
    },
    {
     "name": "stderr",
     "output_type": "stream",
     "text": [
      "/opt/conda/lib/python3.7/site-packages/apache_beam/io/gcp/bigquery.py:1881: BeamDeprecationWarning: options is deprecated since First stable release. References to <pipeline>.options will not be supported\n",
      "  temp_location = pcoll.pipeline.options.view_as(\n"
     ]
    },
    {
     "name": "stdout",
     "output_type": "stream",
     "text": [
      "INFO:tensorflow:Assets added to graph.\n",
      "INFO:tensorflow:Assets added to graph.\n",
      "INFO:tensorflow:No assets to write.\n",
      "INFO:tensorflow:No assets to write.\n",
      "WARNING:tensorflow:Issue encountered when serializing tft_mapper_use.\n",
      "Type is unsupported, or the types of the items don't match field type in CollectionDef. Note this is a warning and probably safe to ignore.\n",
      "'Counter' object has no attribute 'name'\n",
      "WARNING:tensorflow:Issue encountered when serializing tft_mapper_use.\n",
      "Type is unsupported, or the types of the items don't match field type in CollectionDef. Note this is a warning and probably safe to ignore.\n",
      "'Counter' object has no attribute 'name'\n",
      "INFO:tensorflow:SavedModel written to: gs://aiops-industrialization-bucket-ravi/chicago-taxi-tips/tmp/tftransform_tmp/4100ce807b144aad917cb28c59e5627e/saved_model.pb\n",
      "INFO:tensorflow:SavedModel written to: gs://aiops-industrialization-bucket-ravi/chicago-taxi-tips/tmp/tftransform_tmp/4100ce807b144aad917cb28c59e5627e/saved_model.pb\n",
      "INFO:tensorflow:Assets added to graph.\n",
      "INFO:tensorflow:Assets added to graph.\n",
      "INFO:tensorflow:No assets to write.\n",
      "INFO:tensorflow:No assets to write.\n",
      "WARNING:tensorflow:Issue encountered when serializing tft_mapper_use.\n",
      "Type is unsupported, or the types of the items don't match field type in CollectionDef. Note this is a warning and probably safe to ignore.\n",
      "'Counter' object has no attribute 'name'\n",
      "WARNING:tensorflow:Issue encountered when serializing tft_mapper_use.\n",
      "Type is unsupported, or the types of the items don't match field type in CollectionDef. Note this is a warning and probably safe to ignore.\n",
      "'Counter' object has no attribute 'name'\n",
      "INFO:tensorflow:SavedModel written to: gs://aiops-industrialization-bucket-ravi/chicago-taxi-tips/tmp/tftransform_tmp/0116171f351b4fb5b2da4d67d1b82d4b/saved_model.pb\n",
      "INFO:tensorflow:SavedModel written to: gs://aiops-industrialization-bucket-ravi/chicago-taxi-tips/tmp/tftransform_tmp/0116171f351b4fb5b2da4d67d1b82d4b/saved_model.pb\n",
      "WARNING:tensorflow:Tensorflow version (2.3.4) found. Note that Tensorflow Transform support for TF 2.0 is currently in beta, and features such as tf.function may not work as intended. \n",
      "WARNING:tensorflow:Tensorflow version (2.3.4) found. Note that Tensorflow Transform support for TF 2.0 is currently in beta, and features such as tf.function may not work as intended. \n",
      "WARNING:tensorflow:You are passing instance dicts and DatasetMetadata to TFT which will not provide optimal performance. Consider following the TFT guide to upgrade to the TFXIO format (Apache Arrow RecordBatch).\n",
      "WARNING:tensorflow:You are passing instance dicts and DatasetMetadata to TFT which will not provide optimal performance. Consider following the TFT guide to upgrade to the TFXIO format (Apache Arrow RecordBatch).\n",
      "WARNING:tensorflow:Tensorflow version (2.3.4) found. Note that Tensorflow Transform support for TF 2.0 is currently in beta, and features such as tf.function may not work as intended. \n",
      "WARNING:tensorflow:Tensorflow version (2.3.4) found. Note that Tensorflow Transform support for TF 2.0 is currently in beta, and features such as tf.function may not work as intended. \n",
      "WARNING:tensorflow:You are passing instance dicts and DatasetMetadata to TFT which will not provide optimal performance. Consider following the TFT guide to upgrade to the TFXIO format (Apache Arrow RecordBatch).\n",
      "WARNING:tensorflow:You are passing instance dicts and DatasetMetadata to TFT which will not provide optimal performance. Consider following the TFT guide to upgrade to the TFXIO format (Apache Arrow RecordBatch).\n"
     ]
    },
    {
     "name": "stderr",
     "output_type": "stream",
     "text": [
      "warning: check: missing required meta-data: url\n",
      "\n",
      "warning: check: missing meta-data: either (author and author_email) or (maintainer and maintainer_email) must be supplied\n",
      "\n"
     ]
    },
    {
     "ename": "KeyboardInterrupt",
     "evalue": "",
     "output_type": "error",
     "traceback": [
      "\u001b[0;31m---------------------------------------------------------------------------\u001b[0m",
      "\u001b[0;31mKeyboardInterrupt\u001b[0m                         Traceback (most recent call last)",
      "\u001b[0;32m/tmp/ipykernel_3517/259245321.py\u001b[0m in \u001b[0;36m<module>\u001b[0;34m\u001b[0m\n\u001b[1;32m      2\u001b[0m \u001b[0;34m\u001b[0m\u001b[0m\n\u001b[1;32m      3\u001b[0m \u001b[0mprint\u001b[0m\u001b[0;34m(\u001b[0m\u001b[0;34m\"Data preprocessing started...\"\u001b[0m\u001b[0;34m)\u001b[0m\u001b[0;34m\u001b[0m\u001b[0;34m\u001b[0m\u001b[0m\n\u001b[0;32m----> 4\u001b[0;31m \u001b[0metl\u001b[0m\u001b[0;34m.\u001b[0m\u001b[0mrun_transform_pipeline\u001b[0m\u001b[0;34m(\u001b[0m\u001b[0margs\u001b[0m\u001b[0;34m)\u001b[0m\u001b[0;34m\u001b[0m\u001b[0;34m\u001b[0m\u001b[0m\n\u001b[0m\u001b[1;32m      5\u001b[0m \u001b[0mprint\u001b[0m\u001b[0;34m(\u001b[0m\u001b[0;34m\"Data preprocessing completed.\"\u001b[0m\u001b[0;34m)\u001b[0m\u001b[0;34m\u001b[0m\u001b[0;34m\u001b[0m\u001b[0m\n",
      "\u001b[0;32m~/mlops-with-vertex-ai/src/preprocessing/etl.py\u001b[0m in \u001b[0;36mrun_transform_pipeline\u001b[0;34m(args)\u001b[0m\n\u001b[1;32m    151\u001b[0m                         \u001b[0mfile_path_prefix\u001b[0m\u001b[0;34m=\u001b[0m\u001b[0mos\u001b[0m\u001b[0;34m.\u001b[0m\u001b[0mpath\u001b[0m\u001b[0;34m.\u001b[0m\u001b[0mjoin\u001b[0m\u001b[0;34m(\u001b[0m\u001b[0mexported_data_prefix\u001b[0m\u001b[0;34m,\u001b[0m \u001b[0;34m\"data\"\u001b[0m\u001b[0;34m)\u001b[0m\u001b[0;34m,\u001b[0m\u001b[0;34m\u001b[0m\u001b[0;34m\u001b[0m\u001b[0m\n\u001b[1;32m    152\u001b[0m                         \u001b[0mfile_name_suffix\u001b[0m\u001b[0;34m=\u001b[0m\u001b[0;34m\".tfrecord\"\u001b[0m\u001b[0;34m,\u001b[0m\u001b[0;34m\u001b[0m\u001b[0;34m\u001b[0m\u001b[0m\n\u001b[0;32m--> 153\u001b[0;31m                         \u001b[0mcoder\u001b[0m\u001b[0;34m=\u001b[0m\u001b[0mtft\u001b[0m\u001b[0;34m.\u001b[0m\u001b[0mcoders\u001b[0m\u001b[0;34m.\u001b[0m\u001b[0mExampleProtoCoder\u001b[0m\u001b[0;34m(\u001b[0m\u001b[0mraw_metadata\u001b[0m\u001b[0;34m.\u001b[0m\u001b[0mschema\u001b[0m\u001b[0;34m)\u001b[0m\u001b[0;34m,\u001b[0m\u001b[0;34m\u001b[0m\u001b[0;34m\u001b[0m\u001b[0m\n\u001b[0m\u001b[1;32m    154\u001b[0m                     )\n\u001b[1;32m    155\u001b[0m                 )\n",
      "\u001b[0;32m/opt/conda/lib/python3.7/site-packages/apache_beam/pipeline.py\u001b[0m in \u001b[0;36m__exit__\u001b[0;34m(self, exc_type, exc_val, exc_tb)\u001b[0m\n\u001b[1;32m    579\u001b[0m       \u001b[0;32mif\u001b[0m \u001b[0;32mnot\u001b[0m \u001b[0mexc_type\u001b[0m\u001b[0;34m:\u001b[0m\u001b[0;34m\u001b[0m\u001b[0;34m\u001b[0m\u001b[0m\n\u001b[1;32m    580\u001b[0m         \u001b[0mself\u001b[0m\u001b[0;34m.\u001b[0m\u001b[0mresult\u001b[0m \u001b[0;34m=\u001b[0m \u001b[0mself\u001b[0m\u001b[0;34m.\u001b[0m\u001b[0mrun\u001b[0m\u001b[0;34m(\u001b[0m\u001b[0;34m)\u001b[0m\u001b[0;34m\u001b[0m\u001b[0;34m\u001b[0m\u001b[0m\n\u001b[0;32m--> 581\u001b[0;31m         \u001b[0mself\u001b[0m\u001b[0;34m.\u001b[0m\u001b[0mresult\u001b[0m\u001b[0;34m.\u001b[0m\u001b[0mwait_until_finish\u001b[0m\u001b[0;34m(\u001b[0m\u001b[0;34m)\u001b[0m\u001b[0;34m\u001b[0m\u001b[0;34m\u001b[0m\u001b[0m\n\u001b[0m\u001b[1;32m    582\u001b[0m     \u001b[0;32mfinally\u001b[0m\u001b[0;34m:\u001b[0m\u001b[0;34m\u001b[0m\u001b[0;34m\u001b[0m\u001b[0m\n\u001b[1;32m    583\u001b[0m       \u001b[0mself\u001b[0m\u001b[0;34m.\u001b[0m\u001b[0m_extra_context\u001b[0m\u001b[0;34m.\u001b[0m\u001b[0m__exit__\u001b[0m\u001b[0;34m(\u001b[0m\u001b[0mexc_type\u001b[0m\u001b[0;34m,\u001b[0m \u001b[0mexc_val\u001b[0m\u001b[0;34m,\u001b[0m \u001b[0mexc_tb\u001b[0m\u001b[0;34m)\u001b[0m\u001b[0;34m\u001b[0m\u001b[0;34m\u001b[0m\u001b[0m\n",
      "\u001b[0;32m/opt/conda/lib/python3.7/site-packages/apache_beam/runners/dataflow/dataflow_runner.py\u001b[0m in \u001b[0;36mwait_until_finish\u001b[0;34m(self, duration)\u001b[0m\n\u001b[1;32m   1666\u001b[0m       \u001b[0mthread\u001b[0m\u001b[0;34m.\u001b[0m\u001b[0mstart\u001b[0m\u001b[0;34m(\u001b[0m\u001b[0;34m)\u001b[0m\u001b[0;34m\u001b[0m\u001b[0;34m\u001b[0m\u001b[0m\n\u001b[1;32m   1667\u001b[0m       \u001b[0;32mwhile\u001b[0m \u001b[0mthread\u001b[0m\u001b[0;34m.\u001b[0m\u001b[0mis_alive\u001b[0m\u001b[0;34m(\u001b[0m\u001b[0;34m)\u001b[0m\u001b[0;34m:\u001b[0m\u001b[0;34m\u001b[0m\u001b[0;34m\u001b[0m\u001b[0m\n\u001b[0;32m-> 1668\u001b[0;31m         \u001b[0mtime\u001b[0m\u001b[0;34m.\u001b[0m\u001b[0msleep\u001b[0m\u001b[0;34m(\u001b[0m\u001b[0;36m5.0\u001b[0m\u001b[0;34m)\u001b[0m\u001b[0;34m\u001b[0m\u001b[0;34m\u001b[0m\u001b[0m\n\u001b[0m\u001b[1;32m   1669\u001b[0m \u001b[0;34m\u001b[0m\u001b[0m\n\u001b[1;32m   1670\u001b[0m       \u001b[0;31m# TODO: Merge the termination code in poll_for_job_completion and\u001b[0m\u001b[0;34m\u001b[0m\u001b[0;34m\u001b[0m\u001b[0;34m\u001b[0m\u001b[0m\n",
      "\u001b[0;31mKeyboardInterrupt\u001b[0m: "
     ]
    }
   ],
   "source": [
    "logging.getLogger().setLevel(logging.ERROR)\n",
    "\n",
    "print(\"Data preprocessing started...\")\n",
    "etl.run_transform_pipeline(args)\n",
    "print(\"Data preprocessing completed.\")"
   ]
  },
  {
   "cell_type": "code",
   "execution_count": 171,
   "id": "609146e7",
   "metadata": {},
   "outputs": [
    {
     "name": "stdout",
     "output_type": "stream",
     "text": [
      "CommandException: One or more URLs matched no objects.\n"
     ]
    }
   ],
   "source": [
    "!gsutil ls {EXPERIMENT_RUN_DIR}"
   ]
  },
  {
   "cell_type": "markdown",
   "id": "12cb307c",
   "metadata": {},
   "source": [
    "## 4. Submit a Custom Training Job to Vertex AI"
   ]
  },
  {
   "cell_type": "code",
   "execution_count": 175,
   "id": "d47469ed",
   "metadata": {},
   "outputs": [],
   "source": [
    "TRANSFORM_ARTIFACTS_DIR=\"gs://aiops-industrialization-bucket-ravi/chicago-taxi-tips/experiments/chicago-taxi-tips-classifier-v01-experiment/run-local-20210830070546/transform_artifacts\"\n"
   ]
  },
  {
   "cell_type": "markdown",
   "id": "78e91999",
   "metadata": {},
   "source": [
    "### Test the training task locally"
   ]
  },
  {
   "cell_type": "code",
   "execution_count": 176,
   "id": "8734c48b",
   "metadata": {},
   "outputs": [
    {
     "name": "stdout",
     "output_type": "stream",
     "text": [
      "INFO:apache_beam.typehints.native_type_compatibility:Using Any for unsupported type: typing.Sequence[~T]\n",
      "INFO:root:Python Version = 3.7.10 | packaged by conda-forge | (default, Feb 19 2021, 16:07:37) \n",
      "[GCC 9.3.0]\n",
      "INFO:root:TensorFlow Version = 2.3.4\n",
      "INFO:root:TF_CONFIG = Not found\n",
      "2021-08-30 10:42:24.372096: I tensorflow/core/platform/profile_utils/cpu_utils.cc:104] CPU Frequency: 2200130000 Hz\n",
      "2021-08-30 10:42:24.372390: I tensorflow/compiler/xla/service/service.cc:168] XLA service 0x56315cffd140 initialized for platform Host (this does not guarantee that XLA will be used). Devices:\n",
      "2021-08-30 10:42:24.372424: I tensorflow/compiler/xla/service/service.cc:176]   StreamExecutor device (0): Host, Default Version\n",
      "INFO:root:DEVICES = [name: \"/device:CPU:0\"\n",
      "device_type: \"CPU\"\n",
      "memory_limit: 268435456\n",
      "locality {\n",
      "}\n",
      "incarnation: 911999769099072650\n",
      ", name: \"/device:XLA_CPU:0\"\n",
      "device_type: \"XLA_CPU\"\n",
      "memory_limit: 17179869184\n",
      "locality {\n",
      "}\n",
      "incarnation: 17752354152221112397\n",
      "physical_device_desc: \"device: XLA_CPU device\"\n",
      "]\n",
      "INFO:root:Task started...\n",
      "INFO:root:Hyperparameter: {'model_dir': 'gs://aiops-industrialization-bucket-ravi/chicago-taxi-tips/experiments/chicago-taxi-tips-classifier-v01-experiment/run-local-20210830101722/model', 'log_dir': 'gs://aiops-industrialization-bucket-ravi/chicago-taxi-tips/experiments/chicago-taxi-tips-classifier-v01-experiment/run-local-20210830101722/logs', 'train_data_dir': 'gs://aiops-industrialization-bucket-ravi/chicago-taxi-tips/experiments/chicago-taxi-tips-classifier-v01-experiment/run-gcp-20210830103039/transformed_data/train/*', 'eval_data_dir': 'gs://aiops-industrialization-bucket-ravi/chicago-taxi-tips/experiments/chicago-taxi-tips-classifier-v01-experiment/run-gcp-20210830103039/transformed_data/eval/*', 'tft_output_dir': 'gs://aiops-industrialization-bucket-ravi/chicago-taxi-tips/experiments/chicago-taxi-tips-classifier-v01-experiment/run-local-20210830070546/transform_artifacts', 'learning_rate': 0.001, 'batch_size': 512, 'hidden_units': [32, 32], 'num_epochs': 5, 'project': 'aiops-industrialization', 'region': 'us-central1', 'staging_bucket': 'aiops-industrialization-bucket-ravi', 'experiment_name': 'chicago-taxi-tips-classifier-v01-experiment', 'run_name': 'run-gcp-20210830103039'}\n",
      "INFO:root:Using Vertex AI experiment: chicago-taxi-tips-classifier-v01-experiment\n",
      "INFO:root:Run run-gcp-20210830103039 started.\n",
      "INFO:root:Loading tft output from gs://aiops-industrialization-bucket-ravi/chicago-taxi-tips/experiments/chicago-taxi-tips-classifier-v01-experiment/run-local-20210830070546/transform_artifacts\n",
      "2021-08-30 10:42:26.490651: I tensorflow/core/common_runtime/process_util.cc:146] Creating new thread pool with default inter op setting: 2. Tune using inter_op_parallelism_threads for best performance.\n",
      "Traceback (most recent call last):\n",
      "  File \"/opt/conda/lib/python3.7/runpy.py\", line 193, in _run_module_as_main\n",
      "    \"__main__\", mod_spec)\n",
      "  File \"/opt/conda/lib/python3.7/runpy.py\", line 85, in _run_code\n",
      "    exec(code, run_globals)\n",
      "  File \"/home/jupyter/mlops-with-vertex-ai/src/model_training/task.py\", line 144, in <module>\n",
      "    main()\n",
      "  File \"/home/jupyter/mlops-with-vertex-ai/src/model_training/task.py\", line 111, in main\n",
      "    log_dir=args.log_dir,\n",
      "  File \"/home/jupyter/mlops-with-vertex-ai/src/model_training/trainer.py\", line 41, in train\n",
      "    hyperparams[\"batch_size\"],\n",
      "  File \"/home/jupyter/mlops-with-vertex-ai/src/model_training/data.py\", line 45, in get_dataset\n",
      "    drop_final_batch=True,\n",
      "  File \"/opt/conda/lib/python3.7/site-packages/tensorflow/python/data/experimental/ops/readers.py\", line 872, in make_batched_features_dataset_v2\n",
      "    file_pattern, shuffle=shuffle, seed=shuffle_seed)\n",
      "  File \"/opt/conda/lib/python3.7/site-packages/tensorflow/python/data/ops/dataset_ops.py\", line 1115, in list_files\n",
      "    condition, [message], summarize=1, name=\"assert_not_empty\")\n",
      "  File \"/opt/conda/lib/python3.7/site-packages/tensorflow/python/util/dispatch.py\", line 201, in wrapper\n",
      "    return target(*args, **kwargs)\n",
      "  File \"/opt/conda/lib/python3.7/site-packages/tensorflow/python/util/tf_should_use.py\", line 247, in wrapped\n",
      "    return _add_should_use_warning(fn(*args, **kwargs),\n",
      "  File \"/opt/conda/lib/python3.7/site-packages/tensorflow/python/ops/control_flow_ops.py\", line 158, in Assert\n",
      "    (condition, \"\\n\".join(data_str)))\n",
      "tensorflow.python.framework.errors_impl.InvalidArgumentError: Expected 'tf.Tensor(False, shape=(), dtype=bool)' to be true. Summarized data: b'No files matched pattern: gs://aiops-industrialization-bucket-ravi/chicago-taxi-tips/experiments/chicago-taxi-tips-classifier-v01-experiment/run-gcp-20210830103039/transformed_data/train/*'\n"
     ]
    }
   ],
   "source": [
    "!python -m src.model_training.task \\\n",
    "    --model-dir={EXPORT_DIR} \\\n",
    "    --log-dir={LOG_DIR} \\\n",
    "    --train-data-dir={TRANSFORMED_DATA_PREFIX}/train/* \\\n",
    "    --eval-data-dir={TRANSFORMED_DATA_PREFIX}/eval/*  \\\n",
    "    --tft-output-dir={TRANSFORM_ARTIFACTS_DIR} \\\n",
    "    --num-epochs=5 \\\n",
    "    --hidden-units=32,32 \\\n",
    "    --experiment-name={EXPERIMENT_NAME} \\\n",
    "    --run-name={run_id} \\\n",
    "    --project={PROJECT} \\\n",
    "    --region={REGION} \\\n",
    "    --staging-bucket={BUCKET}"
   ]
  },
  {
   "cell_type": "markdown",
   "id": "51a6301d",
   "metadata": {},
   "source": [
    "### Prepare training package"
   ]
  },
  {
   "cell_type": "code",
   "execution_count": null,
   "id": "8a9f24a9",
   "metadata": {},
   "outputs": [],
   "source": [
    "TRAINER_PACKAGE_DIR = os.path.join(WORKSPACE, 'trainer_packages')\n",
    "TRAINER_PACKAGE_NAME = f'{MODEL_DISPLAY_NAME}_trainer'\n",
    "print(\"Trainer package upload location:\", TRAINER_PACKAGE_DIR)"
   ]
  },
  {
   "cell_type": "code",
   "execution_count": null,
   "id": "4dce5bdf",
   "metadata": {},
   "outputs": [],
   "source": [
    "!rm -r src/__pycache__/\n",
    "!rm -r src/.ipynb_checkpoints/\n",
    "!rm -r src/raw_schema/.ipynb_checkpoints/\n",
    "!rm -f {TRAINER_PACKAGE_NAME}.tar {TRAINER_PACKAGE_NAME}.tar.gz\n",
    "\n",
    "!mkdir {TRAINER_PACKAGE_NAME}\n",
    "\n",
    "!cp setup.py {TRAINER_PACKAGE_NAME}/\n",
    "!cp -r src {TRAINER_PACKAGE_NAME}/\n",
    "!tar cvf {TRAINER_PACKAGE_NAME}.tar {TRAINER_PACKAGE_NAME}\n",
    "!gzip {TRAINER_PACKAGE_NAME}.tar\n",
    "!gsutil cp {TRAINER_PACKAGE_NAME}.tar.gz {TRAINER_PACKAGE_DIR}/\n",
    "!rm -r {TRAINER_PACKAGE_NAME}\n",
    "!rm -r {TRAINER_PACKAGE_NAME}.tar.gz"
   ]
  },
  {
   "cell_type": "markdown",
   "id": "5e85c73d",
   "metadata": {},
   "source": [
    "### Prepare the training job"
   ]
  },
  {
   "cell_type": "code",
   "execution_count": 184,
   "id": "afa52ece",
   "metadata": {},
   "outputs": [
    {
     "name": "stdout",
     "output_type": "stream",
     "text": [
      "Training image: gcr.io/cloud-aiplatform/training/tf-cpu.2-4:latest\n"
     ]
    }
   ],
   "source": [
    "TRAIN_RUNTIME = 'tf-cpu.2-4'\n",
    "TRAIN_IMAGE = f\"gcr.io/cloud-aiplatform/training/{TRAIN_RUNTIME}:latest\"\n",
    "print(\"Training image:\", TRAIN_IMAGE)"
   ]
  },
  {
   "cell_type": "code",
   "execution_count": 185,
   "id": "e9a8f3f5",
   "metadata": {},
   "outputs": [],
   "source": [
    "num_epochs = 10\n",
    "learning_rate = 0.001\n",
    "hidden_units = \"64,64\"\n",
    "\n",
    "trainer_args = [\n",
    "    f'--train-data-dir={TRANSFORMED_DATA_PREFIX + \"/train/*\"}',\n",
    "    f'--eval-data-dir={TRANSFORMED_DATA_PREFIX + \"/eval/*\"}',\n",
    "    f'--tft-output-dir={TRANSFORM_ARTIFACTS_DIR}',\n",
    "    f'--num-epochs={num_epochs}',\n",
    "    f'--learning-rate={learning_rate}',\n",
    "    f'--project={PROJECT}',\n",
    "    f'--region={REGION}',\n",
    "    f'--staging-bucket={BUCKET}',\n",
    "    f'--experiment-name={EXPERIMENT_NAME}'\n",
    "]"
   ]
  },
  {
   "cell_type": "code",
   "execution_count": 186,
   "id": "9d695694",
   "metadata": {},
   "outputs": [],
   "source": [
    "package_uri = os.path.join(TRAINER_PACKAGE_DIR, f'{TRAINER_PACKAGE_NAME}.tar.gz')\n",
    "\n",
    "training_spec = [\n",
    "    {\n",
    "        \"replica_count\": 1,\n",
    "        \"machine_spec\": {\n",
    "            \"machine_type\": 'n1-standard-4',\n",
    "            \"accelerator_count\": 0\n",
    "    },\n",
    "        \"python_package_spec\": {\n",
    "            \"executor_image_uri\": TRAIN_IMAGE,\n",
    "            \"package_uris\": [package_uri],\n",
    "            \"python_module\": \"src.model_training.task\",\n",
    "            \"args\": trainer_args,\n",
    "        }\n",
    "    }\n",
    "]"
   ]
  },
  {
   "cell_type": "markdown",
   "id": "85619629",
   "metadata": {},
   "source": [
    "### Submit the training job"
   ]
  },
  {
   "cell_type": "code",
   "execution_count": 187,
   "id": "69a32735",
   "metadata": {},
   "outputs": [
    {
     "name": "stdout",
     "output_type": "stream",
     "text": [
      "Submitting a custom training job...\n",
      "Job projects/175728527123/locations/us-central1/customJobs/7809701349720850432 submitted.\n"
     ]
    }
   ],
   "source": [
    "print(\"Submitting a custom training job...\")\n",
    "\n",
    "job_display_name = f\"{TRAINER_PACKAGE_NAME}_{datetime.now().strftime('%Y%m%d%H%M%S')}\"\n",
    "\n",
    "custom_job = {\n",
    "    \"display_name\": job_display_name,\n",
    "    \"job_spec\": {\n",
    "        \"worker_pool_specs\": training_spec,\n",
    "        \"base_output_directory\": {\"output_uri_prefix\": EXPERIMENT_RUN_DIR},\n",
    "        \"service_account\": SERVICE_ACCOUNT,\n",
    "        \"tensorboard\": tensorboard_resource_name,\n",
    "    }\n",
    "}\n",
    "\n",
    "job_client_beta = vertex_ai_beta.JobServiceClient(\n",
    "    client_options={\"api_endpoint\": f\"{REGION}-aiplatform.googleapis.com\"}\n",
    ")\n",
    "\n",
    "job = job_client_beta.create_custom_job(\n",
    "    parent=PARENT,\n",
    "    custom_job=custom_job\n",
    ")\n",
    "\n",
    "print(f\"Job {job.name} submitted.\")"
   ]
  },
  {
   "cell_type": "markdown",
   "id": "00f45b4c",
   "metadata": {},
   "source": [
    "### Monitor job state"
   ]
  },
  {
   "cell_type": "code",
   "execution_count": 188,
   "id": "8c7d3a29",
   "metadata": {},
   "outputs": [
    {
     "name": "stdout",
     "output_type": "stream",
     "text": [
      "Training job state is: JOB_STATE_PENDING.\n",
      "Training job state is: JOB_STATE_PENDING.\n",
      "Training job state is: JOB_STATE_PENDING.\n",
      "Training job state is: JOB_STATE_PENDING.\n",
      "Training job state is: JOB_STATE_PENDING.\n",
      "Training job state is: JOB_STATE_PENDING.\n",
      "Training job failed!\n"
     ]
    }
   ],
   "source": [
    "while True:\n",
    "    response = job_client_beta.get_custom_job(name=job.name)\n",
    "    if response.state.name == 'JOB_STATE_SUCCEEDED':\n",
    "        print(\"Training job completed. - Training Elapsed Time:\", response.update_time - response.create_time)\n",
    "        print(\"Training Job Time:\", response.end_time - response.start_time)\n",
    "        break\n",
    "    elif response.state.name == 'JOB_STATE_FAILED':\n",
    "        print(\"Training job failed!\")\n",
    "        break\n",
    "    else:\n",
    "        print(f\"Training job state is: {response.state.name}.\")\n",
    "    time.sleep(60)"
   ]
  },
  {
   "cell_type": "markdown",
   "id": "57200062",
   "metadata": {},
   "source": [
    "## 5. Upload exported model to Vertex AI Models"
   ]
  },
  {
   "cell_type": "code",
   "execution_count": 177,
   "id": "72bb5336",
   "metadata": {},
   "outputs": [
    {
     "name": "stdout",
     "output_type": "stream",
     "text": [
      "gs://aiops-industrialization-bucket-ravi/chicago-taxi-tips/experiments/chicago-taxi-tips-classifier-v01-experiment/run-local-20210830101722/model/\n",
      "gs://aiops-industrialization-bucket-ravi/chicago-taxi-tips/experiments/chicago-taxi-tips-classifier-v01-experiment/run-local-20210830101722/model/saved_model.pb\n",
      "gs://aiops-industrialization-bucket-ravi/chicago-taxi-tips/experiments/chicago-taxi-tips-classifier-v01-experiment/run-local-20210830101722/model/assets/\n",
      "gs://aiops-industrialization-bucket-ravi/chicago-taxi-tips/experiments/chicago-taxi-tips-classifier-v01-experiment/run-local-20210830101722/model/variables/\n"
     ]
    }
   ],
   "source": [
    "!gsutil ls {EXPORT_DIR}"
   ]
  },
  {
   "cell_type": "markdown",
   "id": "e5e374e1",
   "metadata": {},
   "source": [
    "### Generate the Explaination metadata"
   ]
  },
  {
   "cell_type": "code",
   "execution_count": 178,
   "id": "eda7db1c",
   "metadata": {},
   "outputs": [
    {
     "data": {
      "text/plain": [
       "{'inputs': {'trip_month': {'input_tensor_name': 'trip_month',\n",
       "   'modality': 'categorical'},\n",
       "  'trip_day': {'input_tensor_name': 'trip_day', 'modality': 'categorical'},\n",
       "  'trip_day_of_week': {'input_tensor_name': 'trip_day_of_week',\n",
       "   'modality': 'categorical'},\n",
       "  'trip_hour': {'input_tensor_name': 'trip_hour', 'modality': 'categorical'},\n",
       "  'trip_seconds': {'input_tensor_name': 'trip_seconds', 'modality': 'numeric'},\n",
       "  'trip_miles': {'input_tensor_name': 'trip_miles', 'modality': 'numeric'},\n",
       "  'payment_type': {'input_tensor_name': 'payment_type',\n",
       "   'modality': 'categorical'},\n",
       "  'pickup_grid': {'input_tensor_name': 'pickup_grid',\n",
       "   'modality': 'categorical'},\n",
       "  'dropoff_grid': {'input_tensor_name': 'dropoff_grid',\n",
       "   'modality': 'categorical'},\n",
       "  'euclidean': {'input_tensor_name': 'euclidean', 'modality': 'numeric'},\n",
       "  'loc_cross': {'input_tensor_name': 'loc_cross', 'modality': 'categorical'}},\n",
       " 'outputs': {'scores': {'output_tensor_name': 'scores'}},\n",
       " 'params': {'sampled_shapley_attribution': {'path_count': 10}}}"
      ]
     },
     "execution_count": 178,
     "metadata": {},
     "output_type": "execute_result"
    }
   ],
   "source": [
    "explanation_config = features.generate_explanation_config()\n",
    "explanation_config"
   ]
  },
  {
   "cell_type": "markdown",
   "id": "92f29ddd",
   "metadata": {},
   "source": [
    "### Upload model"
   ]
  },
  {
   "cell_type": "code",
   "execution_count": 179,
   "id": "cc411e41",
   "metadata": {},
   "outputs": [
    {
     "name": "stdout",
     "output_type": "stream",
     "text": [
      "Serving image: gcr.io/cloud-aiplatform/prediction/tf2-cpu.2-4:latest\n"
     ]
    }
   ],
   "source": [
    "SERVING_RUNTIME='tf2-cpu.2-4'\n",
    "SERVING_IMAGE = f\"gcr.io/cloud-aiplatform/prediction/{SERVING_RUNTIME}:latest\"\n",
    "print(\"Serving image:\", SERVING_IMAGE)"
   ]
  },
  {
   "cell_type": "code",
   "execution_count": 180,
   "id": "e1e4f518",
   "metadata": {},
   "outputs": [],
   "source": [
    "explanation_metadata = vertex_ai.explain.ExplanationMetadata(\n",
    "    inputs=explanation_config[\"inputs\"],\n",
    "    outputs=explanation_config[\"outputs\"],\n",
    ")\n",
    "explanation_parameters = vertex_ai.explain.ExplanationParameters(\n",
    "    explanation_config[\"params\"]\n",
    ")\n",
    "\n",
    "vertex_model = vertex_ai.Model.upload(\n",
    "    display_name=MODEL_DISPLAY_NAME,\n",
    "    artifact_uri=EXPORT_DIR,\n",
    "    serving_container_image_uri=SERVING_IMAGE,\n",
    "    parameters_schema_uri=None,\n",
    "    instance_schema_uri=None,\n",
    "    explanation_metadata=explanation_metadata,\n",
    "    explanation_parameters=explanation_parameters,\n",
    ")"
   ]
  },
  {
   "cell_type": "code",
   "execution_count": 181,
   "id": "b6378e15",
   "metadata": {},
   "outputs": [
    {
     "data": {
      "text/plain": [
       "name: \"projects/175728527123/locations/us-central1/models/6786141786168360960\"\n",
       "display_name: \"chicago-taxi-tips-classifier-v01\"\n",
       "predict_schemata {\n",
       "}\n",
       "metadata {\n",
       "}\n",
       "container_spec {\n",
       "  image_uri: \"gcr.io/cloud-aiplatform/prediction/tf2-cpu.2-4:latest\"\n",
       "}\n",
       "supported_deployment_resources_types: DEDICATED_RESOURCES\n",
       "supported_input_storage_formats: \"jsonl\"\n",
       "supported_input_storage_formats: \"csv\"\n",
       "supported_input_storage_formats: \"tf-record\"\n",
       "supported_input_storage_formats: \"tf-record-gzip\"\n",
       "supported_input_storage_formats: \"file-list\"\n",
       "supported_output_storage_formats: \"jsonl\"\n",
       "create_time {\n",
       "  seconds: 1630320175\n",
       "  nanos: 4135000\n",
       "}\n",
       "update_time {\n",
       "  seconds: 1630320507\n",
       "  nanos: 942524000\n",
       "}\n",
       "etag: \"AMEw9yOYZorBtKfeW4rsmHjVEBhLlzYM5cwYZlBcVOxRYjozYau5HeY5j7mFEUybXQjB\"\n",
       "supported_export_formats {\n",
       "  id: \"custom-trained\"\n",
       "  exportable_contents: ARTIFACT\n",
       "}\n",
       "artifact_uri: \"gs://aiops-industrialization-bucket-ravi/chicago-taxi-tips/experiments/chicago-taxi-tips-classifier-v01-experiment/run-local-20210830101722/model\""
      ]
     },
     "execution_count": 181,
     "metadata": {},
     "output_type": "execute_result"
    }
   ],
   "source": [
    "vertex_model.gca_resource"
   ]
  },
  {
   "cell_type": "markdown",
   "id": "59a574a9",
   "metadata": {},
   "source": [
    "## 6. Exract experiment run parameters"
   ]
  },
  {
   "cell_type": "code",
   "execution_count": 182,
   "id": "2000959b",
   "metadata": {},
   "outputs": [
    {
     "data": {
      "text/html": [
       "<div>\n",
       "<style scoped>\n",
       "    .dataframe tbody tr th:only-of-type {\n",
       "        vertical-align: middle;\n",
       "    }\n",
       "\n",
       "    .dataframe tbody tr th {\n",
       "        vertical-align: top;\n",
       "    }\n",
       "\n",
       "    .dataframe thead th {\n",
       "        text-align: right;\n",
       "    }\n",
       "</style>\n",
       "<table border=\"1\" class=\"dataframe\">\n",
       "  <thead>\n",
       "    <tr style=\"text-align: right;\">\n",
       "      <th></th>\n",
       "      <th>0</th>\n",
       "      <th>1</th>\n",
       "      <th>2</th>\n",
       "      <th>3</th>\n",
       "      <th>4</th>\n",
       "      <th>5</th>\n",
       "      <th>6</th>\n",
       "      <th>7</th>\n",
       "      <th>8</th>\n",
       "      <th>9</th>\n",
       "      <th>10</th>\n",
       "    </tr>\n",
       "  </thead>\n",
       "  <tbody>\n",
       "    <tr>\n",
       "      <th>experiment_name</th>\n",
       "      <td>chicago-taxi-tips-classifier-v01-experiment</td>\n",
       "      <td>chicago-taxi-tips-classifier-v01-experiment</td>\n",
       "      <td>chicago-taxi-tips-classifier-v01-experiment</td>\n",
       "      <td>chicago-taxi-tips-classifier-v01-experiment</td>\n",
       "      <td>chicago-taxi-tips-classifier-v01-experiment</td>\n",
       "      <td>chicago-taxi-tips-classifier-v01-experiment</td>\n",
       "      <td>chicago-taxi-tips-classifier-v01-experiment</td>\n",
       "      <td>chicago-taxi-tips-classifier-v01-experiment</td>\n",
       "      <td>chicago-taxi-tips-classifier-v01-experiment</td>\n",
       "      <td>chicago-taxi-tips-classifier-v01-experiment</td>\n",
       "      <td>chicago-taxi-tips-classifier-v01-experiment</td>\n",
       "    </tr>\n",
       "    <tr>\n",
       "      <th>run_name</th>\n",
       "      <td>run-gcp-20210830103039</td>\n",
       "      <td>run-local-20210830101722</td>\n",
       "      <td>run-local-20210830095506</td>\n",
       "      <td>run-gcp-20210830094226</td>\n",
       "      <td>run-gcp-20210830083753</td>\n",
       "      <td>run-gcp-20210830082942</td>\n",
       "      <td>run-gcp-20210830073755</td>\n",
       "      <td>run-gcp-20210830072352</td>\n",
       "      <td>run-local-20210830070546</td>\n",
       "      <td>run-local-20210830055520</td>\n",
       "      <td>run-local-20210827114240</td>\n",
       "    </tr>\n",
       "    <tr>\n",
       "      <th>param.experiment_name</th>\n",
       "      <td>chicago-taxi-tips-classifier-v01-experiment</td>\n",
       "      <td>NaN</td>\n",
       "      <td>NaN</td>\n",
       "      <td>chicago-taxi-tips-classifier-v01-experiment</td>\n",
       "      <td>chicago-taxi-tips-classifier-v01-experiment</td>\n",
       "      <td>chicago-taxi-tips-classifier-v01-experiment</td>\n",
       "      <td>chicago-taxi-tips-classifier-v01-experiment</td>\n",
       "      <td>chicago-taxi-tips-classifier-v01-experiment</td>\n",
       "      <td>NaN</td>\n",
       "      <td>NaN</td>\n",
       "      <td>NaN</td>\n",
       "    </tr>\n",
       "    <tr>\n",
       "      <th>param.staging_bucket</th>\n",
       "      <td>aiops-industrialization-bucket-ravi</td>\n",
       "      <td>NaN</td>\n",
       "      <td>NaN</td>\n",
       "      <td>aiops-industrialization-bucket-ravi</td>\n",
       "      <td>aiops-industrialization-bucket-ravi</td>\n",
       "      <td>aiops-industrialization-bucket-ravi</td>\n",
       "      <td>aiops-industrialization-bucket-ravi</td>\n",
       "      <td>aiops-industrialization-bucket-ravi</td>\n",
       "      <td>NaN</td>\n",
       "      <td>NaN</td>\n",
       "      <td>NaN</td>\n",
       "    </tr>\n",
       "    <tr>\n",
       "      <th>param.batch_size</th>\n",
       "      <td>512.0</td>\n",
       "      <td>512.0</td>\n",
       "      <td>NaN</td>\n",
       "      <td>512.0</td>\n",
       "      <td>512.0</td>\n",
       "      <td>512.0</td>\n",
       "      <td>512.0</td>\n",
       "      <td>512.0</td>\n",
       "      <td>512.0</td>\n",
       "      <td>512.0</td>\n",
       "      <td>512.0</td>\n",
       "    </tr>\n",
       "    <tr>\n",
       "      <th>param.gcs_location</th>\n",
       "      <td>gs://aiops-industrialization-bucket-ravi/chica...</td>\n",
       "      <td>gs://aiops-industrialization-bucket-ravi/bq_tmp</td>\n",
       "      <td>NaN</td>\n",
       "      <td>gs://aiops-industrialization-bucket-ravi/chica...</td>\n",
       "      <td>NaN</td>\n",
       "      <td>NaN</td>\n",
       "      <td>NaN</td>\n",
       "      <td>gs://aiops-industrialization-bucket-ravi/chica...</td>\n",
       "      <td>gs://aiops-industrialization-bucket-ravi/bq_tmp</td>\n",
       "      <td>gs://aiops-industrialization-bucket-ravi/bq_tmp</td>\n",
       "      <td>gs://aiops-industrialization-bucket-ravi/bq_tmp</td>\n",
       "    </tr>\n",
       "    <tr>\n",
       "      <th>param.eval_data_dir</th>\n",
       "      <td>gs://aiops-industrialization-bucket-ravi/chica...</td>\n",
       "      <td>NaN</td>\n",
       "      <td>NaN</td>\n",
       "      <td>gs://aiops-industrialization-bucket-ravi/chica...</td>\n",
       "      <td>gs://aiops-industrialization-bucket-ravi/chica...</td>\n",
       "      <td>gs://aiops-industrialization-bucket-ravi/chica...</td>\n",
       "      <td>gs://aiops-industrialization-bucket-ravi/chica...</td>\n",
       "      <td>gs://aiops-industrialization-bucket-ravi/chica...</td>\n",
       "      <td>NaN</td>\n",
       "      <td>NaN</td>\n",
       "      <td>NaN</td>\n",
       "    </tr>\n",
       "    <tr>\n",
       "      <th>param.region</th>\n",
       "      <td>us-central1</td>\n",
       "      <td>NaN</td>\n",
       "      <td>NaN</td>\n",
       "      <td>us-central1</td>\n",
       "      <td>us-central1</td>\n",
       "      <td>us-central1</td>\n",
       "      <td>us-central1</td>\n",
       "      <td>us-central1</td>\n",
       "      <td>NaN</td>\n",
       "      <td>NaN</td>\n",
       "      <td>NaN</td>\n",
       "    </tr>\n",
       "    <tr>\n",
       "      <th>param.model_dir</th>\n",
       "      <td>gs://aiops-industrialization-bucket-ravi/chica...</td>\n",
       "      <td>NaN</td>\n",
       "      <td>NaN</td>\n",
       "      <td>gs://aiops-industrialization-bucket-ravi/chica...</td>\n",
       "      <td>gs://aiops-industrialization-bucket-ravi/chica...</td>\n",
       "      <td>gs://aiops-industrialization-bucket-ravi/chica...</td>\n",
       "      <td>gs://aiops-industrialization-bucket-ravi/chica...</td>\n",
       "      <td>gs://aiops-industrialization-bucket-ravi/chica...</td>\n",
       "      <td>NaN</td>\n",
       "      <td>NaN</td>\n",
       "      <td>NaN</td>\n",
       "    </tr>\n",
       "    <tr>\n",
       "      <th>param.project</th>\n",
       "      <td>aiops-industrialization</td>\n",
       "      <td>aiops-industrialization</td>\n",
       "      <td>NaN</td>\n",
       "      <td>aiops-industrialization</td>\n",
       "      <td>aiops-industrialization</td>\n",
       "      <td>aiops-industrialization</td>\n",
       "      <td>aiops-industrialization</td>\n",
       "      <td>aiops-industrialization</td>\n",
       "      <td>aiops-industrialization</td>\n",
       "      <td>aiops-industrialization</td>\n",
       "      <td>aiops-industrialization</td>\n",
       "    </tr>\n",
       "    <tr>\n",
       "      <th>param.log_dir</th>\n",
       "      <td>gs://aiops-industrialization-bucket-ravi/chica...</td>\n",
       "      <td>NaN</td>\n",
       "      <td>NaN</td>\n",
       "      <td>gs://aiops-industrialization-bucket-ravi/chica...</td>\n",
       "      <td>gs://aiops-industrialization-bucket-ravi/chica...</td>\n",
       "      <td>gs://aiops-industrialization-bucket-ravi/chica...</td>\n",
       "      <td>gs://aiops-industrialization-bucket-ravi/chica...</td>\n",
       "      <td>gs://aiops-industrialization-bucket-ravi/chica...</td>\n",
       "      <td>NaN</td>\n",
       "      <td>NaN</td>\n",
       "      <td>NaN</td>\n",
       "    </tr>\n",
       "    <tr>\n",
       "      <th>param.hidden_units</th>\n",
       "      <td>[32.0, 32.0]</td>\n",
       "      <td>[64.0, 32.0]</td>\n",
       "      <td>NaN</td>\n",
       "      <td>[32.0, 32.0]</td>\n",
       "      <td>[64.0, 32.0]</td>\n",
       "      <td>[64.0, 32.0]</td>\n",
       "      <td>[64.0, 32.0]</td>\n",
       "      <td>[32.0, 32.0]</td>\n",
       "      <td>[64.0, 32.0]</td>\n",
       "      <td>[64.0, 32.0]</td>\n",
       "      <td>[64.0, 32.0]</td>\n",
       "    </tr>\n",
       "    <tr>\n",
       "      <th>param.exported_data_prefix</th>\n",
       "      <td>gs://aiops-industrialization-bucket-ravi/chica...</td>\n",
       "      <td>gs://aiops-industrialization-bucket-ravi/chica...</td>\n",
       "      <td>NaN</td>\n",
       "      <td>gs://aiops-industrialization-bucket-ravi/chica...</td>\n",
       "      <td>NaN</td>\n",
       "      <td>NaN</td>\n",
       "      <td>NaN</td>\n",
       "      <td>gs://aiops-industrialization-bucket-ravi/chica...</td>\n",
       "      <td>gs://aiops-industrialization-bucket-ravi/chica...</td>\n",
       "      <td>gs://aiops-industrialization-bucket-ravi/chica...</td>\n",
       "      <td>gs://aiops-industrialization-bucket-ravi/chica...</td>\n",
       "    </tr>\n",
       "    <tr>\n",
       "      <th>param.runner</th>\n",
       "      <td>DataflowRunner</td>\n",
       "      <td>DirectRunner</td>\n",
       "      <td>NaN</td>\n",
       "      <td>DataflowRunner</td>\n",
       "      <td>NaN</td>\n",
       "      <td>NaN</td>\n",
       "      <td>NaN</td>\n",
       "      <td>DataflowRunner</td>\n",
       "      <td>DirectRunner</td>\n",
       "      <td>DirectRunner</td>\n",
       "      <td>DirectRunner</td>\n",
       "    </tr>\n",
       "    <tr>\n",
       "      <th>param.run_name</th>\n",
       "      <td>run-gcp-20210830103039</td>\n",
       "      <td>NaN</td>\n",
       "      <td>NaN</td>\n",
       "      <td>run-gcp-20210830094226</td>\n",
       "      <td>None</td>\n",
       "      <td>None</td>\n",
       "      <td>None</td>\n",
       "      <td>run-gcp-20210830072352</td>\n",
       "      <td>NaN</td>\n",
       "      <td>NaN</td>\n",
       "      <td>NaN</td>\n",
       "    </tr>\n",
       "    <tr>\n",
       "      <th>param.transformed_data_prefix</th>\n",
       "      <td>gs://aiops-industrialization-bucket-ravi/chica...</td>\n",
       "      <td>gs://aiops-industrialization-bucket-ravi/chica...</td>\n",
       "      <td>NaN</td>\n",
       "      <td>gs://aiops-industrialization-bucket-ravi/chica...</td>\n",
       "      <td>NaN</td>\n",
       "      <td>NaN</td>\n",
       "      <td>NaN</td>\n",
       "      <td>gs://aiops-industrialization-bucket-ravi/chica...</td>\n",
       "      <td>gs://aiops-industrialization-bucket-ravi/chica...</td>\n",
       "      <td>gs://aiops-industrialization-bucket-ravi/chica...</td>\n",
       "      <td>gs://aiops-industrialization-bucket-ravi/chica...</td>\n",
       "    </tr>\n",
       "    <tr>\n",
       "      <th>param.write_raw_data</th>\n",
       "      <td>False</td>\n",
       "      <td>True</td>\n",
       "      <td>NaN</td>\n",
       "      <td>False</td>\n",
       "      <td>NaN</td>\n",
       "      <td>NaN</td>\n",
       "      <td>NaN</td>\n",
       "      <td>False</td>\n",
       "      <td>True</td>\n",
       "      <td>True</td>\n",
       "      <td>True</td>\n",
       "    </tr>\n",
       "    <tr>\n",
       "      <th>param.learning_rate</th>\n",
       "      <td>0.001</td>\n",
       "      <td>0.001</td>\n",
       "      <td>NaN</td>\n",
       "      <td>0.001</td>\n",
       "      <td>0.001</td>\n",
       "      <td>0.001</td>\n",
       "      <td>0.001</td>\n",
       "      <td>0.001</td>\n",
       "      <td>0.001</td>\n",
       "      <td>0.001</td>\n",
       "      <td>0.001</td>\n",
       "    </tr>\n",
       "    <tr>\n",
       "      <th>param.temporary_dir</th>\n",
       "      <td>gs://aiops-industrialization-bucket-ravi/chica...</td>\n",
       "      <td>gs://aiops-industrialization-bucket-ravi/chica...</td>\n",
       "      <td>NaN</td>\n",
       "      <td>gs://aiops-industrialization-bucket-ravi/chica...</td>\n",
       "      <td>NaN</td>\n",
       "      <td>NaN</td>\n",
       "      <td>NaN</td>\n",
       "      <td>gs://aiops-industrialization-bucket-ravi/chica...</td>\n",
       "      <td>gs://aiops-industrialization-bucket-ravi/chica...</td>\n",
       "      <td>gs://aiops-industrialization-bucket-ravi/chica...</td>\n",
       "      <td>gs://aiops-industrialization-bucket-ravi/chica...</td>\n",
       "    </tr>\n",
       "    <tr>\n",
       "      <th>param.setup_file</th>\n",
       "      <td>./setup.py</td>\n",
       "      <td>NaN</td>\n",
       "      <td>NaN</td>\n",
       "      <td>./setup.py</td>\n",
       "      <td>NaN</td>\n",
       "      <td>NaN</td>\n",
       "      <td>NaN</td>\n",
       "      <td>./setup.py</td>\n",
       "      <td>NaN</td>\n",
       "      <td>NaN</td>\n",
       "      <td>NaN</td>\n",
       "    </tr>\n",
       "    <tr>\n",
       "      <th>param.transform_artifact_dir</th>\n",
       "      <td>gs://aiops-industrialization-bucket-ravi/chica...</td>\n",
       "      <td>gs://aiops-industrialization-bucket-ravi/chica...</td>\n",
       "      <td>NaN</td>\n",
       "      <td>gs://aiops-industrialization-bucket-ravi/chica...</td>\n",
       "      <td>NaN</td>\n",
       "      <td>NaN</td>\n",
       "      <td>NaN</td>\n",
       "      <td>gs://aiops-industrialization-bucket-ravi/chica...</td>\n",
       "      <td>gs://aiops-industrialization-bucket-ravi/chica...</td>\n",
       "      <td>gs://aiops-industrialization-bucket-ravi/chica...</td>\n",
       "      <td>gs://aiops-industrialization-bucket-ravi/chica...</td>\n",
       "    </tr>\n",
       "    <tr>\n",
       "      <th>param.tft_output_dir</th>\n",
       "      <td>gs://aiops-industrialization-bucket-ravi/chica...</td>\n",
       "      <td>NaN</td>\n",
       "      <td>NaN</td>\n",
       "      <td>gs://aiops-industrialization-bucket-ravi/chica...</td>\n",
       "      <td>gs://aiops-industrialization-bucket-ravi/chica...</td>\n",
       "      <td>gs://aiops-industrialization-bucket-ravi/chica...</td>\n",
       "      <td>gs://aiops-industrialization-bucket-ravi/chica...</td>\n",
       "      <td>gs://aiops-industrialization-bucket-ravi/chica...</td>\n",
       "      <td>NaN</td>\n",
       "      <td>NaN</td>\n",
       "      <td>NaN</td>\n",
       "    </tr>\n",
       "    <tr>\n",
       "      <th>param.train_data_dir</th>\n",
       "      <td>gs://aiops-industrialization-bucket-ravi/chica...</td>\n",
       "      <td>NaN</td>\n",
       "      <td>NaN</td>\n",
       "      <td>gs://aiops-industrialization-bucket-ravi/chica...</td>\n",
       "      <td>gs://aiops-industrialization-bucket-ravi/chica...</td>\n",
       "      <td>gs://aiops-industrialization-bucket-ravi/chica...</td>\n",
       "      <td>gs://aiops-industrialization-bucket-ravi/chica...</td>\n",
       "      <td>gs://aiops-industrialization-bucket-ravi/chica...</td>\n",
       "      <td>NaN</td>\n",
       "      <td>NaN</td>\n",
       "      <td>NaN</td>\n",
       "    </tr>\n",
       "    <tr>\n",
       "      <th>param.raw_data_query</th>\n",
       "      <td>\\n    SELECT \\n        IF(trip_month IS NULL, ...</td>\n",
       "      <td>\\n    SELECT \\n        IF(trip_month IS NULL, ...</td>\n",
       "      <td>NaN</td>\n",
       "      <td>\\n    SELECT \\n        IF(trip_month IS NULL, ...</td>\n",
       "      <td>NaN</td>\n",
       "      <td>NaN</td>\n",
       "      <td>NaN</td>\n",
       "      <td>\\n    SELECT \\n        IF(trip_month IS NULL, ...</td>\n",
       "      <td>\\n    SELECT \\n        IF(trip_month IS NULL, ...</td>\n",
       "      <td>\\n    SELECT \\n        IF(trip_month IS NULL, ...</td>\n",
       "      <td>\\n    SELECT \\n        IF(trip_month IS NULL, ...</td>\n",
       "    </tr>\n",
       "    <tr>\n",
       "      <th>param.num_epochs</th>\n",
       "      <td>5.0</td>\n",
       "      <td>5.0</td>\n",
       "      <td>NaN</td>\n",
       "      <td>5.0</td>\n",
       "      <td>10.0</td>\n",
       "      <td>10.0</td>\n",
       "      <td>10.0</td>\n",
       "      <td>5.0</td>\n",
       "      <td>5.0</td>\n",
       "      <td>5.0</td>\n",
       "      <td>5.0</td>\n",
       "    </tr>\n",
       "    <tr>\n",
       "      <th>metric.val_loss</th>\n",
       "      <td>NaN</td>\n",
       "      <td>0.277924</td>\n",
       "      <td>NaN</td>\n",
       "      <td>NaN</td>\n",
       "      <td>NaN</td>\n",
       "      <td>NaN</td>\n",
       "      <td>NaN</td>\n",
       "      <td>NaN</td>\n",
       "      <td>0.307602</td>\n",
       "      <td>NaN</td>\n",
       "      <td>NaN</td>\n",
       "    </tr>\n",
       "    <tr>\n",
       "      <th>metric.val_accuracy</th>\n",
       "      <td>NaN</td>\n",
       "      <td>0.886719</td>\n",
       "      <td>NaN</td>\n",
       "      <td>NaN</td>\n",
       "      <td>NaN</td>\n",
       "      <td>NaN</td>\n",
       "      <td>NaN</td>\n",
       "      <td>NaN</td>\n",
       "      <td>0.886719</td>\n",
       "      <td>NaN</td>\n",
       "      <td>NaN</td>\n",
       "    </tr>\n",
       "  </tbody>\n",
       "</table>\n",
       "</div>"
      ],
      "text/plain": [
       "                                                                              0   \\\n",
       "experiment_name                      chicago-taxi-tips-classifier-v01-experiment   \n",
       "run_name                                                  run-gcp-20210830103039   \n",
       "param.experiment_name                chicago-taxi-tips-classifier-v01-experiment   \n",
       "param.staging_bucket                         aiops-industrialization-bucket-ravi   \n",
       "param.batch_size                                                           512.0   \n",
       "param.gcs_location             gs://aiops-industrialization-bucket-ravi/chica...   \n",
       "param.eval_data_dir            gs://aiops-industrialization-bucket-ravi/chica...   \n",
       "param.region                                                         us-central1   \n",
       "param.model_dir                gs://aiops-industrialization-bucket-ravi/chica...   \n",
       "param.project                                            aiops-industrialization   \n",
       "param.log_dir                  gs://aiops-industrialization-bucket-ravi/chica...   \n",
       "param.hidden_units                                                  [32.0, 32.0]   \n",
       "param.exported_data_prefix     gs://aiops-industrialization-bucket-ravi/chica...   \n",
       "param.runner                                                      DataflowRunner   \n",
       "param.run_name                                            run-gcp-20210830103039   \n",
       "param.transformed_data_prefix  gs://aiops-industrialization-bucket-ravi/chica...   \n",
       "param.write_raw_data                                                       False   \n",
       "param.learning_rate                                                        0.001   \n",
       "param.temporary_dir            gs://aiops-industrialization-bucket-ravi/chica...   \n",
       "param.setup_file                                                      ./setup.py   \n",
       "param.transform_artifact_dir   gs://aiops-industrialization-bucket-ravi/chica...   \n",
       "param.tft_output_dir           gs://aiops-industrialization-bucket-ravi/chica...   \n",
       "param.train_data_dir           gs://aiops-industrialization-bucket-ravi/chica...   \n",
       "param.raw_data_query           \\n    SELECT \\n        IF(trip_month IS NULL, ...   \n",
       "param.num_epochs                                                             5.0   \n",
       "metric.val_loss                                                              NaN   \n",
       "metric.val_accuracy                                                          NaN   \n",
       "\n",
       "                                                                              1   \\\n",
       "experiment_name                      chicago-taxi-tips-classifier-v01-experiment   \n",
       "run_name                                                run-local-20210830101722   \n",
       "param.experiment_name                                                        NaN   \n",
       "param.staging_bucket                                                         NaN   \n",
       "param.batch_size                                                           512.0   \n",
       "param.gcs_location               gs://aiops-industrialization-bucket-ravi/bq_tmp   \n",
       "param.eval_data_dir                                                          NaN   \n",
       "param.region                                                                 NaN   \n",
       "param.model_dir                                                              NaN   \n",
       "param.project                                            aiops-industrialization   \n",
       "param.log_dir                                                                NaN   \n",
       "param.hidden_units                                                  [64.0, 32.0]   \n",
       "param.exported_data_prefix     gs://aiops-industrialization-bucket-ravi/chica...   \n",
       "param.runner                                                        DirectRunner   \n",
       "param.run_name                                                               NaN   \n",
       "param.transformed_data_prefix  gs://aiops-industrialization-bucket-ravi/chica...   \n",
       "param.write_raw_data                                                        True   \n",
       "param.learning_rate                                                        0.001   \n",
       "param.temporary_dir            gs://aiops-industrialization-bucket-ravi/chica...   \n",
       "param.setup_file                                                             NaN   \n",
       "param.transform_artifact_dir   gs://aiops-industrialization-bucket-ravi/chica...   \n",
       "param.tft_output_dir                                                         NaN   \n",
       "param.train_data_dir                                                         NaN   \n",
       "param.raw_data_query           \\n    SELECT \\n        IF(trip_month IS NULL, ...   \n",
       "param.num_epochs                                                             5.0   \n",
       "metric.val_loss                                                         0.277924   \n",
       "metric.val_accuracy                                                     0.886719   \n",
       "\n",
       "                                                                        2   \\\n",
       "experiment_name                chicago-taxi-tips-classifier-v01-experiment   \n",
       "run_name                                          run-local-20210830095506   \n",
       "param.experiment_name                                                  NaN   \n",
       "param.staging_bucket                                                   NaN   \n",
       "param.batch_size                                                       NaN   \n",
       "param.gcs_location                                                     NaN   \n",
       "param.eval_data_dir                                                    NaN   \n",
       "param.region                                                           NaN   \n",
       "param.model_dir                                                        NaN   \n",
       "param.project                                                          NaN   \n",
       "param.log_dir                                                          NaN   \n",
       "param.hidden_units                                                     NaN   \n",
       "param.exported_data_prefix                                             NaN   \n",
       "param.runner                                                           NaN   \n",
       "param.run_name                                                         NaN   \n",
       "param.transformed_data_prefix                                          NaN   \n",
       "param.write_raw_data                                                   NaN   \n",
       "param.learning_rate                                                    NaN   \n",
       "param.temporary_dir                                                    NaN   \n",
       "param.setup_file                                                       NaN   \n",
       "param.transform_artifact_dir                                           NaN   \n",
       "param.tft_output_dir                                                   NaN   \n",
       "param.train_data_dir                                                   NaN   \n",
       "param.raw_data_query                                                   NaN   \n",
       "param.num_epochs                                                       NaN   \n",
       "metric.val_loss                                                        NaN   \n",
       "metric.val_accuracy                                                    NaN   \n",
       "\n",
       "                                                                              3   \\\n",
       "experiment_name                      chicago-taxi-tips-classifier-v01-experiment   \n",
       "run_name                                                  run-gcp-20210830094226   \n",
       "param.experiment_name                chicago-taxi-tips-classifier-v01-experiment   \n",
       "param.staging_bucket                         aiops-industrialization-bucket-ravi   \n",
       "param.batch_size                                                           512.0   \n",
       "param.gcs_location             gs://aiops-industrialization-bucket-ravi/chica...   \n",
       "param.eval_data_dir            gs://aiops-industrialization-bucket-ravi/chica...   \n",
       "param.region                                                         us-central1   \n",
       "param.model_dir                gs://aiops-industrialization-bucket-ravi/chica...   \n",
       "param.project                                            aiops-industrialization   \n",
       "param.log_dir                  gs://aiops-industrialization-bucket-ravi/chica...   \n",
       "param.hidden_units                                                  [32.0, 32.0]   \n",
       "param.exported_data_prefix     gs://aiops-industrialization-bucket-ravi/chica...   \n",
       "param.runner                                                      DataflowRunner   \n",
       "param.run_name                                            run-gcp-20210830094226   \n",
       "param.transformed_data_prefix  gs://aiops-industrialization-bucket-ravi/chica...   \n",
       "param.write_raw_data                                                       False   \n",
       "param.learning_rate                                                        0.001   \n",
       "param.temporary_dir            gs://aiops-industrialization-bucket-ravi/chica...   \n",
       "param.setup_file                                                      ./setup.py   \n",
       "param.transform_artifact_dir   gs://aiops-industrialization-bucket-ravi/chica...   \n",
       "param.tft_output_dir           gs://aiops-industrialization-bucket-ravi/chica...   \n",
       "param.train_data_dir           gs://aiops-industrialization-bucket-ravi/chica...   \n",
       "param.raw_data_query           \\n    SELECT \\n        IF(trip_month IS NULL, ...   \n",
       "param.num_epochs                                                             5.0   \n",
       "metric.val_loss                                                              NaN   \n",
       "metric.val_accuracy                                                          NaN   \n",
       "\n",
       "                                                                              4   \\\n",
       "experiment_name                      chicago-taxi-tips-classifier-v01-experiment   \n",
       "run_name                                                  run-gcp-20210830083753   \n",
       "param.experiment_name                chicago-taxi-tips-classifier-v01-experiment   \n",
       "param.staging_bucket                         aiops-industrialization-bucket-ravi   \n",
       "param.batch_size                                                           512.0   \n",
       "param.gcs_location                                                           NaN   \n",
       "param.eval_data_dir            gs://aiops-industrialization-bucket-ravi/chica...   \n",
       "param.region                                                         us-central1   \n",
       "param.model_dir                gs://aiops-industrialization-bucket-ravi/chica...   \n",
       "param.project                                            aiops-industrialization   \n",
       "param.log_dir                  gs://aiops-industrialization-bucket-ravi/chica...   \n",
       "param.hidden_units                                                  [64.0, 32.0]   \n",
       "param.exported_data_prefix                                                   NaN   \n",
       "param.runner                                                                 NaN   \n",
       "param.run_name                                                              None   \n",
       "param.transformed_data_prefix                                                NaN   \n",
       "param.write_raw_data                                                         NaN   \n",
       "param.learning_rate                                                        0.001   \n",
       "param.temporary_dir                                                          NaN   \n",
       "param.setup_file                                                             NaN   \n",
       "param.transform_artifact_dir                                                 NaN   \n",
       "param.tft_output_dir           gs://aiops-industrialization-bucket-ravi/chica...   \n",
       "param.train_data_dir           gs://aiops-industrialization-bucket-ravi/chica...   \n",
       "param.raw_data_query                                                         NaN   \n",
       "param.num_epochs                                                            10.0   \n",
       "metric.val_loss                                                              NaN   \n",
       "metric.val_accuracy                                                          NaN   \n",
       "\n",
       "                                                                              5   \\\n",
       "experiment_name                      chicago-taxi-tips-classifier-v01-experiment   \n",
       "run_name                                                  run-gcp-20210830082942   \n",
       "param.experiment_name                chicago-taxi-tips-classifier-v01-experiment   \n",
       "param.staging_bucket                         aiops-industrialization-bucket-ravi   \n",
       "param.batch_size                                                           512.0   \n",
       "param.gcs_location                                                           NaN   \n",
       "param.eval_data_dir            gs://aiops-industrialization-bucket-ravi/chica...   \n",
       "param.region                                                         us-central1   \n",
       "param.model_dir                gs://aiops-industrialization-bucket-ravi/chica...   \n",
       "param.project                                            aiops-industrialization   \n",
       "param.log_dir                  gs://aiops-industrialization-bucket-ravi/chica...   \n",
       "param.hidden_units                                                  [64.0, 32.0]   \n",
       "param.exported_data_prefix                                                   NaN   \n",
       "param.runner                                                                 NaN   \n",
       "param.run_name                                                              None   \n",
       "param.transformed_data_prefix                                                NaN   \n",
       "param.write_raw_data                                                         NaN   \n",
       "param.learning_rate                                                        0.001   \n",
       "param.temporary_dir                                                          NaN   \n",
       "param.setup_file                                                             NaN   \n",
       "param.transform_artifact_dir                                                 NaN   \n",
       "param.tft_output_dir           gs://aiops-industrialization-bucket-ravi/chica...   \n",
       "param.train_data_dir           gs://aiops-industrialization-bucket-ravi/chica...   \n",
       "param.raw_data_query                                                         NaN   \n",
       "param.num_epochs                                                            10.0   \n",
       "metric.val_loss                                                              NaN   \n",
       "metric.val_accuracy                                                          NaN   \n",
       "\n",
       "                                                                              6   \\\n",
       "experiment_name                      chicago-taxi-tips-classifier-v01-experiment   \n",
       "run_name                                                  run-gcp-20210830073755   \n",
       "param.experiment_name                chicago-taxi-tips-classifier-v01-experiment   \n",
       "param.staging_bucket                         aiops-industrialization-bucket-ravi   \n",
       "param.batch_size                                                           512.0   \n",
       "param.gcs_location                                                           NaN   \n",
       "param.eval_data_dir            gs://aiops-industrialization-bucket-ravi/chica...   \n",
       "param.region                                                         us-central1   \n",
       "param.model_dir                gs://aiops-industrialization-bucket-ravi/chica...   \n",
       "param.project                                            aiops-industrialization   \n",
       "param.log_dir                  gs://aiops-industrialization-bucket-ravi/chica...   \n",
       "param.hidden_units                                                  [64.0, 32.0]   \n",
       "param.exported_data_prefix                                                   NaN   \n",
       "param.runner                                                                 NaN   \n",
       "param.run_name                                                              None   \n",
       "param.transformed_data_prefix                                                NaN   \n",
       "param.write_raw_data                                                         NaN   \n",
       "param.learning_rate                                                        0.001   \n",
       "param.temporary_dir                                                          NaN   \n",
       "param.setup_file                                                             NaN   \n",
       "param.transform_artifact_dir                                                 NaN   \n",
       "param.tft_output_dir           gs://aiops-industrialization-bucket-ravi/chica...   \n",
       "param.train_data_dir           gs://aiops-industrialization-bucket-ravi/chica...   \n",
       "param.raw_data_query                                                         NaN   \n",
       "param.num_epochs                                                            10.0   \n",
       "metric.val_loss                                                              NaN   \n",
       "metric.val_accuracy                                                          NaN   \n",
       "\n",
       "                                                                              7   \\\n",
       "experiment_name                      chicago-taxi-tips-classifier-v01-experiment   \n",
       "run_name                                                  run-gcp-20210830072352   \n",
       "param.experiment_name                chicago-taxi-tips-classifier-v01-experiment   \n",
       "param.staging_bucket                         aiops-industrialization-bucket-ravi   \n",
       "param.batch_size                                                           512.0   \n",
       "param.gcs_location             gs://aiops-industrialization-bucket-ravi/chica...   \n",
       "param.eval_data_dir            gs://aiops-industrialization-bucket-ravi/chica...   \n",
       "param.region                                                         us-central1   \n",
       "param.model_dir                gs://aiops-industrialization-bucket-ravi/chica...   \n",
       "param.project                                            aiops-industrialization   \n",
       "param.log_dir                  gs://aiops-industrialization-bucket-ravi/chica...   \n",
       "param.hidden_units                                                  [32.0, 32.0]   \n",
       "param.exported_data_prefix     gs://aiops-industrialization-bucket-ravi/chica...   \n",
       "param.runner                                                      DataflowRunner   \n",
       "param.run_name                                            run-gcp-20210830072352   \n",
       "param.transformed_data_prefix  gs://aiops-industrialization-bucket-ravi/chica...   \n",
       "param.write_raw_data                                                       False   \n",
       "param.learning_rate                                                        0.001   \n",
       "param.temporary_dir            gs://aiops-industrialization-bucket-ravi/chica...   \n",
       "param.setup_file                                                      ./setup.py   \n",
       "param.transform_artifact_dir   gs://aiops-industrialization-bucket-ravi/chica...   \n",
       "param.tft_output_dir           gs://aiops-industrialization-bucket-ravi/chica...   \n",
       "param.train_data_dir           gs://aiops-industrialization-bucket-ravi/chica...   \n",
       "param.raw_data_query           \\n    SELECT \\n        IF(trip_month IS NULL, ...   \n",
       "param.num_epochs                                                             5.0   \n",
       "metric.val_loss                                                              NaN   \n",
       "metric.val_accuracy                                                          NaN   \n",
       "\n",
       "                                                                              8   \\\n",
       "experiment_name                      chicago-taxi-tips-classifier-v01-experiment   \n",
       "run_name                                                run-local-20210830070546   \n",
       "param.experiment_name                                                        NaN   \n",
       "param.staging_bucket                                                         NaN   \n",
       "param.batch_size                                                           512.0   \n",
       "param.gcs_location               gs://aiops-industrialization-bucket-ravi/bq_tmp   \n",
       "param.eval_data_dir                                                          NaN   \n",
       "param.region                                                                 NaN   \n",
       "param.model_dir                                                              NaN   \n",
       "param.project                                            aiops-industrialization   \n",
       "param.log_dir                                                                NaN   \n",
       "param.hidden_units                                                  [64.0, 32.0]   \n",
       "param.exported_data_prefix     gs://aiops-industrialization-bucket-ravi/chica...   \n",
       "param.runner                                                        DirectRunner   \n",
       "param.run_name                                                               NaN   \n",
       "param.transformed_data_prefix  gs://aiops-industrialization-bucket-ravi/chica...   \n",
       "param.write_raw_data                                                        True   \n",
       "param.learning_rate                                                        0.001   \n",
       "param.temporary_dir            gs://aiops-industrialization-bucket-ravi/chica...   \n",
       "param.setup_file                                                             NaN   \n",
       "param.transform_artifact_dir   gs://aiops-industrialization-bucket-ravi/chica...   \n",
       "param.tft_output_dir                                                         NaN   \n",
       "param.train_data_dir                                                         NaN   \n",
       "param.raw_data_query           \\n    SELECT \\n        IF(trip_month IS NULL, ...   \n",
       "param.num_epochs                                                             5.0   \n",
       "metric.val_loss                                                         0.307602   \n",
       "metric.val_accuracy                                                     0.886719   \n",
       "\n",
       "                                                                              9   \\\n",
       "experiment_name                      chicago-taxi-tips-classifier-v01-experiment   \n",
       "run_name                                                run-local-20210830055520   \n",
       "param.experiment_name                                                        NaN   \n",
       "param.staging_bucket                                                         NaN   \n",
       "param.batch_size                                                           512.0   \n",
       "param.gcs_location               gs://aiops-industrialization-bucket-ravi/bq_tmp   \n",
       "param.eval_data_dir                                                          NaN   \n",
       "param.region                                                                 NaN   \n",
       "param.model_dir                                                              NaN   \n",
       "param.project                                            aiops-industrialization   \n",
       "param.log_dir                                                                NaN   \n",
       "param.hidden_units                                                  [64.0, 32.0]   \n",
       "param.exported_data_prefix     gs://aiops-industrialization-bucket-ravi/chica...   \n",
       "param.runner                                                        DirectRunner   \n",
       "param.run_name                                                               NaN   \n",
       "param.transformed_data_prefix  gs://aiops-industrialization-bucket-ravi/chica...   \n",
       "param.write_raw_data                                                        True   \n",
       "param.learning_rate                                                        0.001   \n",
       "param.temporary_dir            gs://aiops-industrialization-bucket-ravi/chica...   \n",
       "param.setup_file                                                             NaN   \n",
       "param.transform_artifact_dir   gs://aiops-industrialization-bucket-ravi/chica...   \n",
       "param.tft_output_dir                                                         NaN   \n",
       "param.train_data_dir                                                         NaN   \n",
       "param.raw_data_query           \\n    SELECT \\n        IF(trip_month IS NULL, ...   \n",
       "param.num_epochs                                                             5.0   \n",
       "metric.val_loss                                                              NaN   \n",
       "metric.val_accuracy                                                          NaN   \n",
       "\n",
       "                                                                              10  \n",
       "experiment_name                      chicago-taxi-tips-classifier-v01-experiment  \n",
       "run_name                                                run-local-20210827114240  \n",
       "param.experiment_name                                                        NaN  \n",
       "param.staging_bucket                                                         NaN  \n",
       "param.batch_size                                                           512.0  \n",
       "param.gcs_location               gs://aiops-industrialization-bucket-ravi/bq_tmp  \n",
       "param.eval_data_dir                                                          NaN  \n",
       "param.region                                                                 NaN  \n",
       "param.model_dir                                                              NaN  \n",
       "param.project                                            aiops-industrialization  \n",
       "param.log_dir                                                                NaN  \n",
       "param.hidden_units                                                  [64.0, 32.0]  \n",
       "param.exported_data_prefix     gs://aiops-industrialization-bucket-ravi/chica...  \n",
       "param.runner                                                        DirectRunner  \n",
       "param.run_name                                                               NaN  \n",
       "param.transformed_data_prefix  gs://aiops-industrialization-bucket-ravi/chica...  \n",
       "param.write_raw_data                                                        True  \n",
       "param.learning_rate                                                        0.001  \n",
       "param.temporary_dir            gs://aiops-industrialization-bucket-ravi/chica...  \n",
       "param.setup_file                                                             NaN  \n",
       "param.transform_artifact_dir   gs://aiops-industrialization-bucket-ravi/chica...  \n",
       "param.tft_output_dir                                                         NaN  \n",
       "param.train_data_dir                                                         NaN  \n",
       "param.raw_data_query           \\n    SELECT \\n        IF(trip_month IS NULL, ...  \n",
       "param.num_epochs                                                             5.0  \n",
       "metric.val_loss                                                              NaN  \n",
       "metric.val_accuracy                                                          NaN  "
      ]
     },
     "execution_count": 182,
     "metadata": {},
     "output_type": "execute_result"
    }
   ],
   "source": [
    "experiment_df = vertex_ai.get_experiment_df()\n",
    "experiment_df = experiment_df[experiment_df.experiment_name == EXPERIMENT_NAME]\n",
    "experiment_df.T"
   ]
  },
  {
   "cell_type": "code",
   "execution_count": 183,
   "id": "99a9e440",
   "metadata": {},
   "outputs": [
    {
     "name": "stdout",
     "output_type": "stream",
     "text": [
      "Vertex AI Experiments:\n",
      "https://console.cloud.google.com/vertex-ai/locationsus-central1/experiments/chicago-taxi-tips-classifier-v01-experiment/metrics?project=aiops-industrialization\n"
     ]
    }
   ],
   "source": [
    "print(\"Vertex AI Experiments:\")\n",
    "print(\n",
    "    f\"https://console.cloud.google.com/vertex-ai/locations{REGION}/experiments/{EXPERIMENT_NAME}/metrics?project={PROJECT}\"\n",
    ")"
   ]
  },
  {
   "cell_type": "code",
   "execution_count": null,
   "id": "f3f457fd",
   "metadata": {},
   "outputs": [],
   "source": []
  }
 ],
 "metadata": {
  "environment": {
   "name": "tf2-gpu.2-3.m78",
   "type": "gcloud",
   "uri": "gcr.io/deeplearning-platform-release/tf2-gpu.2-3:m78"
  },
  "kernelspec": {
   "display_name": "Python 3",
   "language": "python",
   "name": "python3"
  },
  "language_info": {
   "codemirror_mode": {
    "name": "ipython",
    "version": 3
   },
   "file_extension": ".py",
   "mimetype": "text/x-python",
   "name": "python",
   "nbconvert_exporter": "python",
   "pygments_lexer": "ipython3",
   "version": "3.7.10"
  }
 },
 "nbformat": 4,
 "nbformat_minor": 5
}
